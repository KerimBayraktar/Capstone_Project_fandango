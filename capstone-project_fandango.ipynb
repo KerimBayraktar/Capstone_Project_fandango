{
 "cells": [
  {
   "cell_type": "markdown",
   "id": "a61aeaa3",
   "metadata": {
    "papermill": {
     "duration": 0.066033,
     "end_time": "2021-11-09T09:37:05.601746",
     "exception": false,
     "start_time": "2021-11-09T09:37:05.535713",
     "status": "completed"
    },
    "tags": []
   },
   "source": [
    "<center><em>Copyright by Pierian Data Inc.</em></center>\n",
    "<center><em>For more information, visit us at <a href='http://www.pieriandata.com'>www.pieriandata.com</a></em></center>"
   ]
  },
  {
   "cell_type": "markdown",
   "id": "a1cce5ef",
   "metadata": {
    "papermill": {
     "duration": 0.121853,
     "end_time": "2021-11-09T09:37:05.789116",
     "exception": false,
     "start_time": "2021-11-09T09:37:05.667263",
     "status": "completed"
    },
    "tags": []
   },
   "source": [
    "# Capstone Project\n",
    "## Overview\n",
    "\n",
    "If you are planning on going out to see a movie, how well can you trust online reviews and ratings? *Especially* if the same company showing the rating *also* makes money by selling movie tickets. Do they have a bias towards rating movies higher than they should be rated?\n",
    "\n",
    "### Goal:\n",
    "\n",
    "**Your goal is to complete the tasks below based off the 538 article and see if you reach a similar conclusion. You will need to use your pandas and visualization skills to determine if Fandango's ratings in 2015 had a bias towards rating movies better to sell more tickets.**\n",
    "\n",
    "---\n",
    "---\n",
    "\n",
    "**Complete the tasks written in bold.**\n",
    "\n",
    "---\n",
    "----\n",
    "\n",
    "## Part One: Understanding the Background and Data\n",
    "\n",
    "\n",
    "**TASK: Read this article: [Be Suspicious Of Online Movie Ratings, Especially Fandango’s](http://fivethirtyeight.com/features/fandango-movies-ratings/)**"
   ]
  },
  {
   "cell_type": "markdown",
   "id": "019354cd",
   "metadata": {
    "papermill": {
     "duration": 0.066062,
     "end_time": "2021-11-09T09:37:05.919667",
     "exception": false,
     "start_time": "2021-11-09T09:37:05.853605",
     "status": "completed"
    },
    "tags": []
   },
   "source": [
    "----\n",
    "\n",
    "**TASK: After reading the article, read these two tables giving an overview of the two .csv files we will be working with:**\n",
    "\n",
    "### The Data\n",
    "\n",
    "This is the data behind the story [Be Suspicious Of Online Movie Ratings, Especially Fandango’s](http://fivethirtyeight.com/features/fandango-movies-ratings/) openly available on 538's github: https://github.com/fivethirtyeight/data. There are two csv files, one with Fandango Stars and Displayed Ratings, and the other with aggregate data for movie ratings from other sites, like Metacritic,IMDB, and Rotten Tomatoes.\n",
    "\n",
    "#### all_sites_scores.csv"
   ]
  },
  {
   "cell_type": "markdown",
   "id": "d3e03989",
   "metadata": {
    "papermill": {
     "duration": 0.064399,
     "end_time": "2021-11-09T09:37:06.048692",
     "exception": false,
     "start_time": "2021-11-09T09:37:05.984293",
     "status": "completed"
    },
    "tags": []
   },
   "source": [
    "-----\n",
    "\n",
    "`all_sites_scores.csv` contains every film that has a Rotten Tomatoes rating, a RT User rating, a Metacritic score, a Metacritic User score, and IMDb score, and at least 30 fan reviews on Fandango. The data from Fandango was pulled on Aug. 24, 2015."
   ]
  },
  {
   "cell_type": "markdown",
   "id": "7e4adc7c",
   "metadata": {
    "papermill": {
     "duration": 0.064074,
     "end_time": "2021-11-09T09:37:06.177523",
     "exception": false,
     "start_time": "2021-11-09T09:37:06.113449",
     "status": "completed"
    },
    "tags": []
   },
   "source": [
    "Column | Definition\n",
    "--- | -----------\n",
    "FILM | The film in question\n",
    "RottenTomatoes | The Rotten Tomatoes Tomatometer score  for the film\n",
    "RottenTomatoes_User | The Rotten Tomatoes user score for the film\n",
    "Metacritic | The Metacritic critic score for the film\n",
    "Metacritic_User | The Metacritic user score for the film\n",
    "IMDB | The IMDb user score for the film\n",
    "Metacritic_user_vote_count | The number of user votes the film had on Metacritic\n",
    "IMDB_user_vote_count | The number of user votes the film had on IMDb"
   ]
  },
  {
   "cell_type": "markdown",
   "id": "8176cbb7",
   "metadata": {
    "papermill": {
     "duration": 0.065135,
     "end_time": "2021-11-09T09:37:06.308540",
     "exception": false,
     "start_time": "2021-11-09T09:37:06.243405",
     "status": "completed"
    },
    "tags": []
   },
   "source": [
    "----\n",
    "----\n",
    "\n",
    "#### fandango_scape.csv"
   ]
  },
  {
   "cell_type": "markdown",
   "id": "b985bab6",
   "metadata": {
    "papermill": {
     "duration": 0.080001,
     "end_time": "2021-11-09T09:37:06.457961",
     "exception": false,
     "start_time": "2021-11-09T09:37:06.377960",
     "status": "completed"
    },
    "tags": []
   },
   "source": [
    "`fandango_scrape.csv` contains every film 538 pulled from Fandango.\n",
    "\n",
    "Column | Definiton\n",
    "--- | ---------\n",
    "FILM | The movie\n",
    "STARS | Number of stars presented on Fandango.com\n",
    "RATING |  The Fandango ratingValue for the film, as pulled from the HTML of each page. This is the actual average score the movie obtained.\n",
    "VOTES | number of people who had reviewed the film at the time we pulled it."
   ]
  },
  {
   "cell_type": "markdown",
   "id": "311a8683",
   "metadata": {
    "papermill": {
     "duration": 0.065342,
     "end_time": "2021-11-09T09:37:06.589748",
     "exception": false,
     "start_time": "2021-11-09T09:37:06.524406",
     "status": "completed"
    },
    "tags": []
   },
   "source": [
    "----\n",
    "\n",
    "**TASK: Import any libraries you think you will use:**"
   ]
  },
  {
   "cell_type": "code",
   "execution_count": 1,
   "id": "feab134b",
   "metadata": {
    "execution": {
     "iopub.execute_input": "2021-11-09T09:37:06.731536Z",
     "iopub.status.busy": "2021-11-09T09:37:06.730949Z",
     "iopub.status.idle": "2021-11-09T09:37:06.734212Z",
     "shell.execute_reply": "2021-11-09T09:37:06.734755Z",
     "shell.execute_reply.started": "2021-11-09T08:19:31.853843Z"
    },
    "papermill": {
     "duration": 0.080642,
     "end_time": "2021-11-09T09:37:06.735046",
     "exception": false,
     "start_time": "2021-11-09T09:37:06.654404",
     "status": "completed"
    },
    "tags": []
   },
   "outputs": [],
   "source": [
    "# IMPORT HERE!"
   ]
  },
  {
   "cell_type": "code",
   "execution_count": 2,
   "id": "dce2bc1d",
   "metadata": {
    "execution": {
     "iopub.execute_input": "2021-11-09T09:37:06.877465Z",
     "iopub.status.busy": "2021-11-09T09:37:06.876718Z",
     "iopub.status.idle": "2021-11-09T09:37:07.718490Z",
     "shell.execute_reply": "2021-11-09T09:37:07.719197Z",
     "shell.execute_reply.started": "2021-11-09T08:19:31.859571Z"
    },
    "papermill": {
     "duration": 0.917766,
     "end_time": "2021-11-09T09:37:07.719442",
     "exception": false,
     "start_time": "2021-11-09T09:37:06.801676",
     "status": "completed"
    },
    "tags": []
   },
   "outputs": [],
   "source": [
    "# This Python 3 environment comes with many helpful analytics libraries installed\n",
    "# It is defined by the kaggle/python Docker image: https://github.com/kaggle/docker-python\n",
    "# For example, here's several helpful packages to load\n",
    "\n",
    "import numpy as np # linear algebra\n",
    "import pandas as pd # data processing, CSV file I/O (e.g. pd.read_csv)\n",
    "import matplotlib.pyplot as plt\n",
    "import seaborn as sns\n",
    "# Input data files are available in the read-only \"../input/\" directory\n",
    "# For example, running this (by clicking run or pressing Shift+Enter) will list all files under the input directory\n",
    "\n",
    "import os\n",
    "for dirname, _, filenames in os.walk('/kaggle/input'):\n",
    "    for filename in filenames:\n",
    "        print(os.path.join(dirname, filename))\n",
    "\n",
    "# You can write up to 20GB to the current directory (/kaggle/working/) that gets preserved as output when you create a version using \"Save & Run All\" \n",
    "# You can also write temporary files to /kaggle/temp/, but they won't be saved outside of the current session"
   ]
  },
  {
   "cell_type": "markdown",
   "id": "245738cb",
   "metadata": {
    "papermill": {
     "duration": 0.064709,
     "end_time": "2021-11-09T09:37:07.851357",
     "exception": false,
     "start_time": "2021-11-09T09:37:07.786648",
     "status": "completed"
    },
    "tags": []
   },
   "source": [
    "## Part Two: Exploring Fandango Displayed Scores versus True User Ratings\n",
    "\n",
    "Let's first explore the Fandango ratings to see if our analysis agrees with the article's conclusion.\n",
    "\n",
    "**TASK: Run the cell below to read in the fandango_scrape.csv file**"
   ]
  },
  {
   "cell_type": "code",
   "execution_count": 3,
   "id": "70110bdb",
   "metadata": {
    "execution": {
     "iopub.execute_input": "2021-11-09T09:37:07.984097Z",
     "iopub.status.busy": "2021-11-09T09:37:07.983469Z",
     "iopub.status.idle": "2021-11-09T09:37:07.999309Z",
     "shell.execute_reply": "2021-11-09T09:37:07.999754Z",
     "shell.execute_reply.started": "2021-11-09T08:19:32.913631Z"
    },
    "papermill": {
     "duration": 0.083842,
     "end_time": "2021-11-09T09:37:07.999951",
     "exception": false,
     "start_time": "2021-11-09T09:37:07.916109",
     "status": "completed"
    },
    "tags": []
   },
   "outputs": [],
   "source": [
    "fandango = pd.read_csv(\"fandango_scrape.csv\")"
   ]
  },
  {
   "cell_type": "markdown",
   "id": "be666531",
   "metadata": {
    "papermill": {
     "duration": 0.065036,
     "end_time": "2021-11-09T09:37:08.130954",
     "exception": false,
     "start_time": "2021-11-09T09:37:08.065918",
     "status": "completed"
    },
    "tags": []
   },
   "source": [
    "**TASK: Explore the DataFrame Properties and Head.**"
   ]
  },
  {
   "cell_type": "code",
   "execution_count": 4,
   "id": "08c71e21",
   "metadata": {
    "execution": {
     "iopub.execute_input": "2021-11-09T09:37:08.269471Z",
     "iopub.status.busy": "2021-11-09T09:37:08.264310Z",
     "iopub.status.idle": "2021-11-09T09:37:08.282291Z",
     "shell.execute_reply": "2021-11-09T09:37:08.282766Z",
     "shell.execute_reply.started": "2021-11-09T08:19:32.935540Z"
    },
    "papermill": {
     "duration": 0.08724,
     "end_time": "2021-11-09T09:37:08.282942",
     "exception": false,
     "start_time": "2021-11-09T09:37:08.195702",
     "status": "completed"
    },
    "tags": []
   },
   "outputs": [
    {
     "data": {
      "text/html": [
       "<div><div id=471750fe-6a83-4248-966d-025e4ac7c3c5 style=\"display:none; background-color:#9D6CFF; color:white; width:200px; height:30px; padding-left:5px; border-radius:4px; flex-direction:row; justify-content:space-around; align-items:center;\" onmouseover=\"this.style.backgroundColor='#BA9BF8'\" onmouseout=\"this.style.backgroundColor='#9D6CFF'\" onclick=\"window.commands?.execute('create-mitosheet-from-dataframe-output');\">See Full Dataframe in Mito</div> <script> if (window.commands?.hasCommand('create-mitosheet-from-dataframe-output')) document.getElementById('471750fe-6a83-4248-966d-025e4ac7c3c5').style.display = 'flex' </script> <table border=\"1\" class=\"dataframe\">\n",
       "  <thead>\n",
       "    <tr style=\"text-align: right;\">\n",
       "      <th></th>\n",
       "      <th>FILM</th>\n",
       "      <th>STARS</th>\n",
       "      <th>RATING</th>\n",
       "      <th>VOTES</th>\n",
       "    </tr>\n",
       "  </thead>\n",
       "  <tbody>\n",
       "    <tr>\n",
       "      <th>0</th>\n",
       "      <td>Fifty Shades of Grey (2015)</td>\n",
       "      <td>4.0</td>\n",
       "      <td>3.9</td>\n",
       "      <td>34846</td>\n",
       "    </tr>\n",
       "    <tr>\n",
       "      <th>1</th>\n",
       "      <td>Jurassic World (2015)</td>\n",
       "      <td>4.5</td>\n",
       "      <td>4.5</td>\n",
       "      <td>34390</td>\n",
       "    </tr>\n",
       "    <tr>\n",
       "      <th>2</th>\n",
       "      <td>American Sniper (2015)</td>\n",
       "      <td>5.0</td>\n",
       "      <td>4.8</td>\n",
       "      <td>34085</td>\n",
       "    </tr>\n",
       "    <tr>\n",
       "      <th>3</th>\n",
       "      <td>Furious 7 (2015)</td>\n",
       "      <td>5.0</td>\n",
       "      <td>4.8</td>\n",
       "      <td>33538</td>\n",
       "    </tr>\n",
       "    <tr>\n",
       "      <th>4</th>\n",
       "      <td>Inside Out (2015)</td>\n",
       "      <td>4.5</td>\n",
       "      <td>4.5</td>\n",
       "      <td>15749</td>\n",
       "    </tr>\n",
       "  </tbody>\n",
       "</table></div>"
      ],
      "text/plain": [
       "                          FILM  STARS  RATING  VOTES\n",
       "0  Fifty Shades of Grey (2015)    4.0     3.9  34846\n",
       "1        Jurassic World (2015)    4.5     4.5  34390\n",
       "2       American Sniper (2015)    5.0     4.8  34085\n",
       "3             Furious 7 (2015)    5.0     4.8  33538\n",
       "4            Inside Out (2015)    4.5     4.5  15749"
      ]
     },
     "execution_count": 4,
     "metadata": {},
     "output_type": "execute_result"
    }
   ],
   "source": [
    "fandango.head()"
   ]
  },
  {
   "cell_type": "code",
   "execution_count": 5,
   "id": "24ec3615",
   "metadata": {
    "execution": {
     "iopub.execute_input": "2021-11-09T09:37:08.437654Z",
     "iopub.status.busy": "2021-11-09T09:37:08.437013Z",
     "iopub.status.idle": "2021-11-09T09:37:08.461931Z",
     "shell.execute_reply": "2021-11-09T09:37:08.462584Z",
     "shell.execute_reply.started": "2021-11-09T08:19:32.967152Z"
    },
    "papermill": {
     "duration": 0.110616,
     "end_time": "2021-11-09T09:37:08.462838",
     "exception": false,
     "start_time": "2021-11-09T09:37:08.352222",
     "status": "completed"
    },
    "tags": []
   },
   "outputs": [
    {
     "name": "stdout",
     "output_type": "stream",
     "text": [
      "<class 'pandas.core.frame.DataFrame'>\n",
      "RangeIndex: 504 entries, 0 to 503\n",
      "Data columns (total 4 columns):\n",
      " #   Column  Non-Null Count  Dtype  \n",
      "---  ------  --------------  -----  \n",
      " 0   FILM    504 non-null    object \n",
      " 1   STARS   504 non-null    float64\n",
      " 2   RATING  504 non-null    float64\n",
      " 3   VOTES   504 non-null    int64  \n",
      "dtypes: float64(2), int64(1), object(1)\n",
      "memory usage: 15.9+ KB\n"
     ]
    }
   ],
   "source": [
    "fandango.info()"
   ]
  },
  {
   "cell_type": "code",
   "execution_count": 6,
   "id": "1bc8f1d8",
   "metadata": {
    "execution": {
     "iopub.execute_input": "2021-11-09T09:37:08.599832Z",
     "iopub.status.busy": "2021-11-09T09:37:08.599247Z",
     "iopub.status.idle": "2021-11-09T09:37:08.619036Z",
     "shell.execute_reply": "2021-11-09T09:37:08.618503Z",
     "shell.execute_reply.started": "2021-11-09T08:19:32.992851Z"
    },
    "papermill": {
     "duration": 0.087996,
     "end_time": "2021-11-09T09:37:08.619189",
     "exception": false,
     "start_time": "2021-11-09T09:37:08.531193",
     "status": "completed"
    },
    "tags": []
   },
   "outputs": [
    {
     "data": {
      "text/html": [
       "<div><div id=cb67b8f7-8f91-40db-a3af-86010782adb8 style=\"display:none; background-color:#9D6CFF; color:white; width:200px; height:30px; padding-left:5px; border-radius:4px; flex-direction:row; justify-content:space-around; align-items:center;\" onmouseover=\"this.style.backgroundColor='#BA9BF8'\" onmouseout=\"this.style.backgroundColor='#9D6CFF'\" onclick=\"window.commands?.execute('create-mitosheet-from-dataframe-output');\">See Full Dataframe in Mito</div> <script> if (window.commands?.hasCommand('create-mitosheet-from-dataframe-output')) document.getElementById('cb67b8f7-8f91-40db-a3af-86010782adb8').style.display = 'flex' </script> <table border=\"1\" class=\"dataframe\">\n",
       "  <thead>\n",
       "    <tr style=\"text-align: right;\">\n",
       "      <th></th>\n",
       "      <th>STARS</th>\n",
       "      <th>RATING</th>\n",
       "      <th>VOTES</th>\n",
       "    </tr>\n",
       "  </thead>\n",
       "  <tbody>\n",
       "    <tr>\n",
       "      <th>count</th>\n",
       "      <td>504.000000</td>\n",
       "      <td>504.000000</td>\n",
       "      <td>504.000000</td>\n",
       "    </tr>\n",
       "    <tr>\n",
       "      <th>mean</th>\n",
       "      <td>3.558532</td>\n",
       "      <td>3.375794</td>\n",
       "      <td>1147.863095</td>\n",
       "    </tr>\n",
       "    <tr>\n",
       "      <th>std</th>\n",
       "      <td>1.563133</td>\n",
       "      <td>1.491223</td>\n",
       "      <td>3830.583136</td>\n",
       "    </tr>\n",
       "    <tr>\n",
       "      <th>min</th>\n",
       "      <td>0.000000</td>\n",
       "      <td>0.000000</td>\n",
       "      <td>0.000000</td>\n",
       "    </tr>\n",
       "    <tr>\n",
       "      <th>25%</th>\n",
       "      <td>3.500000</td>\n",
       "      <td>3.100000</td>\n",
       "      <td>3.000000</td>\n",
       "    </tr>\n",
       "    <tr>\n",
       "      <th>50%</th>\n",
       "      <td>4.000000</td>\n",
       "      <td>3.800000</td>\n",
       "      <td>18.500000</td>\n",
       "    </tr>\n",
       "    <tr>\n",
       "      <th>75%</th>\n",
       "      <td>4.500000</td>\n",
       "      <td>4.300000</td>\n",
       "      <td>189.750000</td>\n",
       "    </tr>\n",
       "    <tr>\n",
       "      <th>max</th>\n",
       "      <td>5.000000</td>\n",
       "      <td>5.000000</td>\n",
       "      <td>34846.000000</td>\n",
       "    </tr>\n",
       "  </tbody>\n",
       "</table></div>"
      ],
      "text/plain": [
       "            STARS      RATING         VOTES\n",
       "count  504.000000  504.000000    504.000000\n",
       "mean     3.558532    3.375794   1147.863095\n",
       "std      1.563133    1.491223   3830.583136\n",
       "min      0.000000    0.000000      0.000000\n",
       "25%      3.500000    3.100000      3.000000\n",
       "50%      4.000000    3.800000     18.500000\n",
       "75%      4.500000    4.300000    189.750000\n",
       "max      5.000000    5.000000  34846.000000"
      ]
     },
     "execution_count": 6,
     "metadata": {},
     "output_type": "execute_result"
    }
   ],
   "source": [
    "fandango.describe()"
   ]
  },
  {
   "cell_type": "markdown",
   "id": "699273f4",
   "metadata": {
    "papermill": {
     "duration": 0.065592,
     "end_time": "2021-11-09T09:37:08.751619",
     "exception": false,
     "start_time": "2021-11-09T09:37:08.686027",
     "status": "completed"
    },
    "tags": []
   },
   "source": [
    "**TASK: Let's explore the relationship between popularity of a film and its rating. Create a scatterplot showing the relationship between rating and votes. Feel free to edit visual styling to your preference.**"
   ]
  },
  {
   "cell_type": "code",
   "execution_count": null,
   "id": "e7f1f949",
   "metadata": {
    "execution": {
     "iopub.execute_input": "2021-11-09T09:37:08.887407Z",
     "iopub.status.busy": "2021-11-09T09:37:08.886730Z",
     "iopub.status.idle": "2021-11-09T09:37:08.888529Z",
     "shell.execute_reply": "2021-11-09T09:37:08.888972Z",
     "shell.execute_reply.started": "2021-11-09T08:19:33.026137Z"
    },
    "papermill": {
     "duration": 0.072037,
     "end_time": "2021-11-09T09:37:08.889151",
     "exception": false,
     "start_time": "2021-11-09T09:37:08.817114",
     "status": "completed"
    },
    "tags": []
   },
   "outputs": [],
   "source": [
    "# CODE HERE"
   ]
  },
  {
   "cell_type": "code",
   "execution_count": 8,
   "id": "a63be5fb",
   "metadata": {
    "execution": {
     "iopub.execute_input": "2021-11-09T09:37:09.025358Z",
     "iopub.status.busy": "2021-11-09T09:37:09.024654Z",
     "iopub.status.idle": "2021-11-09T09:37:09.425398Z",
     "shell.execute_reply": "2021-11-09T09:37:09.425991Z",
     "shell.execute_reply.started": "2021-11-09T08:19:33.030653Z"
    },
    "papermill": {
     "duration": 0.470683,
     "end_time": "2021-11-09T09:37:09.426163",
     "exception": false,
     "start_time": "2021-11-09T09:37:08.955480",
     "status": "completed"
    },
    "tags": []
   },
   "outputs": [
    {
     "data": {
      "image/png": "[encoded data removed]",
      "text/plain": [
       "<Figure size 1200x600 with 1 Axes>"
      ]
     },
     "metadata": {},
     "output_type": "display_data"
    }
   ],
   "source": [
    "plt.figure(figsize=(8,4), dpi=150)\n",
    "sns.scatterplot(data=fandango, y='VOTES', x='RATING');"
   ]
  },
  {
   "cell_type": "markdown",
   "id": "ed7f13ff",
   "metadata": {
    "papermill": {
     "duration": 0.067259,
     "end_time": "2021-11-09T09:37:09.562589",
     "exception": false,
     "start_time": "2021-11-09T09:37:09.495330",
     "status": "completed"
    },
    "tags": []
   },
   "source": [
    "**TASK: Calculate the correlation between the columns:**"
   ]
  },
  {
   "cell_type": "code",
   "execution_count": null,
   "id": "9a09547b",
   "metadata": {
    "execution": {
     "iopub.execute_input": "2021-11-09T09:37:09.701875Z",
     "iopub.status.busy": "2021-11-09T09:37:09.701296Z",
     "iopub.status.idle": "2021-11-09T09:37:09.703951Z",
     "shell.execute_reply": "2021-11-09T09:37:09.704472Z",
     "shell.execute_reply.started": "2021-11-09T08:19:33.351615Z"
    },
    "papermill": {
     "duration": 0.073307,
     "end_time": "2021-11-09T09:37:09.704633",
     "exception": false,
     "start_time": "2021-11-09T09:37:09.631326",
     "status": "completed"
    },
    "tags": []
   },
   "outputs": [],
   "source": [
    "# CODE HERE"
   ]
  },
  {
   "cell_type": "code",
   "execution_count": 9,
   "id": "ed334742",
   "metadata": {
    "execution": {
     "iopub.execute_input": "2021-11-09T09:37:09.843366Z",
     "iopub.status.busy": "2021-11-09T09:37:09.842748Z",
     "iopub.status.idle": "2021-11-09T09:37:09.853755Z",
     "shell.execute_reply": "2021-11-09T09:37:09.854299Z",
     "shell.execute_reply.started": "2021-11-09T08:19:33.358264Z"
    },
    "papermill": {
     "duration": 0.081916,
     "end_time": "2021-11-09T09:37:09.854463",
     "exception": false,
     "start_time": "2021-11-09T09:37:09.772547",
     "status": "completed"
    },
    "tags": []
   },
   "outputs": [
    {
     "name": "stderr",
     "output_type": "stream",
     "text": [
      "C:\\Users\\kbker\\AppData\\Local\\Temp\\ipykernel_2272\\1316820973.py:1: FutureWarning: The default value of numeric_only in DataFrame.corr is deprecated. In a future version, it will default to False. Select only valid columns or specify the value of numeric_only to silence this warning.\n",
      "  fandango.corr()\n"
     ]
    },
    {
     "data": {
      "text/html": [
       "<div><div id=b9d4cf77-afbb-45d5-8154-6b13454a5f99 style=\"display:none; background-color:#9D6CFF; color:white; width:200px; height:30px; padding-left:5px; border-radius:4px; flex-direction:row; justify-content:space-around; align-items:center;\" onmouseover=\"this.style.backgroundColor='#BA9BF8'\" onmouseout=\"this.style.backgroundColor='#9D6CFF'\" onclick=\"window.commands?.execute('create-mitosheet-from-dataframe-output');\">See Full Dataframe in Mito</div> <script> if (window.commands?.hasCommand('create-mitosheet-from-dataframe-output')) document.getElementById('b9d4cf77-afbb-45d5-8154-6b13454a5f99').style.display = 'flex' </script> <table border=\"1\" class=\"dataframe\">\n",
       "  <thead>\n",
       "    <tr style=\"text-align: right;\">\n",
       "      <th></th>\n",
       "      <th>STARS</th>\n",
       "      <th>RATING</th>\n",
       "      <th>VOTES</th>\n",
       "    </tr>\n",
       "  </thead>\n",
       "  <tbody>\n",
       "    <tr>\n",
       "      <th>STARS</th>\n",
       "      <td>1.000000</td>\n",
       "      <td>0.994696</td>\n",
       "      <td>0.164218</td>\n",
       "    </tr>\n",
       "    <tr>\n",
       "      <th>RATING</th>\n",
       "      <td>0.994696</td>\n",
       "      <td>1.000000</td>\n",
       "      <td>0.163764</td>\n",
       "    </tr>\n",
       "    <tr>\n",
       "      <th>VOTES</th>\n",
       "      <td>0.164218</td>\n",
       "      <td>0.163764</td>\n",
       "      <td>1.000000</td>\n",
       "    </tr>\n",
       "  </tbody>\n",
       "</table></div>"
      ],
      "text/plain": [
       "           STARS    RATING     VOTES\n",
       "STARS   1.000000  0.994696  0.164218\n",
       "RATING  0.994696  1.000000  0.163764\n",
       "VOTES   0.164218  0.163764  1.000000"
      ]
     },
     "execution_count": 9,
     "metadata": {},
     "output_type": "execute_result"
    }
   ],
   "source": [
    "fandango.corr()"
   ]
  },
  {
   "cell_type": "markdown",
   "id": "c1fa9b38",
   "metadata": {
    "papermill": {
     "duration": 0.0677,
     "end_time": "2021-11-09T09:37:09.990277",
     "exception": false,
     "start_time": "2021-11-09T09:37:09.922577",
     "status": "completed"
    },
    "tags": []
   },
   "source": [
    "**TASK: Assuming that every row in the FILM title column has the same format:**\n",
    "\n",
    "    Film Title Name (Year)\n",
    "    \n",
    "**Create a new column that is able to strip the year from the title strings and set this new column as YEAR**"
   ]
  },
  {
   "cell_type": "code",
   "execution_count": 10,
   "id": "4b8ffd61",
   "metadata": {
    "execution": {
     "iopub.execute_input": "2021-11-09T09:37:10.129422Z",
     "iopub.status.busy": "2021-11-09T09:37:10.128818Z",
     "iopub.status.idle": "2021-11-09T09:37:10.133428Z",
     "shell.execute_reply": "2021-11-09T09:37:10.134018Z",
     "shell.execute_reply.started": "2021-11-09T08:19:33.378245Z"
    },
    "papermill": {
     "duration": 0.075583,
     "end_time": "2021-11-09T09:37:10.134195",
     "exception": false,
     "start_time": "2021-11-09T09:37:10.058612",
     "status": "completed"
    },
    "tags": []
   },
   "outputs": [
    {
     "data": {
      "text/plain": [
       "'Year'"
      ]
     },
     "execution_count": 10,
     "metadata": {},
     "output_type": "execute_result"
    }
   ],
   "source": [
    "# CODE HERE\n",
    "title = 'Film Title Name (Year)'\n",
    "title.split('(')[-1].replace(')','')"
   ]
  },
  {
   "cell_type": "code",
   "execution_count": 11,
   "id": "634569cc",
   "metadata": {
    "execution": {
     "iopub.execute_input": "2021-11-09T09:37:10.274495Z",
     "iopub.status.busy": "2021-11-09T09:37:10.273879Z",
     "iopub.status.idle": "2021-11-09T09:37:10.288817Z",
     "shell.execute_reply": "2021-11-09T09:37:10.289346Z",
     "shell.execute_reply.started": "2021-11-09T08:19:33.394370Z"
    },
    "papermill": {
     "duration": 0.087043,
     "end_time": "2021-11-09T09:37:10.289663",
     "exception": false,
     "start_time": "2021-11-09T09:37:10.202620",
     "status": "completed"
    },
    "tags": []
   },
   "outputs": [
    {
     "data": {
      "text/html": [
       "<div><div id=48687a74-7d1e-4c1a-960a-2872f55c2c26 style=\"display:none; background-color:#9D6CFF; color:white; width:200px; height:30px; padding-left:5px; border-radius:4px; flex-direction:row; justify-content:space-around; align-items:center;\" onmouseover=\"this.style.backgroundColor='#BA9BF8'\" onmouseout=\"this.style.backgroundColor='#9D6CFF'\" onclick=\"window.commands?.execute('create-mitosheet-from-dataframe-output');\">See Full Dataframe in Mito</div> <script> if (window.commands?.hasCommand('create-mitosheet-from-dataframe-output')) document.getElementById('48687a74-7d1e-4c1a-960a-2872f55c2c26').style.display = 'flex' </script> <table border=\"1\" class=\"dataframe\">\n",
       "  <thead>\n",
       "    <tr style=\"text-align: right;\">\n",
       "      <th></th>\n",
       "      <th>FILM</th>\n",
       "      <th>STARS</th>\n",
       "      <th>RATING</th>\n",
       "      <th>VOTES</th>\n",
       "      <th>YEAR</th>\n",
       "    </tr>\n",
       "  </thead>\n",
       "  <tbody>\n",
       "    <tr>\n",
       "      <th>0</th>\n",
       "      <td>Fifty Shades of Grey (2015)</td>\n",
       "      <td>4.0</td>\n",
       "      <td>3.9</td>\n",
       "      <td>34846</td>\n",
       "      <td>2015</td>\n",
       "    </tr>\n",
       "    <tr>\n",
       "      <th>1</th>\n",
       "      <td>Jurassic World (2015)</td>\n",
       "      <td>4.5</td>\n",
       "      <td>4.5</td>\n",
       "      <td>34390</td>\n",
       "      <td>2015</td>\n",
       "    </tr>\n",
       "    <tr>\n",
       "      <th>2</th>\n",
       "      <td>American Sniper (2015)</td>\n",
       "      <td>5.0</td>\n",
       "      <td>4.8</td>\n",
       "      <td>34085</td>\n",
       "      <td>2015</td>\n",
       "    </tr>\n",
       "    <tr>\n",
       "      <th>3</th>\n",
       "      <td>Furious 7 (2015)</td>\n",
       "      <td>5.0</td>\n",
       "      <td>4.8</td>\n",
       "      <td>33538</td>\n",
       "      <td>2015</td>\n",
       "    </tr>\n",
       "    <tr>\n",
       "      <th>4</th>\n",
       "      <td>Inside Out (2015)</td>\n",
       "      <td>4.5</td>\n",
       "      <td>4.5</td>\n",
       "      <td>15749</td>\n",
       "      <td>2015</td>\n",
       "    </tr>\n",
       "    <tr>\n",
       "      <th>...</th>\n",
       "      <td>...</td>\n",
       "      <td>...</td>\n",
       "      <td>...</td>\n",
       "      <td>...</td>\n",
       "      <td>...</td>\n",
       "    </tr>\n",
       "    <tr>\n",
       "      <th>499</th>\n",
       "      <td>Valiyavan (2015)</td>\n",
       "      <td>0.0</td>\n",
       "      <td>0.0</td>\n",
       "      <td>0</td>\n",
       "      <td>2015</td>\n",
       "    </tr>\n",
       "    <tr>\n",
       "      <th>500</th>\n",
       "      <td>WWE SummerSlam 2015 (2015)</td>\n",
       "      <td>0.0</td>\n",
       "      <td>0.0</td>\n",
       "      <td>0</td>\n",
       "      <td>2015</td>\n",
       "    </tr>\n",
       "    <tr>\n",
       "      <th>501</th>\n",
       "      <td>Yagavarayinum Naa Kaakka (2015)</td>\n",
       "      <td>0.0</td>\n",
       "      <td>0.0</td>\n",
       "      <td>0</td>\n",
       "      <td>2015</td>\n",
       "    </tr>\n",
       "    <tr>\n",
       "      <th>502</th>\n",
       "      <td>Yesterday, Today and Tomorrow (1964)</td>\n",
       "      <td>0.0</td>\n",
       "      <td>0.0</td>\n",
       "      <td>0</td>\n",
       "      <td>1964</td>\n",
       "    </tr>\n",
       "    <tr>\n",
       "      <th>503</th>\n",
       "      <td>Zarafa (2012)</td>\n",
       "      <td>0.0</td>\n",
       "      <td>0.0</td>\n",
       "      <td>0</td>\n",
       "      <td>2012</td>\n",
       "    </tr>\n",
       "  </tbody>\n",
       "</table></div>"
      ],
      "text/plain": [
       "                                     FILM  STARS  RATING  VOTES  YEAR\n",
       "0             Fifty Shades of Grey (2015)    4.0     3.9  34846  2015\n",
       "1                   Jurassic World (2015)    4.5     4.5  34390  2015\n",
       "2                  American Sniper (2015)    5.0     4.8  34085  2015\n",
       "3                        Furious 7 (2015)    5.0     4.8  33538  2015\n",
       "4                       Inside Out (2015)    4.5     4.5  15749  2015\n",
       "..                                    ...    ...     ...    ...   ...\n",
       "499                      Valiyavan (2015)    0.0     0.0      0  2015\n",
       "500            WWE SummerSlam 2015 (2015)    0.0     0.0      0  2015\n",
       "501       Yagavarayinum Naa Kaakka (2015)    0.0     0.0      0  2015\n",
       "502  Yesterday, Today and Tomorrow (1964)    0.0     0.0      0  1964\n",
       "503                         Zarafa (2012)    0.0     0.0      0  2012\n",
       "\n",
       "[504 rows x 5 columns]"
      ]
     },
     "execution_count": 11,
     "metadata": {},
     "output_type": "execute_result"
    }
   ],
   "source": [
    "fandango['YEAR'] = fandango['FILM'].apply(lambda title: title.split('(')[-1].replace(')',''))\n",
    "fandango"
   ]
  },
  {
   "cell_type": "markdown",
   "id": "bd719fee",
   "metadata": {
    "papermill": {
     "duration": 0.068861,
     "end_time": "2021-11-09T09:37:10.427475",
     "exception": false,
     "start_time": "2021-11-09T09:37:10.358614",
     "status": "completed"
    },
    "tags": []
   },
   "source": [
    "**TASK: How many movies are in the Fandango DataFrame per year?**"
   ]
  },
  {
   "cell_type": "code",
   "execution_count": null,
   "id": "d414d1af",
   "metadata": {
    "execution": {
     "iopub.execute_input": "2021-11-09T09:37:10.568407Z",
     "iopub.status.busy": "2021-11-09T09:37:10.567810Z",
     "iopub.status.idle": "2021-11-09T09:37:10.570574Z",
     "shell.execute_reply": "2021-11-09T09:37:10.571083Z",
     "shell.execute_reply.started": "2021-11-09T08:19:33.528903Z"
    },
    "papermill": {
     "duration": 0.074362,
     "end_time": "2021-11-09T09:37:10.571255",
     "exception": false,
     "start_time": "2021-11-09T09:37:10.496893",
     "status": "completed"
    },
    "tags": []
   },
   "outputs": [],
   "source": [
    "#CODE HERE"
   ]
  },
  {
   "cell_type": "code",
   "execution_count": 12,
   "id": "edee8c17",
   "metadata": {
    "execution": {
     "iopub.execute_input": "2021-11-09T09:37:10.713997Z",
     "iopub.status.busy": "2021-11-09T09:37:10.713413Z",
     "iopub.status.idle": "2021-11-09T09:37:10.719208Z",
     "shell.execute_reply": "2021-11-09T09:37:10.719728Z",
     "shell.execute_reply.started": "2021-11-09T08:19:33.539865Z"
    },
    "papermill": {
     "duration": 0.078275,
     "end_time": "2021-11-09T09:37:10.719902",
     "exception": false,
     "start_time": "2021-11-09T09:37:10.641627",
     "status": "completed"
    },
    "tags": []
   },
   "outputs": [
    {
     "data": {
      "text/plain": [
       "2015    478\n",
       "2014     23\n",
       "2016      1\n",
       "1964      1\n",
       "2012      1\n",
       "Name: YEAR, dtype: int64"
      ]
     },
     "execution_count": 12,
     "metadata": {},
     "output_type": "execute_result"
    }
   ],
   "source": [
    "fandango['YEAR'].value_counts()"
   ]
  },
  {
   "cell_type": "markdown",
   "id": "a9eed06a",
   "metadata": {
    "papermill": {
     "duration": 0.069123,
     "end_time": "2021-11-09T09:37:10.858329",
     "exception": false,
     "start_time": "2021-11-09T09:37:10.789206",
     "status": "completed"
    },
    "tags": []
   },
   "source": [
    "**TASK: Visualize the count of movies per year with a plot:**"
   ]
  },
  {
   "cell_type": "code",
   "execution_count": null,
   "id": "8e1f4fab",
   "metadata": {
    "execution": {
     "iopub.execute_input": "2021-11-09T09:37:10.999885Z",
     "iopub.status.busy": "2021-11-09T09:37:10.999233Z",
     "iopub.status.idle": "2021-11-09T09:37:11.002311Z",
     "shell.execute_reply": "2021-11-09T09:37:11.002856Z",
     "shell.execute_reply.started": "2021-11-09T08:19:33.556649Z"
    },
    "papermill": {
     "duration": 0.074964,
     "end_time": "2021-11-09T09:37:11.003028",
     "exception": false,
     "start_time": "2021-11-09T09:37:10.928064",
     "status": "completed"
    },
    "tags": []
   },
   "outputs": [],
   "source": [
    "#CODE HERE"
   ]
  },
  {
   "cell_type": "code",
   "execution_count": 14,
   "id": "cda0665e",
   "metadata": {
    "execution": {
     "iopub.execute_input": "2021-11-09T09:37:11.145002Z",
     "iopub.status.busy": "2021-11-09T09:37:11.144409Z",
     "iopub.status.idle": "2021-11-09T09:37:11.328849Z",
     "shell.execute_reply": "2021-11-09T09:37:11.328179Z",
     "shell.execute_reply.started": "2021-11-09T08:19:33.567200Z"
    },
    "papermill": {
     "duration": 0.255946,
     "end_time": "2021-11-09T09:37:11.328983",
     "exception": false,
     "start_time": "2021-11-09T09:37:11.073037",
     "status": "completed"
    },
    "tags": []
   },
   "outputs": [
    {
     "data": {
      "image/png": "[encoded data removed]",
      "text/plain": [
       "<Figure size 640x480 with 1 Axes>"
      ]
     },
     "metadata": {},
     "output_type": "display_data"
    }
   ],
   "source": [
    "sns.countplot(data=fandango, x='YEAR');"
   ]
  },
  {
   "cell_type": "markdown",
   "id": "c010d425",
   "metadata": {
    "papermill": {
     "duration": 0.069249,
     "end_time": "2021-11-09T09:37:11.472471",
     "exception": false,
     "start_time": "2021-11-09T09:37:11.403222",
     "status": "completed"
    },
    "tags": []
   },
   "source": [
    "**TASK: What are the 10 movies with the highest number of votes?**"
   ]
  },
  {
   "cell_type": "code",
   "execution_count": 15,
   "id": "6212e15c",
   "metadata": {
    "execution": {
     "iopub.execute_input": "2021-11-09T09:37:11.616716Z",
     "iopub.status.busy": "2021-11-09T09:37:11.616033Z",
     "iopub.status.idle": "2021-11-09T09:37:11.629862Z",
     "shell.execute_reply": "2021-11-09T09:37:11.630346Z",
     "shell.execute_reply.started": "2021-11-09T08:19:33.737372Z"
    },
    "papermill": {
     "duration": 0.087041,
     "end_time": "2021-11-09T09:37:11.630524",
     "exception": false,
     "start_time": "2021-11-09T09:37:11.543483",
     "status": "completed"
    },
    "tags": []
   },
   "outputs": [
    {
     "data": {
      "text/html": [
       "<div><div id=81214434-04dd-43fe-9b51-e110b3e6c106 style=\"display:none; background-color:#9D6CFF; color:white; width:200px; height:30px; padding-left:5px; border-radius:4px; flex-direction:row; justify-content:space-around; align-items:center;\" onmouseover=\"this.style.backgroundColor='#BA9BF8'\" onmouseout=\"this.style.backgroundColor='#9D6CFF'\" onclick=\"window.commands?.execute('create-mitosheet-from-dataframe-output');\">See Full Dataframe in Mito</div> <script> if (window.commands?.hasCommand('create-mitosheet-from-dataframe-output')) document.getElementById('81214434-04dd-43fe-9b51-e110b3e6c106').style.display = 'flex' </script> <table border=\"1\" class=\"dataframe\">\n",
       "  <thead>\n",
       "    <tr style=\"text-align: right;\">\n",
       "      <th></th>\n",
       "      <th>FILM</th>\n",
       "      <th>STARS</th>\n",
       "      <th>RATING</th>\n",
       "      <th>VOTES</th>\n",
       "      <th>YEAR</th>\n",
       "    </tr>\n",
       "  </thead>\n",
       "  <tbody>\n",
       "    <tr>\n",
       "      <th>0</th>\n",
       "      <td>Fifty Shades of Grey (2015)</td>\n",
       "      <td>4.0</td>\n",
       "      <td>3.9</td>\n",
       "      <td>34846</td>\n",
       "      <td>2015</td>\n",
       "    </tr>\n",
       "    <tr>\n",
       "      <th>1</th>\n",
       "      <td>Jurassic World (2015)</td>\n",
       "      <td>4.5</td>\n",
       "      <td>4.5</td>\n",
       "      <td>34390</td>\n",
       "      <td>2015</td>\n",
       "    </tr>\n",
       "    <tr>\n",
       "      <th>2</th>\n",
       "      <td>American Sniper (2015)</td>\n",
       "      <td>5.0</td>\n",
       "      <td>4.8</td>\n",
       "      <td>34085</td>\n",
       "      <td>2015</td>\n",
       "    </tr>\n",
       "    <tr>\n",
       "      <th>3</th>\n",
       "      <td>Furious 7 (2015)</td>\n",
       "      <td>5.0</td>\n",
       "      <td>4.8</td>\n",
       "      <td>33538</td>\n",
       "      <td>2015</td>\n",
       "    </tr>\n",
       "    <tr>\n",
       "      <th>4</th>\n",
       "      <td>Inside Out (2015)</td>\n",
       "      <td>4.5</td>\n",
       "      <td>4.5</td>\n",
       "      <td>15749</td>\n",
       "      <td>2015</td>\n",
       "    </tr>\n",
       "    <tr>\n",
       "      <th>5</th>\n",
       "      <td>The Hobbit: The Battle of the Five Armies (2014)</td>\n",
       "      <td>4.5</td>\n",
       "      <td>4.3</td>\n",
       "      <td>15337</td>\n",
       "      <td>2014</td>\n",
       "    </tr>\n",
       "    <tr>\n",
       "      <th>6</th>\n",
       "      <td>Kingsman: The Secret Service (2015)</td>\n",
       "      <td>4.5</td>\n",
       "      <td>4.2</td>\n",
       "      <td>15205</td>\n",
       "      <td>2015</td>\n",
       "    </tr>\n",
       "    <tr>\n",
       "      <th>7</th>\n",
       "      <td>Minions (2015)</td>\n",
       "      <td>4.0</td>\n",
       "      <td>4.0</td>\n",
       "      <td>14998</td>\n",
       "      <td>2015</td>\n",
       "    </tr>\n",
       "    <tr>\n",
       "      <th>8</th>\n",
       "      <td>Avengers: Age of Ultron (2015)</td>\n",
       "      <td>5.0</td>\n",
       "      <td>4.5</td>\n",
       "      <td>14846</td>\n",
       "      <td>2015</td>\n",
       "    </tr>\n",
       "    <tr>\n",
       "      <th>9</th>\n",
       "      <td>Into the Woods (2014)</td>\n",
       "      <td>3.5</td>\n",
       "      <td>3.4</td>\n",
       "      <td>13055</td>\n",
       "      <td>2014</td>\n",
       "    </tr>\n",
       "  </tbody>\n",
       "</table></div>"
      ],
      "text/plain": [
       "                                               FILM  STARS  RATING  VOTES  \\\n",
       "0                       Fifty Shades of Grey (2015)    4.0     3.9  34846   \n",
       "1                             Jurassic World (2015)    4.5     4.5  34390   \n",
       "2                            American Sniper (2015)    5.0     4.8  34085   \n",
       "3                                  Furious 7 (2015)    5.0     4.8  33538   \n",
       "4                                 Inside Out (2015)    4.5     4.5  15749   \n",
       "5  The Hobbit: The Battle of the Five Armies (2014)    4.5     4.3  15337   \n",
       "6               Kingsman: The Secret Service (2015)    4.5     4.2  15205   \n",
       "7                                    Minions (2015)    4.0     4.0  14998   \n",
       "8                    Avengers: Age of Ultron (2015)    5.0     4.5  14846   \n",
       "9                             Into the Woods (2014)    3.5     3.4  13055   \n",
       "\n",
       "   YEAR  \n",
       "0  2015  \n",
       "1  2015  \n",
       "2  2015  \n",
       "3  2015  \n",
       "4  2015  \n",
       "5  2014  \n",
       "6  2015  \n",
       "7  2015  \n",
       "8  2015  \n",
       "9  2014  "
      ]
     },
     "execution_count": 15,
     "metadata": {},
     "output_type": "execute_result"
    }
   ],
   "source": [
    "#CODE HERE\n",
    "fandango1 = fandango.nlargest(10,'VOTES')\n",
    "fandango1"
   ]
  },
  {
   "cell_type": "code",
   "execution_count": 17,
   "id": "345ea00a",
   "metadata": {
    "execution": {
     "iopub.execute_input": "2021-11-09T09:37:11.775874Z",
     "iopub.status.busy": "2021-11-09T09:37:11.775175Z",
     "iopub.status.idle": "2021-11-09T09:37:12.072469Z",
     "shell.execute_reply": "2021-11-09T09:37:12.071866Z",
     "shell.execute_reply.started": "2021-11-09T08:19:33.758940Z"
    },
    "papermill": {
     "duration": 0.371136,
     "end_time": "2021-11-09T09:37:12.072606",
     "exception": false,
     "start_time": "2021-11-09T09:37:11.701470",
     "status": "completed"
    },
    "tags": []
   },
   "outputs": [
    {
     "data": {
      "image/png": "[encoded data removed]",
      "text/plain": [
       "<Figure size 800x400 with 1 Axes>"
      ]
     },
     "metadata": {},
     "output_type": "display_data"
    }
   ],
   "source": [
    "plt.figure(figsize=(8,4), dpi=100)\n",
    "sns.barplot(data= fandango1, y='FILM', x='VOTES');"
   ]
  },
  {
   "cell_type": "markdown",
   "id": "23d2f4a1",
   "metadata": {
    "papermill": {
     "duration": 0.072147,
     "end_time": "2021-11-09T09:37:12.217556",
     "exception": false,
     "start_time": "2021-11-09T09:37:12.145409",
     "status": "completed"
    },
    "tags": []
   },
   "source": [
    "**TASK: How many movies have zero votes?**"
   ]
  },
  {
   "cell_type": "code",
   "execution_count": null,
   "id": "88f43f50",
   "metadata": {
    "execution": {
     "iopub.execute_input": "2021-11-09T09:37:12.367423Z",
     "iopub.status.busy": "2021-11-09T09:37:12.366807Z",
     "iopub.status.idle": "2021-11-09T09:37:12.368368Z",
     "shell.execute_reply": "2021-11-09T09:37:12.368899Z",
     "shell.execute_reply.started": "2021-11-09T08:19:34.047531Z"
    },
    "papermill": {
     "duration": 0.078433,
     "end_time": "2021-11-09T09:37:12.369057",
     "exception": false,
     "start_time": "2021-11-09T09:37:12.290624",
     "status": "completed"
    },
    "tags": []
   },
   "outputs": [],
   "source": [
    "#CODE HERE"
   ]
  },
  {
   "cell_type": "code",
   "execution_count": 18,
   "id": "f1997a28",
   "metadata": {
    "execution": {
     "iopub.execute_input": "2021-11-09T09:37:12.517759Z",
     "iopub.status.busy": "2021-11-09T09:37:12.517202Z",
     "iopub.status.idle": "2021-11-09T09:37:12.523045Z",
     "shell.execute_reply": "2021-11-09T09:37:12.523524Z",
     "shell.execute_reply.started": "2021-11-09T08:19:34.053595Z"
    },
    "papermill": {
     "duration": 0.082565,
     "end_time": "2021-11-09T09:37:12.523683",
     "exception": false,
     "start_time": "2021-11-09T09:37:12.441118",
     "status": "completed"
    },
    "tags": []
   },
   "outputs": [
    {
     "data": {
      "text/plain": [
       "69"
      ]
     },
     "execution_count": 18,
     "metadata": {},
     "output_type": "execute_result"
    }
   ],
   "source": [
    "len(fandango[fandango['VOTES'] == 0])"
   ]
  },
  {
   "cell_type": "markdown",
   "id": "ff65fb94",
   "metadata": {
    "papermill": {
     "duration": 0.073662,
     "end_time": "2021-11-09T09:37:12.670269",
     "exception": false,
     "start_time": "2021-11-09T09:37:12.596607",
     "status": "completed"
    },
    "tags": []
   },
   "source": [
    "**TASK: Create DataFrame of only reviewed films by removing any films that have zero votes.**"
   ]
  },
  {
   "cell_type": "code",
   "execution_count": null,
   "id": "05a26672",
   "metadata": {
    "execution": {
     "iopub.execute_input": "2021-11-09T09:37:12.818091Z",
     "iopub.status.busy": "2021-11-09T09:37:12.817466Z",
     "iopub.status.idle": "2021-11-09T09:37:12.820199Z",
     "shell.execute_reply": "2021-11-09T09:37:12.820707Z",
     "shell.execute_reply.started": "2021-11-09T08:19:34.068039Z"
    },
    "papermill": {
     "duration": 0.078211,
     "end_time": "2021-11-09T09:37:12.820883",
     "exception": false,
     "start_time": "2021-11-09T09:37:12.742672",
     "status": "completed"
    },
    "tags": []
   },
   "outputs": [],
   "source": [
    "#CODE HERE"
   ]
  },
  {
   "cell_type": "code",
   "execution_count": 19,
   "id": "dc44df27",
   "metadata": {
    "execution": {
     "iopub.execute_input": "2021-11-09T09:37:12.969664Z",
     "iopub.status.busy": "2021-11-09T09:37:12.969089Z",
     "iopub.status.idle": "2021-11-09T09:37:12.984819Z",
     "shell.execute_reply": "2021-11-09T09:37:12.985310Z",
     "shell.execute_reply.started": "2021-11-09T08:19:34.080266Z"
    },
    "papermill": {
     "duration": 0.091399,
     "end_time": "2021-11-09T09:37:12.985471",
     "exception": false,
     "start_time": "2021-11-09T09:37:12.894072",
     "status": "completed"
    },
    "tags": []
   },
   "outputs": [
    {
     "data": {
      "text/html": [
       "<div><div id=9b1a5e40-b298-400f-9cdb-2d1c4bb652de style=\"display:none; background-color:#9D6CFF; color:white; width:200px; height:30px; padding-left:5px; border-radius:4px; flex-direction:row; justify-content:space-around; align-items:center;\" onmouseover=\"this.style.backgroundColor='#BA9BF8'\" onmouseout=\"this.style.backgroundColor='#9D6CFF'\" onclick=\"window.commands?.execute('create-mitosheet-from-dataframe-output');\">See Full Dataframe in Mito</div> <script> if (window.commands?.hasCommand('create-mitosheet-from-dataframe-output')) document.getElementById('9b1a5e40-b298-400f-9cdb-2d1c4bb652de').style.display = 'flex' </script> <table border=\"1\" class=\"dataframe\">\n",
       "  <thead>\n",
       "    <tr style=\"text-align: right;\">\n",
       "      <th></th>\n",
       "      <th>FILM</th>\n",
       "      <th>STARS</th>\n",
       "      <th>RATING</th>\n",
       "      <th>VOTES</th>\n",
       "      <th>YEAR</th>\n",
       "    </tr>\n",
       "  </thead>\n",
       "  <tbody>\n",
       "    <tr>\n",
       "      <th>0</th>\n",
       "      <td>Fifty Shades of Grey (2015)</td>\n",
       "      <td>4.0</td>\n",
       "      <td>3.9</td>\n",
       "      <td>34846</td>\n",
       "      <td>2015</td>\n",
       "    </tr>\n",
       "    <tr>\n",
       "      <th>1</th>\n",
       "      <td>Jurassic World (2015)</td>\n",
       "      <td>4.5</td>\n",
       "      <td>4.5</td>\n",
       "      <td>34390</td>\n",
       "      <td>2015</td>\n",
       "    </tr>\n",
       "    <tr>\n",
       "      <th>2</th>\n",
       "      <td>American Sniper (2015)</td>\n",
       "      <td>5.0</td>\n",
       "      <td>4.8</td>\n",
       "      <td>34085</td>\n",
       "      <td>2015</td>\n",
       "    </tr>\n",
       "    <tr>\n",
       "      <th>3</th>\n",
       "      <td>Furious 7 (2015)</td>\n",
       "      <td>5.0</td>\n",
       "      <td>4.8</td>\n",
       "      <td>33538</td>\n",
       "      <td>2015</td>\n",
       "    </tr>\n",
       "    <tr>\n",
       "      <th>4</th>\n",
       "      <td>Inside Out (2015)</td>\n",
       "      <td>4.5</td>\n",
       "      <td>4.5</td>\n",
       "      <td>15749</td>\n",
       "      <td>2015</td>\n",
       "    </tr>\n",
       "  </tbody>\n",
       "</table></div>"
      ],
      "text/plain": [
       "                          FILM  STARS  RATING  VOTES  YEAR\n",
       "0  Fifty Shades of Grey (2015)    4.0     3.9  34846  2015\n",
       "1        Jurassic World (2015)    4.5     4.5  34390  2015\n",
       "2       American Sniper (2015)    5.0     4.8  34085  2015\n",
       "3             Furious 7 (2015)    5.0     4.8  33538  2015\n",
       "4            Inside Out (2015)    4.5     4.5  15749  2015"
      ]
     },
     "execution_count": 19,
     "metadata": {},
     "output_type": "execute_result"
    }
   ],
   "source": [
    "non_ziro_fandango = fandango[fandango['VOTES']>0]\n",
    "non_ziro_fandango.head()"
   ]
  },
  {
   "cell_type": "markdown",
   "id": "290c92f4",
   "metadata": {
    "papermill": {
     "duration": 0.072118,
     "end_time": "2021-11-09T09:37:13.130081",
     "exception": false,
     "start_time": "2021-11-09T09:37:13.057963",
     "status": "completed"
    },
    "tags": []
   },
   "source": [
    "----\n",
    "\n",
    "**As noted in the article, due to HTML and star rating displays, the true user rating may be slightly different than the rating shown to a user. Let's visualize this difference in distributions.**\n",
    "\n",
    "**TASK: Create a KDE plot (or multiple kdeplots) that displays the distribution of ratings that are displayed (STARS) versus what the true rating was from votes (RATING). Clip the KDEs to 0-5.**"
   ]
  },
  {
   "cell_type": "code",
   "execution_count": null,
   "id": "b8048abf",
   "metadata": {
    "execution": {
     "iopub.execute_input": "2021-11-09T09:37:13.280948Z",
     "iopub.status.busy": "2021-11-09T09:37:13.279989Z",
     "iopub.status.idle": "2021-11-09T09:37:13.282325Z",
     "shell.execute_reply": "2021-11-09T09:37:13.282848Z",
     "shell.execute_reply.started": "2021-11-09T08:19:34.100072Z"
    },
    "papermill": {
     "duration": 0.080697,
     "end_time": "2021-11-09T09:37:13.283017",
     "exception": false,
     "start_time": "2021-11-09T09:37:13.202320",
     "status": "completed"
    },
    "tags": []
   },
   "outputs": [],
   "source": [
    "#CODE HERE"
   ]
  },
  {
   "cell_type": "code",
   "execution_count": 21,
   "id": "6f05947c",
   "metadata": {
    "execution": {
     "iopub.execute_input": "2021-11-09T09:37:13.433832Z",
     "iopub.status.busy": "2021-11-09T09:37:13.432872Z",
     "iopub.status.idle": "2021-11-09T09:37:13.702667Z",
     "shell.execute_reply": "2021-11-09T09:37:13.702127Z",
     "shell.execute_reply.started": "2021-11-09T08:19:34.106413Z"
    },
    "papermill": {
     "duration": 0.347493,
     "end_time": "2021-11-09T09:37:13.702820",
     "exception": false,
     "start_time": "2021-11-09T09:37:13.355327",
     "status": "completed"
    },
    "tags": []
   },
   "outputs": [
    {
     "data": {
      "image/png": "[encoded data removed]",
      "text/plain": [
       "<Figure size 800x400 with 1 Axes>"
      ]
     },
     "metadata": {},
     "output_type": "display_data"
    }
   ],
   "source": [
    "plt.figure(figsize=(8,4), dpi=100)\n",
    "sns.kdeplot(data=non_ziro_fandango, x='RATING',clip=[0,5],fill=True, label='True Rating')\n",
    "sns.kdeplot(data=non_ziro_fandango, x='STARS',clip=[0,5],fill=True, label='Stars Displayed')\n",
    "plt.legend(loc=(1.05,0.5));"
   ]
  },
  {
   "cell_type": "markdown",
   "id": "6dd1c060",
   "metadata": {
    "papermill": {
     "duration": 0.074112,
     "end_time": "2021-11-09T09:37:13.851324",
     "exception": false,
     "start_time": "2021-11-09T09:37:13.777212",
     "status": "completed"
    },
    "tags": []
   },
   "source": [
    "**TASK: Let's now actually quantify this discrepancy. Create a new column of the different between STARS displayed versus true RATING. Calculate this difference with STARS-RATING and round these differences to the nearest decimal point.**"
   ]
  },
  {
   "cell_type": "code",
   "execution_count": 25,
   "id": "d47f2327",
   "metadata": {
    "execution": {
     "iopub.execute_input": "2021-11-09T09:37:14.007451Z",
     "iopub.status.busy": "2021-11-09T09:37:14.006751Z",
     "iopub.status.idle": "2021-11-09T09:37:14.009779Z",
     "shell.execute_reply": "2021-11-09T09:37:14.010461Z",
     "shell.execute_reply.started": "2021-11-09T08:19:34.393263Z"
    },
    "papermill": {
     "duration": 0.08467,
     "end_time": "2021-11-09T09:37:14.010672",
     "exception": false,
     "start_time": "2021-11-09T09:37:13.926002",
     "status": "completed"
    },
    "tags": []
   },
   "outputs": [
    {
     "name": "stderr",
     "output_type": "stream",
     "text": [
      "C:\\Users\\kbker\\AppData\\Local\\Temp\\ipykernel_2272\\1463170016.py:2: SettingWithCopyWarning: \n",
      "A value is trying to be set on a copy of a slice from a DataFrame.\n",
      "Try using .loc[row_indexer,col_indexer] = value instead\n",
      "\n",
      "See the caveats in the documentation: https://pandas.pydata.org/pandas-docs/stable/user_guide/indexing.html#returning-a-view-versus-a-copy\n",
      "  non_ziro_fandango['STARS_DIFF'] = non_ziro_fandango['STARS'] - non_ziro_fandango['RATING']\n"
     ]
    }
   ],
   "source": [
    "#CODE HERE\n",
    "non_ziro_fandango['STARS_DIFF'] = non_ziro_fandango['STARS'] - non_ziro_fandango['RATING']\n"
   ]
  },
  {
   "cell_type": "code",
   "execution_count": 26,
   "id": "9dbdc918",
   "metadata": {
    "execution": {
     "iopub.execute_input": "2021-11-09T09:37:14.178175Z",
     "iopub.status.busy": "2021-11-09T09:37:14.173932Z",
     "iopub.status.idle": "2021-11-09T09:37:14.181230Z",
     "shell.execute_reply": "2021-11-09T09:37:14.181632Z",
     "shell.execute_reply.started": "2021-11-09T08:19:34.401863Z"
    },
    "papermill": {
     "duration": 0.095266,
     "end_time": "2021-11-09T09:37:14.181815",
     "exception": false,
     "start_time": "2021-11-09T09:37:14.086549",
     "status": "completed"
    },
    "tags": []
   },
   "outputs": [
    {
     "data": {
      "text/html": [
       "<div><div id=e2c86db5-a461-4826-8173-c109a4958a88 style=\"display:none; background-color:#9D6CFF; color:white; width:200px; height:30px; padding-left:5px; border-radius:4px; flex-direction:row; justify-content:space-around; align-items:center;\" onmouseover=\"this.style.backgroundColor='#BA9BF8'\" onmouseout=\"this.style.backgroundColor='#9D6CFF'\" onclick=\"window.commands?.execute('create-mitosheet-from-dataframe-output');\">See Full Dataframe in Mito</div> <script> if (window.commands?.hasCommand('create-mitosheet-from-dataframe-output')) document.getElementById('e2c86db5-a461-4826-8173-c109a4958a88').style.display = 'flex' </script> <table border=\"1\" class=\"dataframe\">\n",
       "  <thead>\n",
       "    <tr style=\"text-align: right;\">\n",
       "      <th></th>\n",
       "      <th>FILM</th>\n",
       "      <th>STARS</th>\n",
       "      <th>RATING</th>\n",
       "      <th>VOTES</th>\n",
       "      <th>YEAR</th>\n",
       "      <th>STARS_DIFF</th>\n",
       "    </tr>\n",
       "  </thead>\n",
       "  <tbody>\n",
       "    <tr>\n",
       "      <th>0</th>\n",
       "      <td>Fifty Shades of Grey (2015)</td>\n",
       "      <td>4.0</td>\n",
       "      <td>3.9</td>\n",
       "      <td>34846</td>\n",
       "      <td>2015</td>\n",
       "      <td>0.1</td>\n",
       "    </tr>\n",
       "    <tr>\n",
       "      <th>1</th>\n",
       "      <td>Jurassic World (2015)</td>\n",
       "      <td>4.5</td>\n",
       "      <td>4.5</td>\n",
       "      <td>34390</td>\n",
       "      <td>2015</td>\n",
       "      <td>0.0</td>\n",
       "    </tr>\n",
       "    <tr>\n",
       "      <th>2</th>\n",
       "      <td>American Sniper (2015)</td>\n",
       "      <td>5.0</td>\n",
       "      <td>4.8</td>\n",
       "      <td>34085</td>\n",
       "      <td>2015</td>\n",
       "      <td>0.2</td>\n",
       "    </tr>\n",
       "    <tr>\n",
       "      <th>3</th>\n",
       "      <td>Furious 7 (2015)</td>\n",
       "      <td>5.0</td>\n",
       "      <td>4.8</td>\n",
       "      <td>33538</td>\n",
       "      <td>2015</td>\n",
       "      <td>0.2</td>\n",
       "    </tr>\n",
       "    <tr>\n",
       "      <th>4</th>\n",
       "      <td>Inside Out (2015)</td>\n",
       "      <td>4.5</td>\n",
       "      <td>4.5</td>\n",
       "      <td>15749</td>\n",
       "      <td>2015</td>\n",
       "      <td>0.0</td>\n",
       "    </tr>\n",
       "    <tr>\n",
       "      <th>...</th>\n",
       "      <td>...</td>\n",
       "      <td>...</td>\n",
       "      <td>...</td>\n",
       "      <td>...</td>\n",
       "      <td>...</td>\n",
       "      <td>...</td>\n",
       "    </tr>\n",
       "    <tr>\n",
       "      <th>430</th>\n",
       "      <td>That Sugar Film (2015)</td>\n",
       "      <td>5.0</td>\n",
       "      <td>5.0</td>\n",
       "      <td>1</td>\n",
       "      <td>2015</td>\n",
       "      <td>0.0</td>\n",
       "    </tr>\n",
       "    <tr>\n",
       "      <th>431</th>\n",
       "      <td>The Intern (2015)</td>\n",
       "      <td>5.0</td>\n",
       "      <td>5.0</td>\n",
       "      <td>1</td>\n",
       "      <td>2015</td>\n",
       "      <td>0.0</td>\n",
       "    </tr>\n",
       "    <tr>\n",
       "      <th>432</th>\n",
       "      <td>The Park Bench (2015)</td>\n",
       "      <td>5.0</td>\n",
       "      <td>5.0</td>\n",
       "      <td>1</td>\n",
       "      <td>2015</td>\n",
       "      <td>0.0</td>\n",
       "    </tr>\n",
       "    <tr>\n",
       "      <th>433</th>\n",
       "      <td>The Wanted 18 (2015)</td>\n",
       "      <td>5.0</td>\n",
       "      <td>5.0</td>\n",
       "      <td>1</td>\n",
       "      <td>2015</td>\n",
       "      <td>0.0</td>\n",
       "    </tr>\n",
       "    <tr>\n",
       "      <th>434</th>\n",
       "      <td>Z For Zachariah (2015)</td>\n",
       "      <td>5.0</td>\n",
       "      <td>5.0</td>\n",
       "      <td>1</td>\n",
       "      <td>2015</td>\n",
       "      <td>0.0</td>\n",
       "    </tr>\n",
       "  </tbody>\n",
       "</table></div>"
      ],
      "text/plain": [
       "                            FILM  STARS  RATING  VOTES  YEAR  STARS_DIFF\n",
       "0    Fifty Shades of Grey (2015)    4.0     3.9  34846  2015         0.1\n",
       "1          Jurassic World (2015)    4.5     4.5  34390  2015         0.0\n",
       "2         American Sniper (2015)    5.0     4.8  34085  2015         0.2\n",
       "3               Furious 7 (2015)    5.0     4.8  33538  2015         0.2\n",
       "4              Inside Out (2015)    4.5     4.5  15749  2015         0.0\n",
       "..                           ...    ...     ...    ...   ...         ...\n",
       "430       That Sugar Film (2015)    5.0     5.0      1  2015         0.0\n",
       "431            The Intern (2015)    5.0     5.0      1  2015         0.0\n",
       "432        The Park Bench (2015)    5.0     5.0      1  2015         0.0\n",
       "433         The Wanted 18 (2015)    5.0     5.0      1  2015         0.0\n",
       "434       Z For Zachariah (2015)    5.0     5.0      1  2015         0.0\n",
       "\n",
       "[435 rows x 6 columns]"
      ]
     },
     "execution_count": 26,
     "metadata": {},
     "output_type": "execute_result"
    }
   ],
   "source": [
    "non_ziro_fandango"
   ]
  },
  {
   "cell_type": "markdown",
   "id": "ec0dcd6b",
   "metadata": {
    "papermill": {
     "duration": 0.077242,
     "end_time": "2021-11-09T09:37:14.333957",
     "exception": false,
     "start_time": "2021-11-09T09:37:14.256715",
     "status": "completed"
    },
    "tags": []
   },
   "source": [
    "**TASK: Create a count plot to display the number of times a certain difference occurs:**"
   ]
  },
  {
   "cell_type": "code",
   "execution_count": null,
   "id": "76be4009",
   "metadata": {
    "execution": {
     "iopub.execute_input": "2021-11-09T09:37:14.487930Z",
     "iopub.status.busy": "2021-11-09T09:37:14.487278Z",
     "iopub.status.idle": "2021-11-09T09:37:14.490098Z",
     "shell.execute_reply": "2021-11-09T09:37:14.490590Z",
     "shell.execute_reply.started": "2021-11-09T08:19:34.428295Z"
    },
    "papermill": {
     "duration": 0.081494,
     "end_time": "2021-11-09T09:37:14.490764",
     "exception": false,
     "start_time": "2021-11-09T09:37:14.409270",
     "status": "completed"
    },
    "tags": []
   },
   "outputs": [],
   "source": [
    "#CODE HERE"
   ]
  },
  {
   "cell_type": "code",
   "execution_count": 28,
   "id": "ef9e13f6",
   "metadata": {
    "execution": {
     "iopub.execute_input": "2021-11-09T09:37:14.649216Z",
     "iopub.status.busy": "2021-11-09T09:37:14.648594Z",
     "iopub.status.idle": "2021-11-09T09:37:14.858318Z",
     "shell.execute_reply": "2021-11-09T09:37:14.858818Z",
     "shell.execute_reply.started": "2021-11-09T08:19:34.439490Z"
    },
    "papermill": {
     "duration": 0.293677,
     "end_time": "2021-11-09T09:37:14.858985",
     "exception": false,
     "start_time": "2021-11-09T09:37:14.565308",
     "status": "completed"
    },
    "tags": []
   },
   "outputs": [
    {
     "ename": "ValueError",
     "evalue": "Could not interpret input 'STARS_DIFF'",
     "output_type": "error",
     "traceback": [
      "\u001b[1;31m---------------------------------------------------------------------------\u001b[0m",
      "\u001b[1;31mValueError\u001b[0m                                Traceback (most recent call last)",
      "Cell \u001b[1;32mIn [28], line 2\u001b[0m\n\u001b[0;32m      1\u001b[0m plt\u001b[38;5;241m.\u001b[39mfigure(figsize\u001b[38;5;241m=\u001b[39m(\u001b[38;5;241m8\u001b[39m,\u001b[38;5;241m4\u001b[39m), dpi\u001b[38;5;241m=\u001b[39m\u001b[38;5;241m100\u001b[39m)\n\u001b[1;32m----> 2\u001b[0m \u001b[43msns\u001b[49m\u001b[38;5;241;43m.\u001b[39;49m\u001b[43mcountplot\u001b[49m\u001b[43m(\u001b[49m\u001b[43mdata\u001b[49m\u001b[38;5;241;43m=\u001b[39;49m\u001b[43mfandango\u001b[49m\u001b[43m,\u001b[49m\u001b[43m \u001b[49m\u001b[43mx\u001b[49m\u001b[38;5;241;43m=\u001b[39;49m\u001b[38;5;124;43m'\u001b[39;49m\u001b[38;5;124;43mSTARS_DIFF\u001b[39;49m\u001b[38;5;124;43m'\u001b[39;49m\u001b[43m)\u001b[49m\n",
      "File \u001b[1;32m~\\AppData\\Local\\Programs\\Python\\Python310\\lib\\site-packages\\seaborn\\_decorators.py:46\u001b[0m, in \u001b[0;36m_deprecate_positional_args.<locals>.inner_f\u001b[1;34m(*args, **kwargs)\u001b[0m\n\u001b[0;32m     36\u001b[0m     warnings\u001b[38;5;241m.\u001b[39mwarn(\n\u001b[0;32m     37\u001b[0m         \u001b[38;5;124m\"\u001b[39m\u001b[38;5;124mPass the following variable\u001b[39m\u001b[38;5;132;01m{}\u001b[39;00m\u001b[38;5;124m as \u001b[39m\u001b[38;5;132;01m{}\u001b[39;00m\u001b[38;5;124mkeyword arg\u001b[39m\u001b[38;5;132;01m{}\u001b[39;00m\u001b[38;5;124m: \u001b[39m\u001b[38;5;132;01m{}\u001b[39;00m\u001b[38;5;124m. \u001b[39m\u001b[38;5;124m\"\u001b[39m\n\u001b[0;32m     38\u001b[0m         \u001b[38;5;124m\"\u001b[39m\u001b[38;5;124mFrom version 0.12, the only valid positional argument \u001b[39m\u001b[38;5;124m\"\u001b[39m\n\u001b[1;32m   (...)\u001b[0m\n\u001b[0;32m     43\u001b[0m         \u001b[38;5;167;01mFutureWarning\u001b[39;00m\n\u001b[0;32m     44\u001b[0m     )\n\u001b[0;32m     45\u001b[0m kwargs\u001b[38;5;241m.\u001b[39mupdate({k: arg \u001b[38;5;28;01mfor\u001b[39;00m k, arg \u001b[38;5;129;01min\u001b[39;00m \u001b[38;5;28mzip\u001b[39m(sig\u001b[38;5;241m.\u001b[39mparameters, args)})\n\u001b[1;32m---> 46\u001b[0m \u001b[38;5;28;01mreturn\u001b[39;00m f(\u001b[38;5;241m*\u001b[39m\u001b[38;5;241m*\u001b[39mkwargs)\n",
      "File \u001b[1;32m~\\AppData\\Local\\Programs\\Python\\Python310\\lib\\site-packages\\seaborn\\categorical.py:3598\u001b[0m, in \u001b[0;36mcountplot\u001b[1;34m(x, y, hue, data, order, hue_order, orient, color, palette, saturation, dodge, ax, **kwargs)\u001b[0m\n\u001b[0;32m   3595\u001b[0m \u001b[38;5;28;01melif\u001b[39;00m x \u001b[38;5;129;01mis\u001b[39;00m \u001b[38;5;129;01mnot\u001b[39;00m \u001b[38;5;28;01mNone\u001b[39;00m \u001b[38;5;129;01mand\u001b[39;00m y \u001b[38;5;129;01mis\u001b[39;00m \u001b[38;5;129;01mnot\u001b[39;00m \u001b[38;5;28;01mNone\u001b[39;00m:\n\u001b[0;32m   3596\u001b[0m     \u001b[38;5;28;01mraise\u001b[39;00m \u001b[38;5;167;01mValueError\u001b[39;00m(\u001b[38;5;124m\"\u001b[39m\u001b[38;5;124mCannot pass values for both `x` and `y`\u001b[39m\u001b[38;5;124m\"\u001b[39m)\n\u001b[1;32m-> 3598\u001b[0m plotter \u001b[38;5;241m=\u001b[39m \u001b[43m_CountPlotter\u001b[49m\u001b[43m(\u001b[49m\n\u001b[0;32m   3599\u001b[0m \u001b[43m    \u001b[49m\u001b[43mx\u001b[49m\u001b[43m,\u001b[49m\u001b[43m \u001b[49m\u001b[43my\u001b[49m\u001b[43m,\u001b[49m\u001b[43m \u001b[49m\u001b[43mhue\u001b[49m\u001b[43m,\u001b[49m\u001b[43m \u001b[49m\u001b[43mdata\u001b[49m\u001b[43m,\u001b[49m\u001b[43m \u001b[49m\u001b[43morder\u001b[49m\u001b[43m,\u001b[49m\u001b[43m \u001b[49m\u001b[43mhue_order\u001b[49m\u001b[43m,\u001b[49m\n\u001b[0;32m   3600\u001b[0m \u001b[43m    \u001b[49m\u001b[43mestimator\u001b[49m\u001b[43m,\u001b[49m\u001b[43m \u001b[49m\u001b[43mci\u001b[49m\u001b[43m,\u001b[49m\u001b[43m \u001b[49m\u001b[43mn_boot\u001b[49m\u001b[43m,\u001b[49m\u001b[43m \u001b[49m\u001b[43munits\u001b[49m\u001b[43m,\u001b[49m\u001b[43m \u001b[49m\u001b[43mseed\u001b[49m\u001b[43m,\u001b[49m\n\u001b[0;32m   3601\u001b[0m \u001b[43m    \u001b[49m\u001b[43morient\u001b[49m\u001b[43m,\u001b[49m\u001b[43m \u001b[49m\u001b[43mcolor\u001b[49m\u001b[43m,\u001b[49m\u001b[43m \u001b[49m\u001b[43mpalette\u001b[49m\u001b[43m,\u001b[49m\u001b[43m \u001b[49m\u001b[43msaturation\u001b[49m\u001b[43m,\u001b[49m\n\u001b[0;32m   3602\u001b[0m \u001b[43m    \u001b[49m\u001b[43merrcolor\u001b[49m\u001b[43m,\u001b[49m\u001b[43m \u001b[49m\u001b[43merrwidth\u001b[49m\u001b[43m,\u001b[49m\u001b[43m \u001b[49m\u001b[43mcapsize\u001b[49m\u001b[43m,\u001b[49m\u001b[43m \u001b[49m\u001b[43mdodge\u001b[49m\n\u001b[0;32m   3603\u001b[0m \u001b[43m\u001b[49m\u001b[43m)\u001b[49m\n\u001b[0;32m   3605\u001b[0m plotter\u001b[38;5;241m.\u001b[39mvalue_label \u001b[38;5;241m=\u001b[39m \u001b[38;5;124m\"\u001b[39m\u001b[38;5;124mcount\u001b[39m\u001b[38;5;124m\"\u001b[39m\n\u001b[0;32m   3607\u001b[0m \u001b[38;5;28;01mif\u001b[39;00m ax \u001b[38;5;129;01mis\u001b[39;00m \u001b[38;5;28;01mNone\u001b[39;00m:\n",
      "File \u001b[1;32m~\\AppData\\Local\\Programs\\Python\\Python310\\lib\\site-packages\\seaborn\\categorical.py:1584\u001b[0m, in \u001b[0;36m_BarPlotter.__init__\u001b[1;34m(self, x, y, hue, data, order, hue_order, estimator, ci, n_boot, units, seed, orient, color, palette, saturation, errcolor, errwidth, capsize, dodge)\u001b[0m\n\u001b[0;32m   1579\u001b[0m \u001b[38;5;28;01mdef\u001b[39;00m \u001b[38;5;21m__init__\u001b[39m(\u001b[38;5;28mself\u001b[39m, x, y, hue, data, order, hue_order,\n\u001b[0;32m   1580\u001b[0m              estimator, ci, n_boot, units, seed,\n\u001b[0;32m   1581\u001b[0m              orient, color, palette, saturation, errcolor,\n\u001b[0;32m   1582\u001b[0m              errwidth, capsize, dodge):\n\u001b[0;32m   1583\u001b[0m     \u001b[38;5;124;03m\"\"\"Initialize the plotter.\"\"\"\u001b[39;00m\n\u001b[1;32m-> 1584\u001b[0m     \u001b[38;5;28;43mself\u001b[39;49m\u001b[38;5;241;43m.\u001b[39;49m\u001b[43mestablish_variables\u001b[49m\u001b[43m(\u001b[49m\u001b[43mx\u001b[49m\u001b[43m,\u001b[49m\u001b[43m \u001b[49m\u001b[43my\u001b[49m\u001b[43m,\u001b[49m\u001b[43m \u001b[49m\u001b[43mhue\u001b[49m\u001b[43m,\u001b[49m\u001b[43m \u001b[49m\u001b[43mdata\u001b[49m\u001b[43m,\u001b[49m\u001b[43m \u001b[49m\u001b[43morient\u001b[49m\u001b[43m,\u001b[49m\n\u001b[0;32m   1585\u001b[0m \u001b[43m                             \u001b[49m\u001b[43morder\u001b[49m\u001b[43m,\u001b[49m\u001b[43m \u001b[49m\u001b[43mhue_order\u001b[49m\u001b[43m,\u001b[49m\u001b[43m \u001b[49m\u001b[43munits\u001b[49m\u001b[43m)\u001b[49m\n\u001b[0;32m   1586\u001b[0m     \u001b[38;5;28mself\u001b[39m\u001b[38;5;241m.\u001b[39mestablish_colors(color, palette, saturation)\n\u001b[0;32m   1587\u001b[0m     \u001b[38;5;28mself\u001b[39m\u001b[38;5;241m.\u001b[39mestimate_statistic(estimator, ci, n_boot, seed)\n",
      "File \u001b[1;32m~\\AppData\\Local\\Programs\\Python\\Python310\\lib\\site-packages\\seaborn\\categorical.py:153\u001b[0m, in \u001b[0;36m_CategoricalPlotter.establish_variables\u001b[1;34m(self, x, y, hue, data, orient, order, hue_order, units)\u001b[0m\n\u001b[0;32m    151\u001b[0m     \u001b[38;5;28;01mif\u001b[39;00m \u001b[38;5;28misinstance\u001b[39m(var, \u001b[38;5;28mstr\u001b[39m):\n\u001b[0;32m    152\u001b[0m         err \u001b[38;5;241m=\u001b[39m \u001b[38;5;124m\"\u001b[39m\u001b[38;5;124mCould not interpret input \u001b[39m\u001b[38;5;124m'\u001b[39m\u001b[38;5;132;01m{}\u001b[39;00m\u001b[38;5;124m'\u001b[39m\u001b[38;5;124m\"\u001b[39m\u001b[38;5;241m.\u001b[39mformat(var)\n\u001b[1;32m--> 153\u001b[0m         \u001b[38;5;28;01mraise\u001b[39;00m \u001b[38;5;167;01mValueError\u001b[39;00m(err)\n\u001b[0;32m    155\u001b[0m \u001b[38;5;66;03m# Figure out the plotting orientation\u001b[39;00m\n\u001b[0;32m    156\u001b[0m orient \u001b[38;5;241m=\u001b[39m infer_orient(\n\u001b[0;32m    157\u001b[0m     x, y, orient, require_numeric\u001b[38;5;241m=\u001b[39m\u001b[38;5;28mself\u001b[39m\u001b[38;5;241m.\u001b[39mrequire_numeric\n\u001b[0;32m    158\u001b[0m )\n",
      "\u001b[1;31mValueError\u001b[0m: Could not interpret input 'STARS_DIFF'"
     ]
    },
    {
     "data": {
      "text/plain": [
       "<Figure size 800x400 with 0 Axes>"
      ]
     },
     "metadata": {},
     "output_type": "display_data"
    }
   ],
   "source": [
    "plt.figure(figsize=(8,4), dpi=100)\n",
    "sns.countplot(data=fandango, x='STARS_DIFF');"
   ]
  },
  {
   "cell_type": "markdown",
   "id": "806a0ba5",
   "metadata": {
    "papermill": {
     "duration": 0.07508,
     "end_time": "2021-11-09T09:37:15.009482",
     "exception": false,
     "start_time": "2021-11-09T09:37:14.934402",
     "status": "completed"
    },
    "tags": []
   },
   "source": [
    "**TASK: We can see from the plot that one movie was displaying over a 1 star difference than its true rating! What movie had this close to 1 star differential?**"
   ]
  },
  {
   "cell_type": "code",
   "execution_count": null,
   "id": "6f5e1816",
   "metadata": {
    "execution": {
     "iopub.execute_input": "2021-11-09T09:37:15.163941Z",
     "iopub.status.busy": "2021-11-09T09:37:15.163331Z",
     "iopub.status.idle": "2021-11-09T09:37:15.165974Z",
     "shell.execute_reply": "2021-11-09T09:37:15.166420Z",
     "shell.execute_reply.started": "2021-11-09T08:19:34.680658Z"
    },
    "papermill": {
     "duration": 0.081597,
     "end_time": "2021-11-09T09:37:15.166573",
     "exception": false,
     "start_time": "2021-11-09T09:37:15.084976",
     "status": "completed"
    },
    "tags": []
   },
   "outputs": [],
   "source": [
    "#CODE HERE"
   ]
  },
  {
   "cell_type": "code",
   "execution_count": 29,
   "id": "502ace8a",
   "metadata": {
    "execution": {
     "iopub.execute_input": "2021-11-09T09:37:15.321704Z",
     "iopub.status.busy": "2021-11-09T09:37:15.321129Z",
     "iopub.status.idle": "2021-11-09T09:37:15.331490Z",
     "shell.execute_reply": "2021-11-09T09:37:15.331941Z",
     "shell.execute_reply.started": "2021-11-09T08:19:34.685355Z"
    },
    "papermill": {
     "duration": 0.089645,
     "end_time": "2021-11-09T09:37:15.332102",
     "exception": false,
     "start_time": "2021-11-09T09:37:15.242457",
     "status": "completed"
    },
    "tags": []
   },
   "outputs": [
    {
     "data": {
      "text/html": [
       "<div><div id=ebbf8d04-7cee-425a-b058-72818e100e9e style=\"display:none; background-color:#9D6CFF; color:white; width:200px; height:30px; padding-left:5px; border-radius:4px; flex-direction:row; justify-content:space-around; align-items:center;\" onmouseover=\"this.style.backgroundColor='#BA9BF8'\" onmouseout=\"this.style.backgroundColor='#9D6CFF'\" onclick=\"window.commands?.execute('create-mitosheet-from-dataframe-output');\">See Full Dataframe in Mito</div> <script> if (window.commands?.hasCommand('create-mitosheet-from-dataframe-output')) document.getElementById('ebbf8d04-7cee-425a-b058-72818e100e9e').style.display = 'flex' </script> <table border=\"1\" class=\"dataframe\">\n",
       "  <thead>\n",
       "    <tr style=\"text-align: right;\">\n",
       "      <th></th>\n",
       "      <th>FILM</th>\n",
       "      <th>STARS</th>\n",
       "      <th>RATING</th>\n",
       "      <th>VOTES</th>\n",
       "      <th>YEAR</th>\n",
       "      <th>STARS_DIFF</th>\n",
       "    </tr>\n",
       "  </thead>\n",
       "  <tbody>\n",
       "    <tr>\n",
       "      <th>381</th>\n",
       "      <td>Turbo Kid (2015)</td>\n",
       "      <td>5.0</td>\n",
       "      <td>4.0</td>\n",
       "      <td>2</td>\n",
       "      <td>2015</td>\n",
       "      <td>1.0</td>\n",
       "    </tr>\n",
       "  </tbody>\n",
       "</table></div>"
      ],
      "text/plain": [
       "                 FILM  STARS  RATING  VOTES  YEAR  STARS_DIFF\n",
       "381  Turbo Kid (2015)    5.0     4.0      2  2015         1.0"
      ]
     },
     "execution_count": 29,
     "metadata": {},
     "output_type": "execute_result"
    }
   ],
   "source": [
    "non_ziro_fandango[non_ziro_fandango['STARS_DIFF'] == 1]"
   ]
  },
  {
   "cell_type": "markdown",
   "id": "7d64889e",
   "metadata": {
    "papermill": {
     "duration": 0.07585,
     "end_time": "2021-11-09T09:37:15.484001",
     "exception": false,
     "start_time": "2021-11-09T09:37:15.408151",
     "status": "completed"
    },
    "tags": []
   },
   "source": [
    "## Part Three: Comparison of Fandango Ratings to Other Sites\n",
    "\n",
    "Let's now compare the scores from Fandango to other movies sites and see how they compare.\n",
    "\n",
    "**TASK: Read in the \"all_sites_scores.csv\" file by running the cell below**"
   ]
  },
  {
   "cell_type": "code",
   "execution_count": 31,
   "id": "fc0068c9",
   "metadata": {
    "execution": {
     "iopub.execute_input": "2021-11-09T09:37:15.641621Z",
     "iopub.status.busy": "2021-11-09T09:37:15.641025Z",
     "iopub.status.idle": "2021-11-09T09:37:15.654288Z",
     "shell.execute_reply": "2021-11-09T09:37:15.654731Z",
     "shell.execute_reply.started": "2021-11-09T08:19:34.708648Z"
    },
    "papermill": {
     "duration": 0.093421,
     "end_time": "2021-11-09T09:37:15.654928",
     "exception": false,
     "start_time": "2021-11-09T09:37:15.561507",
     "status": "completed"
    },
    "tags": []
   },
   "outputs": [],
   "source": [
    "all_sites = pd.read_csv(\"all_sites_scores.csv\")"
   ]
  },
  {
   "cell_type": "markdown",
   "id": "fd13823e",
   "metadata": {
    "papermill": {
     "duration": 0.076407,
     "end_time": "2021-11-09T09:37:15.807513",
     "exception": false,
     "start_time": "2021-11-09T09:37:15.731106",
     "status": "completed"
    },
    "tags": []
   },
   "source": [
    "**TASK: Explore the DataFrame columns, info, description.**"
   ]
  },
  {
   "cell_type": "code",
   "execution_count": 32,
   "id": "15cc5d79",
   "metadata": {
    "execution": {
     "iopub.execute_input": "2021-11-09T09:37:15.962348Z",
     "iopub.status.busy": "2021-11-09T09:37:15.961761Z",
     "iopub.status.idle": "2021-11-09T09:37:15.972040Z",
     "shell.execute_reply": "2021-11-09T09:37:15.972576Z",
     "shell.execute_reply.started": "2021-11-09T08:19:34.731447Z"
    },
    "papermill": {
     "duration": 0.089658,
     "end_time": "2021-11-09T09:37:15.972733",
     "exception": false,
     "start_time": "2021-11-09T09:37:15.883075",
     "status": "completed"
    },
    "tags": []
   },
   "outputs": [
    {
     "data": {
      "text/html": [
       "<div><div id=cc2dc555-c585-434a-8f26-c8b560b1f90d style=\"display:none; background-color:#9D6CFF; color:white; width:200px; height:30px; padding-left:5px; border-radius:4px; flex-direction:row; justify-content:space-around; align-items:center;\" onmouseover=\"this.style.backgroundColor='#BA9BF8'\" onmouseout=\"this.style.backgroundColor='#9D6CFF'\" onclick=\"window.commands?.execute('create-mitosheet-from-dataframe-output');\">See Full Dataframe in Mito</div> <script> if (window.commands?.hasCommand('create-mitosheet-from-dataframe-output')) document.getElementById('cc2dc555-c585-434a-8f26-c8b560b1f90d').style.display = 'flex' </script> <table border=\"1\" class=\"dataframe\">\n",
       "  <thead>\n",
       "    <tr style=\"text-align: right;\">\n",
       "      <th></th>\n",
       "      <th>FILM</th>\n",
       "      <th>RottenTomatoes</th>\n",
       "      <th>RottenTomatoes_User</th>\n",
       "      <th>Metacritic</th>\n",
       "      <th>Metacritic_User</th>\n",
       "      <th>IMDB</th>\n",
       "      <th>Metacritic_user_vote_count</th>\n",
       "      <th>IMDB_user_vote_count</th>\n",
       "    </tr>\n",
       "  </thead>\n",
       "  <tbody>\n",
       "    <tr>\n",
       "      <th>0</th>\n",
       "      <td>Avengers: Age of Ultron (2015)</td>\n",
       "      <td>74</td>\n",
       "      <td>86</td>\n",
       "      <td>66</td>\n",
       "      <td>7.1</td>\n",
       "      <td>7.8</td>\n",
       "      <td>1330</td>\n",
       "      <td>271107</td>\n",
       "    </tr>\n",
       "    <tr>\n",
       "      <th>1</th>\n",
       "      <td>Cinderella (2015)</td>\n",
       "      <td>85</td>\n",
       "      <td>80</td>\n",
       "      <td>67</td>\n",
       "      <td>7.5</td>\n",
       "      <td>7.1</td>\n",
       "      <td>249</td>\n",
       "      <td>65709</td>\n",
       "    </tr>\n",
       "    <tr>\n",
       "      <th>2</th>\n",
       "      <td>Ant-Man (2015)</td>\n",
       "      <td>80</td>\n",
       "      <td>90</td>\n",
       "      <td>64</td>\n",
       "      <td>8.1</td>\n",
       "      <td>7.8</td>\n",
       "      <td>627</td>\n",
       "      <td>103660</td>\n",
       "    </tr>\n",
       "    <tr>\n",
       "      <th>3</th>\n",
       "      <td>Do You Believe? (2015)</td>\n",
       "      <td>18</td>\n",
       "      <td>84</td>\n",
       "      <td>22</td>\n",
       "      <td>4.7</td>\n",
       "      <td>5.4</td>\n",
       "      <td>31</td>\n",
       "      <td>3136</td>\n",
       "    </tr>\n",
       "    <tr>\n",
       "      <th>4</th>\n",
       "      <td>Hot Tub Time Machine 2 (2015)</td>\n",
       "      <td>14</td>\n",
       "      <td>28</td>\n",
       "      <td>29</td>\n",
       "      <td>3.4</td>\n",
       "      <td>5.1</td>\n",
       "      <td>88</td>\n",
       "      <td>19560</td>\n",
       "    </tr>\n",
       "  </tbody>\n",
       "</table></div>"
      ],
      "text/plain": [
       "                             FILM  RottenTomatoes  RottenTomatoes_User  \\\n",
       "0  Avengers: Age of Ultron (2015)              74                   86   \n",
       "1               Cinderella (2015)              85                   80   \n",
       "2                  Ant-Man (2015)              80                   90   \n",
       "3          Do You Believe? (2015)              18                   84   \n",
       "4   Hot Tub Time Machine 2 (2015)              14                   28   \n",
       "\n",
       "   Metacritic  Metacritic_User  IMDB  Metacritic_user_vote_count  \\\n",
       "0          66              7.1   7.8                        1330   \n",
       "1          67              7.5   7.1                         249   \n",
       "2          64              8.1   7.8                         627   \n",
       "3          22              4.7   5.4                          31   \n",
       "4          29              3.4   5.1                          88   \n",
       "\n",
       "   IMDB_user_vote_count  \n",
       "0                271107  \n",
       "1                 65709  \n",
       "2                103660  \n",
       "3                  3136  \n",
       "4                 19560  "
      ]
     },
     "execution_count": 32,
     "metadata": {},
     "output_type": "execute_result"
    }
   ],
   "source": [
    "all_sites.head()"
   ]
  },
  {
   "cell_type": "code",
   "execution_count": 33,
   "id": "c00966b1",
   "metadata": {
    "execution": {
     "iopub.execute_input": "2021-11-09T09:37:16.137380Z",
     "iopub.status.busy": "2021-11-09T09:37:16.136740Z",
     "iopub.status.idle": "2021-11-09T09:37:16.139340Z",
     "shell.execute_reply": "2021-11-09T09:37:16.139815Z",
     "shell.execute_reply.started": "2021-11-09T08:20:15.071819Z"
    },
    "papermill": {
     "duration": 0.090908,
     "end_time": "2021-11-09T09:37:16.139976",
     "exception": false,
     "start_time": "2021-11-09T09:37:16.049068",
     "status": "completed"
    },
    "tags": []
   },
   "outputs": [
    {
     "name": "stdout",
     "output_type": "stream",
     "text": [
      "<class 'pandas.core.frame.DataFrame'>\n",
      "RangeIndex: 146 entries, 0 to 145\n",
      "Data columns (total 8 columns):\n",
      " #   Column                      Non-Null Count  Dtype  \n",
      "---  ------                      --------------  -----  \n",
      " 0   FILM                        146 non-null    object \n",
      " 1   RottenTomatoes              146 non-null    int64  \n",
      " 2   RottenTomatoes_User         146 non-null    int64  \n",
      " 3   Metacritic                  146 non-null    int64  \n",
      " 4   Metacritic_User             146 non-null    float64\n",
      " 5   IMDB                        146 non-null    float64\n",
      " 6   Metacritic_user_vote_count  146 non-null    int64  \n",
      " 7   IMDB_user_vote_count        146 non-null    int64  \n",
      "dtypes: float64(2), int64(5), object(1)\n",
      "memory usage: 9.2+ KB\n"
     ]
    }
   ],
   "source": [
    "all_sites.info()"
   ]
  },
  {
   "cell_type": "code",
   "execution_count": 35,
   "id": "42c742ba",
   "metadata": {
    "execution": {
     "iopub.execute_input": "2021-11-09T09:37:16.298280Z",
     "iopub.status.busy": "2021-11-09T09:37:16.297333Z",
     "iopub.status.idle": "2021-11-09T09:37:16.325881Z",
     "shell.execute_reply": "2021-11-09T09:37:16.326413Z",
     "shell.execute_reply.started": "2021-11-09T08:20:42.072465Z"
    },
    "papermill": {
     "duration": 0.110057,
     "end_time": "2021-11-09T09:37:16.326583",
     "exception": false,
     "start_time": "2021-11-09T09:37:16.216526",
     "status": "completed"
    },
    "tags": []
   },
   "outputs": [
    {
     "data": {
      "text/html": [
       "<div><div id=da47c6fa-d91a-4fdc-8a73-5d07bf0086b1 style=\"display:none; background-color:#9D6CFF; color:white; width:200px; height:30px; padding-left:5px; border-radius:4px; flex-direction:row; justify-content:space-around; align-items:center;\" onmouseover=\"this.style.backgroundColor='#BA9BF8'\" onmouseout=\"this.style.backgroundColor='#9D6CFF'\" onclick=\"window.commands?.execute('create-mitosheet-from-dataframe-output');\">See Full Dataframe in Mito</div> <script> if (window.commands?.hasCommand('create-mitosheet-from-dataframe-output')) document.getElementById('da47c6fa-d91a-4fdc-8a73-5d07bf0086b1').style.display = 'flex' </script> <table border=\"1\" class=\"dataframe\">\n",
       "  <thead>\n",
       "    <tr style=\"text-align: right;\">\n",
       "      <th></th>\n",
       "      <th>RottenTomatoes</th>\n",
       "      <th>RottenTomatoes_User</th>\n",
       "      <th>Metacritic</th>\n",
       "      <th>Metacritic_User</th>\n",
       "      <th>IMDB</th>\n",
       "      <th>Metacritic_user_vote_count</th>\n",
       "      <th>IMDB_user_vote_count</th>\n",
       "    </tr>\n",
       "  </thead>\n",
       "  <tbody>\n",
       "    <tr>\n",
       "      <th>count</th>\n",
       "      <td>146.000000</td>\n",
       "      <td>146.000000</td>\n",
       "      <td>146.000000</td>\n",
       "      <td>146.000000</td>\n",
       "      <td>146.000000</td>\n",
       "      <td>146.000000</td>\n",
       "      <td>146.000000</td>\n",
       "    </tr>\n",
       "    <tr>\n",
       "      <th>mean</th>\n",
       "      <td>60.849315</td>\n",
       "      <td>63.876712</td>\n",
       "      <td>58.808219</td>\n",
       "      <td>6.519178</td>\n",
       "      <td>6.736986</td>\n",
       "      <td>185.705479</td>\n",
       "      <td>42846.205479</td>\n",
       "    </tr>\n",
       "    <tr>\n",
       "      <th>std</th>\n",
       "      <td>30.168799</td>\n",
       "      <td>20.024430</td>\n",
       "      <td>19.517389</td>\n",
       "      <td>1.510712</td>\n",
       "      <td>0.958736</td>\n",
       "      <td>316.606515</td>\n",
       "      <td>67406.509171</td>\n",
       "    </tr>\n",
       "    <tr>\n",
       "      <th>min</th>\n",
       "      <td>5.000000</td>\n",
       "      <td>20.000000</td>\n",
       "      <td>13.000000</td>\n",
       "      <td>2.400000</td>\n",
       "      <td>4.000000</td>\n",
       "      <td>4.000000</td>\n",
       "      <td>243.000000</td>\n",
       "    </tr>\n",
       "    <tr>\n",
       "      <th>25%</th>\n",
       "      <td>31.250000</td>\n",
       "      <td>50.000000</td>\n",
       "      <td>43.500000</td>\n",
       "      <td>5.700000</td>\n",
       "      <td>6.300000</td>\n",
       "      <td>33.250000</td>\n",
       "      <td>5627.000000</td>\n",
       "    </tr>\n",
       "    <tr>\n",
       "      <th>50%</th>\n",
       "      <td>63.500000</td>\n",
       "      <td>66.500000</td>\n",
       "      <td>59.000000</td>\n",
       "      <td>6.850000</td>\n",
       "      <td>6.900000</td>\n",
       "      <td>72.500000</td>\n",
       "      <td>19103.000000</td>\n",
       "    </tr>\n",
       "    <tr>\n",
       "      <th>75%</th>\n",
       "      <td>89.000000</td>\n",
       "      <td>81.000000</td>\n",
       "      <td>75.000000</td>\n",
       "      <td>7.500000</td>\n",
       "      <td>7.400000</td>\n",
       "      <td>168.500000</td>\n",
       "      <td>45185.750000</td>\n",
       "    </tr>\n",
       "    <tr>\n",
       "      <th>max</th>\n",
       "      <td>100.000000</td>\n",
       "      <td>94.000000</td>\n",
       "      <td>94.000000</td>\n",
       "      <td>9.600000</td>\n",
       "      <td>8.600000</td>\n",
       "      <td>2375.000000</td>\n",
       "      <td>334164.000000</td>\n",
       "    </tr>\n",
       "  </tbody>\n",
       "</table></div>"
      ],
      "text/plain": [
       "       RottenTomatoes  RottenTomatoes_User  Metacritic  Metacritic_User  \\\n",
       "count      146.000000           146.000000  146.000000       146.000000   \n",
       "mean        60.849315            63.876712   58.808219         6.519178   \n",
       "std         30.168799            20.024430   19.517389         1.510712   \n",
       "min          5.000000            20.000000   13.000000         2.400000   \n",
       "25%         31.250000            50.000000   43.500000         5.700000   \n",
       "50%         63.500000            66.500000   59.000000         6.850000   \n",
       "75%         89.000000            81.000000   75.000000         7.500000   \n",
       "max        100.000000            94.000000   94.000000         9.600000   \n",
       "\n",
       "             IMDB  Metacritic_user_vote_count  IMDB_user_vote_count  \n",
       "count  146.000000                  146.000000            146.000000  \n",
       "mean     6.736986                  185.705479          42846.205479  \n",
       "std      0.958736                  316.606515          67406.509171  \n",
       "min      4.000000                    4.000000            243.000000  \n",
       "25%      6.300000                   33.250000           5627.000000  \n",
       "50%      6.900000                   72.500000          19103.000000  \n",
       "75%      7.400000                  168.500000          45185.750000  \n",
       "max      8.600000                 2375.000000         334164.000000  "
      ]
     },
     "execution_count": 35,
     "metadata": {},
     "output_type": "execute_result"
    }
   ],
   "source": [
    "all_sites.describe()"
   ]
  },
  {
   "cell_type": "markdown",
   "id": "108e9f7c",
   "metadata": {
    "papermill": {
     "duration": 0.079639,
     "end_time": "2021-11-09T09:37:16.489667",
     "exception": false,
     "start_time": "2021-11-09T09:37:16.410028",
     "status": "completed"
    },
    "tags": []
   },
   "source": [
    "### Rotten Tomatoes\n",
    "\n",
    "Let's first take a look at Rotten Tomatoes. RT has two sets of reviews, their critics reviews (ratings published by official critics) and user reviews. \n",
    "\n",
    "**TASK: Create a scatterplot exploring the relationship between RT Critic reviews and RT User reviews.**"
   ]
  },
  {
   "cell_type": "code",
   "execution_count": null,
   "id": "1cac1c58",
   "metadata": {
    "execution": {
     "iopub.execute_input": "2021-11-09T09:37:16.653606Z",
     "iopub.status.busy": "2021-11-09T09:37:16.652627Z",
     "iopub.status.idle": "2021-11-09T09:37:16.655911Z",
     "shell.execute_reply": "2021-11-09T09:37:16.656429Z",
     "shell.execute_reply.started": "2021-11-09T08:19:34.745911Z"
    },
    "papermill": {
     "duration": 0.087739,
     "end_time": "2021-11-09T09:37:16.656594",
     "exception": false,
     "start_time": "2021-11-09T09:37:16.568855",
     "status": "completed"
    },
    "tags": []
   },
   "outputs": [],
   "source": [
    "# CODE HERE"
   ]
  },
  {
   "cell_type": "code",
   "execution_count": 36,
   "id": "6cfc3750",
   "metadata": {
    "execution": {
     "iopub.execute_input": "2021-11-09T09:37:16.814499Z",
     "iopub.status.busy": "2021-11-09T09:37:16.813555Z",
     "iopub.status.idle": "2021-11-09T09:37:17.065516Z",
     "shell.execute_reply": "2021-11-09T09:37:17.064995Z",
     "shell.execute_reply.started": "2021-11-09T08:23:34.340717Z"
    },
    "papermill": {
     "duration": 0.331928,
     "end_time": "2021-11-09T09:37:17.065654",
     "exception": false,
     "start_time": "2021-11-09T09:37:16.733726",
     "status": "completed"
    },
    "tags": []
   },
   "outputs": [
    {
     "data": {
      "text/plain": [
       "(0.0, 100.0)"
      ]
     },
     "execution_count": 36,
     "metadata": {},
     "output_type": "execute_result"
    },
    {
     "data": {
      "image/png": "[encoded data removed]",
      "text/plain": [
       "<Figure size 960x720 with 1 Axes>"
      ]
     },
     "metadata": {},
     "output_type": "display_data"
    }
   ],
   "source": [
    "plt.figure(dpi=150)\n",
    "sns.scatterplot(data=all_sites, x='RottenTomatoes', y='RottenTomatoes_User')\n",
    "plt.ylim(0,100)\n",
    "plt.xlim(0,100)"
   ]
  },
  {
   "cell_type": "markdown",
   "id": "674bc731",
   "metadata": {
    "papermill": {
     "duration": 0.078875,
     "end_time": "2021-11-09T09:37:17.224471",
     "exception": false,
     "start_time": "2021-11-09T09:37:17.145596",
     "status": "completed"
    },
    "tags": []
   },
   "source": [
    "Let's quantify this difference by comparing the critics ratings and the RT User ratings. We will calculate this with RottenTomatoes-RottenTomatoes_User. Note: Rotten_Diff here is Critics - User Score. So values closer to 0 means aggrement between Critics and Users. Larger positive values means critics rated much higher than users. Larger negative values means users rated much higher than critics.\n",
    "\n",
    "**TASK: Create a new column based off the difference between critics ratings and users ratings for Rotten Tomatoes. Calculate this with RottenTomatoes-RottenTomatoes_User**"
   ]
  },
  {
   "cell_type": "code",
   "execution_count": null,
   "id": "6a0c97b4",
   "metadata": {
    "execution": {
     "iopub.execute_input": "2021-11-09T09:37:17.387624Z",
     "iopub.status.busy": "2021-11-09T09:37:17.386857Z",
     "iopub.status.idle": "2021-11-09T09:37:17.389189Z",
     "shell.execute_reply": "2021-11-09T09:37:17.388625Z",
     "shell.execute_reply.started": "2021-11-09T08:19:34.754797Z"
    },
    "papermill": {
     "duration": 0.085618,
     "end_time": "2021-11-09T09:37:17.389325",
     "exception": false,
     "start_time": "2021-11-09T09:37:17.303707",
     "status": "completed"
    },
    "tags": []
   },
   "outputs": [],
   "source": [
    "#CODE HERE"
   ]
  },
  {
   "cell_type": "code",
   "execution_count": 37,
   "id": "d0c157cb",
   "metadata": {
    "execution": {
     "iopub.execute_input": "2021-11-09T09:37:17.555593Z",
     "iopub.status.busy": "2021-11-09T09:37:17.554590Z",
     "iopub.status.idle": "2021-11-09T09:37:17.564739Z",
     "shell.execute_reply": "2021-11-09T09:37:17.565166Z",
     "shell.execute_reply.started": "2021-11-09T08:27:11.436451Z"
    },
    "papermill": {
     "duration": 0.096134,
     "end_time": "2021-11-09T09:37:17.565342",
     "exception": false,
     "start_time": "2021-11-09T09:37:17.469208",
     "status": "completed"
    },
    "tags": []
   },
   "outputs": [
    {
     "data": {
      "text/html": [
       "<div><div id=c45e6209-b331-4a88-b34a-074bcb52ddeb style=\"display:none; background-color:#9D6CFF; color:white; width:200px; height:30px; padding-left:5px; border-radius:4px; flex-direction:row; justify-content:space-around; align-items:center;\" onmouseover=\"this.style.backgroundColor='#BA9BF8'\" onmouseout=\"this.style.backgroundColor='#9D6CFF'\" onclick=\"window.commands?.execute('create-mitosheet-from-dataframe-output');\">See Full Dataframe in Mito</div> <script> if (window.commands?.hasCommand('create-mitosheet-from-dataframe-output')) document.getElementById('c45e6209-b331-4a88-b34a-074bcb52ddeb').style.display = 'flex' </script> <table border=\"1\" class=\"dataframe\">\n",
       "  <thead>\n",
       "    <tr style=\"text-align: right;\">\n",
       "      <th></th>\n",
       "      <th>FILM</th>\n",
       "      <th>RottenTomatoes</th>\n",
       "      <th>RottenTomatoes_User</th>\n",
       "      <th>Metacritic</th>\n",
       "      <th>Metacritic_User</th>\n",
       "      <th>IMDB</th>\n",
       "      <th>Metacritic_user_vote_count</th>\n",
       "      <th>IMDB_user_vote_count</th>\n",
       "      <th>Rotten_Diff</th>\n",
       "    </tr>\n",
       "  </thead>\n",
       "  <tbody>\n",
       "    <tr>\n",
       "      <th>0</th>\n",
       "      <td>Avengers: Age of Ultron (2015)</td>\n",
       "      <td>74</td>\n",
       "      <td>86</td>\n",
       "      <td>66</td>\n",
       "      <td>7.1</td>\n",
       "      <td>7.8</td>\n",
       "      <td>1330</td>\n",
       "      <td>271107</td>\n",
       "      <td>-12</td>\n",
       "    </tr>\n",
       "    <tr>\n",
       "      <th>1</th>\n",
       "      <td>Cinderella (2015)</td>\n",
       "      <td>85</td>\n",
       "      <td>80</td>\n",
       "      <td>67</td>\n",
       "      <td>7.5</td>\n",
       "      <td>7.1</td>\n",
       "      <td>249</td>\n",
       "      <td>65709</td>\n",
       "      <td>5</td>\n",
       "    </tr>\n",
       "    <tr>\n",
       "      <th>2</th>\n",
       "      <td>Ant-Man (2015)</td>\n",
       "      <td>80</td>\n",
       "      <td>90</td>\n",
       "      <td>64</td>\n",
       "      <td>8.1</td>\n",
       "      <td>7.8</td>\n",
       "      <td>627</td>\n",
       "      <td>103660</td>\n",
       "      <td>-10</td>\n",
       "    </tr>\n",
       "    <tr>\n",
       "      <th>3</th>\n",
       "      <td>Do You Believe? (2015)</td>\n",
       "      <td>18</td>\n",
       "      <td>84</td>\n",
       "      <td>22</td>\n",
       "      <td>4.7</td>\n",
       "      <td>5.4</td>\n",
       "      <td>31</td>\n",
       "      <td>3136</td>\n",
       "      <td>-66</td>\n",
       "    </tr>\n",
       "    <tr>\n",
       "      <th>4</th>\n",
       "      <td>Hot Tub Time Machine 2 (2015)</td>\n",
       "      <td>14</td>\n",
       "      <td>28</td>\n",
       "      <td>29</td>\n",
       "      <td>3.4</td>\n",
       "      <td>5.1</td>\n",
       "      <td>88</td>\n",
       "      <td>19560</td>\n",
       "      <td>-14</td>\n",
       "    </tr>\n",
       "  </tbody>\n",
       "</table></div>"
      ],
      "text/plain": [
       "                             FILM  RottenTomatoes  RottenTomatoes_User  \\\n",
       "0  Avengers: Age of Ultron (2015)              74                   86   \n",
       "1               Cinderella (2015)              85                   80   \n",
       "2                  Ant-Man (2015)              80                   90   \n",
       "3          Do You Believe? (2015)              18                   84   \n",
       "4   Hot Tub Time Machine 2 (2015)              14                   28   \n",
       "\n",
       "   Metacritic  Metacritic_User  IMDB  Metacritic_user_vote_count  \\\n",
       "0          66              7.1   7.8                        1330   \n",
       "1          67              7.5   7.1                         249   \n",
       "2          64              8.1   7.8                         627   \n",
       "3          22              4.7   5.4                          31   \n",
       "4          29              3.4   5.1                          88   \n",
       "\n",
       "   IMDB_user_vote_count  Rotten_Diff  \n",
       "0                271107          -12  \n",
       "1                 65709            5  \n",
       "2                103660          -10  \n",
       "3                  3136          -66  \n",
       "4                 19560          -14  "
      ]
     },
     "execution_count": 37,
     "metadata": {},
     "output_type": "execute_result"
    }
   ],
   "source": [
    "all_sites['Rotten_Diff'] = all_sites['RottenTomatoes'] - all_sites['RottenTomatoes_User']\n",
    "all_sites.head()"
   ]
  },
  {
   "cell_type": "markdown",
   "id": "b1d0084a",
   "metadata": {
    "papermill": {
     "duration": 0.078677,
     "end_time": "2021-11-09T09:37:17.724311",
     "exception": false,
     "start_time": "2021-11-09T09:37:17.645634",
     "status": "completed"
    },
    "tags": []
   },
   "source": [
    "Let's now compare the overall mean difference. Since we're dealing with differences that could be negative or positive, first take the absolute value of all the differences, then take the mean. This would report back on average to absolute difference between the critics rating versus the user rating."
   ]
  },
  {
   "cell_type": "markdown",
   "id": "dbcbcba9",
   "metadata": {
    "papermill": {
     "duration": 0.078762,
     "end_time": "2021-11-09T09:37:17.882709",
     "exception": false,
     "start_time": "2021-11-09T09:37:17.803947",
     "status": "completed"
    },
    "tags": []
   },
   "source": [
    "**TASK: Calculate the Mean Absolute Difference between RT scores and RT User scores as described above.**"
   ]
  },
  {
   "cell_type": "code",
   "execution_count": null,
   "id": "bd24126f",
   "metadata": {
    "execution": {
     "iopub.execute_input": "2021-11-09T09:37:18.045609Z",
     "iopub.status.busy": "2021-11-09T09:37:18.044647Z",
     "iopub.status.idle": "2021-11-09T09:37:18.047826Z",
     "shell.execute_reply": "2021-11-09T09:37:18.048277Z",
     "shell.execute_reply.started": "2021-11-09T08:19:34.766630Z"
    },
    "papermill": {
     "duration": 0.08621,
     "end_time": "2021-11-09T09:37:18.048439",
     "exception": false,
     "start_time": "2021-11-09T09:37:17.962229",
     "status": "completed"
    },
    "tags": []
   },
   "outputs": [],
   "source": [
    "# CODE HERE"
   ]
  },
  {
   "cell_type": "code",
   "execution_count": 38,
   "id": "1240a559",
   "metadata": {
    "execution": {
     "iopub.execute_input": "2021-11-09T09:37:18.211192Z",
     "iopub.status.busy": "2021-11-09T09:37:18.210270Z",
     "iopub.status.idle": "2021-11-09T09:37:18.216121Z",
     "shell.execute_reply": "2021-11-09T09:37:18.216532Z",
     "shell.execute_reply.started": "2021-11-09T08:26:43.864416Z"
    },
    "papermill": {
     "duration": 0.088435,
     "end_time": "2021-11-09T09:37:18.216695",
     "exception": false,
     "start_time": "2021-11-09T09:37:18.128260",
     "status": "completed"
    },
    "tags": []
   },
   "outputs": [
    {
     "data": {
      "text/plain": [
       "15.095890410958905"
      ]
     },
     "execution_count": 38,
     "metadata": {},
     "output_type": "execute_result"
    }
   ],
   "source": [
    "all_sites['Rotten_Diff'].apply(abs).mean()"
   ]
  },
  {
   "cell_type": "markdown",
   "id": "4abdbdcd",
   "metadata": {
    "papermill": {
     "duration": 0.081686,
     "end_time": "2021-11-09T09:37:18.378186",
     "exception": false,
     "start_time": "2021-11-09T09:37:18.296500",
     "status": "completed"
    },
    "tags": []
   },
   "source": [
    "**TASK: Plot the distribution of the differences between RT Critics Score and RT User Score. There should be negative values in this distribution plot. Feel free to use KDE or Histograms to display this distribution.**"
   ]
  },
  {
   "cell_type": "code",
   "execution_count": null,
   "id": "0981182f",
   "metadata": {
    "execution": {
     "iopub.execute_input": "2021-11-09T09:37:18.541462Z",
     "iopub.status.busy": "2021-11-09T09:37:18.540575Z",
     "iopub.status.idle": "2021-11-09T09:37:18.543774Z",
     "shell.execute_reply": "2021-11-09T09:37:18.544213Z",
     "shell.execute_reply.started": "2021-11-09T08:19:34.780466Z"
    },
    "papermill": {
     "duration": 0.086966,
     "end_time": "2021-11-09T09:37:18.544383",
     "exception": false,
     "start_time": "2021-11-09T09:37:18.457417",
     "status": "completed"
    },
    "tags": []
   },
   "outputs": [],
   "source": [
    "#CODE HERE"
   ]
  },
  {
   "cell_type": "code",
   "execution_count": 39,
   "id": "21cf405a",
   "metadata": {
    "execution": {
     "iopub.execute_input": "2021-11-09T09:37:18.709014Z",
     "iopub.status.busy": "2021-11-09T09:37:18.708090Z",
     "iopub.status.idle": "2021-11-09T09:37:18.979045Z",
     "shell.execute_reply": "2021-11-09T09:37:18.979507Z",
     "shell.execute_reply.started": "2021-11-09T08:30:17.685448Z"
    },
    "papermill": {
     "duration": 0.355235,
     "end_time": "2021-11-09T09:37:18.979685",
     "exception": false,
     "start_time": "2021-11-09T09:37:18.624450",
     "status": "completed"
    },
    "tags": []
   },
   "outputs": [
    {
     "data": {
      "text/plain": [
       "<AxesSubplot: xlabel='Rotten_Diff', ylabel='Count'>"
      ]
     },
     "execution_count": 39,
     "metadata": {},
     "output_type": "execute_result"
    },
    {
     "data": {
      "image/png": "[encoded data removed]",
      "text/plain": [
       "<Figure size 640x480 with 1 Axes>"
      ]
     },
     "metadata": {},
     "output_type": "display_data"
    }
   ],
   "source": [
    "sns.histplot(data=all_sites, x='Rotten_Diff', kde=True, bins=25)"
   ]
  },
  {
   "cell_type": "markdown",
   "id": "78c855b5",
   "metadata": {
    "papermill": {
     "duration": 0.082931,
     "end_time": "2021-11-09T09:37:19.143830",
     "exception": false,
     "start_time": "2021-11-09T09:37:19.060899",
     "status": "completed"
    },
    "tags": []
   },
   "source": [
    "**TASK: Now create a distribution showing the *absolute value* difference between Critics and Users on Rotten Tomatoes.**"
   ]
  },
  {
   "cell_type": "code",
   "execution_count": null,
   "id": "a696416f",
   "metadata": {
    "execution": {
     "iopub.execute_input": "2021-11-09T09:37:19.313676Z",
     "iopub.status.busy": "2021-11-09T09:37:19.313053Z",
     "iopub.status.idle": "2021-11-09T09:37:19.315450Z",
     "shell.execute_reply": "2021-11-09T09:37:19.314980Z",
     "shell.execute_reply.started": "2021-11-09T08:19:34.796461Z"
    },
    "papermill": {
     "duration": 0.088908,
     "end_time": "2021-11-09T09:37:19.315585",
     "exception": false,
     "start_time": "2021-11-09T09:37:19.226677",
     "status": "completed"
    },
    "tags": []
   },
   "outputs": [],
   "source": [
    "#CODE HERE"
   ]
  },
  {
   "cell_type": "code",
   "execution_count": 40,
   "id": "23f95ab6",
   "metadata": {
    "execution": {
     "iopub.execute_input": "2021-11-09T09:37:19.507471Z",
     "iopub.status.busy": "2021-11-09T09:37:19.506900Z",
     "iopub.status.idle": "2021-11-09T09:37:19.776264Z",
     "shell.execute_reply": "2021-11-09T09:37:19.775595Z",
     "shell.execute_reply.started": "2021-11-09T08:32:25.113224Z"
    },
    "papermill": {
     "duration": 0.364307,
     "end_time": "2021-11-09T09:37:19.776404",
     "exception": false,
     "start_time": "2021-11-09T09:37:19.412097",
     "status": "completed"
    },
    "tags": []
   },
   "outputs": [
    {
     "data": {
      "text/plain": [
       "<AxesSubplot: xlabel='Rotten_Diff', ylabel='Count'>"
      ]
     },
     "execution_count": 40,
     "metadata": {},
     "output_type": "execute_result"
    },
    {
     "data": {
      "image/png": "[encoded data removed]",
      "text/plain": [
       "<Figure size 640x480 with 1 Axes>"
      ]
     },
     "metadata": {},
     "output_type": "display_data"
    }
   ],
   "source": [
    "sns.histplot(x=all_sites['Rotten_Diff'].apply(abs), kde=True, bins=25)"
   ]
  },
  {
   "cell_type": "markdown",
   "id": "d211b40a",
   "metadata": {
    "papermill": {
     "duration": 0.081224,
     "end_time": "2021-11-09T09:37:19.939421",
     "exception": false,
     "start_time": "2021-11-09T09:37:19.858197",
     "status": "completed"
    },
    "tags": []
   },
   "source": [
    "**Let's find out which movies are causing the largest differences. First, show the top 5 movies with the largest *negative* difference between Users and RT critics. Since we calculated the difference as Critics Rating - Users Rating, then large negative values imply the users rated the movie much higher on average than the critics did.**"
   ]
  },
  {
   "cell_type": "markdown",
   "id": "78ae3752",
   "metadata": {
    "papermill": {
     "duration": 0.081056,
     "end_time": "2021-11-09T09:37:20.102542",
     "exception": false,
     "start_time": "2021-11-09T09:37:20.021486",
     "status": "completed"
    },
    "tags": []
   },
   "source": [
    "**TASK: What are the top 5 movies users rated higher than critics on average:**"
   ]
  },
  {
   "cell_type": "code",
   "execution_count": null,
   "id": "1a8e3684",
   "metadata": {
    "execution": {
     "iopub.execute_input": "2021-11-09T09:37:20.269073Z",
     "iopub.status.busy": "2021-11-09T09:37:20.268439Z",
     "iopub.status.idle": "2021-11-09T09:37:20.271223Z",
     "shell.execute_reply": "2021-11-09T09:37:20.271758Z",
     "shell.execute_reply.started": "2021-11-09T08:19:34.804689Z"
    },
    "papermill": {
     "duration": 0.08794,
     "end_time": "2021-11-09T09:37:20.271937",
     "exception": false,
     "start_time": "2021-11-09T09:37:20.183997",
     "status": "completed"
    },
    "tags": []
   },
   "outputs": [],
   "source": [
    "# CODE HERE"
   ]
  },
  {
   "cell_type": "code",
   "execution_count": 42,
   "id": "215c2cb2",
   "metadata": {
    "execution": {
     "iopub.execute_input": "2021-11-09T09:37:20.441473Z",
     "iopub.status.busy": "2021-11-09T09:37:20.440672Z",
     "iopub.status.idle": "2021-11-09T09:37:20.453031Z",
     "shell.execute_reply": "2021-11-09T09:37:20.453555Z",
     "shell.execute_reply.started": "2021-11-09T08:33:37.240357Z"
    },
    "papermill": {
     "duration": 0.097531,
     "end_time": "2021-11-09T09:37:20.453721",
     "exception": false,
     "start_time": "2021-11-09T09:37:20.356190",
     "status": "completed"
    },
    "tags": []
   },
   "outputs": [
    {
     "data": {
      "text/html": [
       "<div><div id=bbf00f2f-ff14-4cf9-b8a7-f1efc305ea7a style=\"display:none; background-color:#9D6CFF; color:white; width:200px; height:30px; padding-left:5px; border-radius:4px; flex-direction:row; justify-content:space-around; align-items:center;\" onmouseover=\"this.style.backgroundColor='#BA9BF8'\" onmouseout=\"this.style.backgroundColor='#9D6CFF'\" onclick=\"window.commands?.execute('create-mitosheet-from-dataframe-output');\">See Full Dataframe in Mito</div> <script> if (window.commands?.hasCommand('create-mitosheet-from-dataframe-output')) document.getElementById('bbf00f2f-ff14-4cf9-b8a7-f1efc305ea7a').style.display = 'flex' </script> <table border=\"1\" class=\"dataframe\">\n",
       "  <thead>\n",
       "    <tr style=\"text-align: right;\">\n",
       "      <th></th>\n",
       "      <th>FILM</th>\n",
       "      <th>RottenTomatoes</th>\n",
       "      <th>RottenTomatoes_User</th>\n",
       "      <th>Metacritic</th>\n",
       "      <th>Metacritic_User</th>\n",
       "      <th>IMDB</th>\n",
       "      <th>Metacritic_user_vote_count</th>\n",
       "      <th>IMDB_user_vote_count</th>\n",
       "      <th>Rotten_Diff</th>\n",
       "    </tr>\n",
       "  </thead>\n",
       "  <tbody>\n",
       "    <tr>\n",
       "      <th>3</th>\n",
       "      <td>Do You Believe? (2015)</td>\n",
       "      <td>18</td>\n",
       "      <td>84</td>\n",
       "      <td>22</td>\n",
       "      <td>4.7</td>\n",
       "      <td>5.4</td>\n",
       "      <td>31</td>\n",
       "      <td>3136</td>\n",
       "      <td>-66</td>\n",
       "    </tr>\n",
       "    <tr>\n",
       "      <th>85</th>\n",
       "      <td>Little Boy (2015)</td>\n",
       "      <td>20</td>\n",
       "      <td>81</td>\n",
       "      <td>30</td>\n",
       "      <td>5.9</td>\n",
       "      <td>7.4</td>\n",
       "      <td>38</td>\n",
       "      <td>5927</td>\n",
       "      <td>-61</td>\n",
       "    </tr>\n",
       "    <tr>\n",
       "      <th>105</th>\n",
       "      <td>Hitman: Agent 47 (2015)</td>\n",
       "      <td>7</td>\n",
       "      <td>49</td>\n",
       "      <td>28</td>\n",
       "      <td>3.3</td>\n",
       "      <td>5.9</td>\n",
       "      <td>67</td>\n",
       "      <td>4260</td>\n",
       "      <td>-42</td>\n",
       "    </tr>\n",
       "    <tr>\n",
       "      <th>134</th>\n",
       "      <td>The Longest Ride (2015)</td>\n",
       "      <td>31</td>\n",
       "      <td>73</td>\n",
       "      <td>33</td>\n",
       "      <td>4.8</td>\n",
       "      <td>7.2</td>\n",
       "      <td>49</td>\n",
       "      <td>25214</td>\n",
       "      <td>-42</td>\n",
       "    </tr>\n",
       "    <tr>\n",
       "      <th>125</th>\n",
       "      <td>The Wedding Ringer (2015)</td>\n",
       "      <td>27</td>\n",
       "      <td>66</td>\n",
       "      <td>35</td>\n",
       "      <td>3.3</td>\n",
       "      <td>6.7</td>\n",
       "      <td>126</td>\n",
       "      <td>37292</td>\n",
       "      <td>-39</td>\n",
       "    </tr>\n",
       "  </tbody>\n",
       "</table></div>"
      ],
      "text/plain": [
       "                          FILM  RottenTomatoes  RottenTomatoes_User  \\\n",
       "3       Do You Believe? (2015)              18                   84   \n",
       "85           Little Boy (2015)              20                   81   \n",
       "105    Hitman: Agent 47 (2015)               7                   49   \n",
       "134    The Longest Ride (2015)              31                   73   \n",
       "125  The Wedding Ringer (2015)              27                   66   \n",
       "\n",
       "     Metacritic  Metacritic_User  IMDB  Metacritic_user_vote_count  \\\n",
       "3            22              4.7   5.4                          31   \n",
       "85           30              5.9   7.4                          38   \n",
       "105          28              3.3   5.9                          67   \n",
       "134          33              4.8   7.2                          49   \n",
       "125          35              3.3   6.7                         126   \n",
       "\n",
       "     IMDB_user_vote_count  Rotten_Diff  \n",
       "3                    3136          -66  \n",
       "85                   5927          -61  \n",
       "105                  4260          -42  \n",
       "134                 25214          -42  \n",
       "125                 37292          -39  "
      ]
     },
     "execution_count": 42,
     "metadata": {},
     "output_type": "execute_result"
    }
   ],
   "source": [
    "all_sites.nsmallest(5,'Rotten_Diff')"
   ]
  },
  {
   "cell_type": "markdown",
   "id": "5fa9467a",
   "metadata": {
    "papermill": {
     "duration": 0.081815,
     "end_time": "2021-11-09T09:37:20.619291",
     "exception": false,
     "start_time": "2021-11-09T09:37:20.537476",
     "status": "completed"
    },
    "tags": []
   },
   "source": [
    "**TASK: Now show the top 5 movies critics scores higher than users on average.**"
   ]
  },
  {
   "cell_type": "code",
   "execution_count": null,
   "id": "bd8adc8f",
   "metadata": {
    "execution": {
     "iopub.execute_input": "2021-11-09T09:37:20.786333Z",
     "iopub.status.busy": "2021-11-09T09:37:20.785712Z",
     "iopub.status.idle": "2021-11-09T09:37:20.788454Z",
     "shell.execute_reply": "2021-11-09T09:37:20.788972Z",
     "shell.execute_reply.started": "2021-11-09T08:19:34.817499Z"
    },
    "papermill": {
     "duration": 0.087975,
     "end_time": "2021-11-09T09:37:20.789138",
     "exception": false,
     "start_time": "2021-11-09T09:37:20.701163",
     "status": "completed"
    },
    "tags": []
   },
   "outputs": [],
   "source": [
    "# CODE HERE"
   ]
  },
  {
   "cell_type": "code",
   "execution_count": 43,
   "id": "7dea6e95",
   "metadata": {
    "execution": {
     "iopub.execute_input": "2021-11-09T09:37:20.956442Z",
     "iopub.status.busy": "2021-11-09T09:37:20.955837Z",
     "iopub.status.idle": "2021-11-09T09:37:20.968260Z",
     "shell.execute_reply": "2021-11-09T09:37:20.968773Z",
     "shell.execute_reply.started": "2021-11-09T08:34:19.238899Z"
    },
    "papermill": {
     "duration": 0.097291,
     "end_time": "2021-11-09T09:37:20.968948",
     "exception": false,
     "start_time": "2021-11-09T09:37:20.871657",
     "status": "completed"
    },
    "tags": []
   },
   "outputs": [
    {
     "data": {
      "text/html": [
       "<div><div id=0b4d52cb-f2cc-4823-9896-fac21c1bdc0b style=\"display:none; background-color:#9D6CFF; color:white; width:200px; height:30px; padding-left:5px; border-radius:4px; flex-direction:row; justify-content:space-around; align-items:center;\" onmouseover=\"this.style.backgroundColor='#BA9BF8'\" onmouseout=\"this.style.backgroundColor='#9D6CFF'\" onclick=\"window.commands?.execute('create-mitosheet-from-dataframe-output');\">See Full Dataframe in Mito</div> <script> if (window.commands?.hasCommand('create-mitosheet-from-dataframe-output')) document.getElementById('0b4d52cb-f2cc-4823-9896-fac21c1bdc0b').style.display = 'flex' </script> <table border=\"1\" class=\"dataframe\">\n",
       "  <thead>\n",
       "    <tr style=\"text-align: right;\">\n",
       "      <th></th>\n",
       "      <th>FILM</th>\n",
       "      <th>RottenTomatoes</th>\n",
       "      <th>RottenTomatoes_User</th>\n",
       "      <th>Metacritic</th>\n",
       "      <th>Metacritic_User</th>\n",
       "      <th>IMDB</th>\n",
       "      <th>Metacritic_user_vote_count</th>\n",
       "      <th>IMDB_user_vote_count</th>\n",
       "      <th>Rotten_Diff</th>\n",
       "    </tr>\n",
       "  </thead>\n",
       "  <tbody>\n",
       "    <tr>\n",
       "      <th>69</th>\n",
       "      <td>Mr. Turner (2014)</td>\n",
       "      <td>98</td>\n",
       "      <td>56</td>\n",
       "      <td>94</td>\n",
       "      <td>6.6</td>\n",
       "      <td>6.9</td>\n",
       "      <td>98</td>\n",
       "      <td>13296</td>\n",
       "      <td>42</td>\n",
       "    </tr>\n",
       "    <tr>\n",
       "      <th>112</th>\n",
       "      <td>It Follows (2015)</td>\n",
       "      <td>96</td>\n",
       "      <td>65</td>\n",
       "      <td>83</td>\n",
       "      <td>7.5</td>\n",
       "      <td>6.9</td>\n",
       "      <td>551</td>\n",
       "      <td>64656</td>\n",
       "      <td>31</td>\n",
       "    </tr>\n",
       "    <tr>\n",
       "      <th>115</th>\n",
       "      <td>While We're Young (2015)</td>\n",
       "      <td>83</td>\n",
       "      <td>52</td>\n",
       "      <td>76</td>\n",
       "      <td>6.7</td>\n",
       "      <td>6.4</td>\n",
       "      <td>65</td>\n",
       "      <td>17647</td>\n",
       "      <td>31</td>\n",
       "    </tr>\n",
       "    <tr>\n",
       "      <th>37</th>\n",
       "      <td>Welcome to Me (2015)</td>\n",
       "      <td>71</td>\n",
       "      <td>47</td>\n",
       "      <td>67</td>\n",
       "      <td>6.9</td>\n",
       "      <td>5.9</td>\n",
       "      <td>33</td>\n",
       "      <td>8301</td>\n",
       "      <td>24</td>\n",
       "    </tr>\n",
       "    <tr>\n",
       "      <th>40</th>\n",
       "      <td>I'll See You In My Dreams (2015)</td>\n",
       "      <td>94</td>\n",
       "      <td>70</td>\n",
       "      <td>75</td>\n",
       "      <td>6.9</td>\n",
       "      <td>6.9</td>\n",
       "      <td>14</td>\n",
       "      <td>1151</td>\n",
       "      <td>24</td>\n",
       "    </tr>\n",
       "  </tbody>\n",
       "</table></div>"
      ],
      "text/plain": [
       "                                 FILM  RottenTomatoes  RottenTomatoes_User  \\\n",
       "69                  Mr. Turner (2014)              98                   56   \n",
       "112                 It Follows (2015)              96                   65   \n",
       "115          While We're Young (2015)              83                   52   \n",
       "37               Welcome to Me (2015)              71                   47   \n",
       "40   I'll See You In My Dreams (2015)              94                   70   \n",
       "\n",
       "     Metacritic  Metacritic_User  IMDB  Metacritic_user_vote_count  \\\n",
       "69           94              6.6   6.9                          98   \n",
       "112          83              7.5   6.9                         551   \n",
       "115          76              6.7   6.4                          65   \n",
       "37           67              6.9   5.9                          33   \n",
       "40           75              6.9   6.9                          14   \n",
       "\n",
       "     IMDB_user_vote_count  Rotten_Diff  \n",
       "69                  13296           42  \n",
       "112                 64656           31  \n",
       "115                 17647           31  \n",
       "37                   8301           24  \n",
       "40                   1151           24  "
      ]
     },
     "execution_count": 43,
     "metadata": {},
     "output_type": "execute_result"
    }
   ],
   "source": [
    "all_sites.nlargest(5,'Rotten_Diff')"
   ]
  },
  {
   "cell_type": "markdown",
   "id": "d60c5c1e",
   "metadata": {
    "papermill": {
     "duration": 0.082419,
     "end_time": "2021-11-09T09:37:21.133592",
     "exception": false,
     "start_time": "2021-11-09T09:37:21.051173",
     "status": "completed"
    },
    "tags": []
   },
   "source": [
    "## MetaCritic\n",
    "\n",
    "Now let's take a quick look at the ratings from MetaCritic. Metacritic also shows an average user rating versus their official displayed rating."
   ]
  },
  {
   "cell_type": "markdown",
   "id": "aee2b41b",
   "metadata": {
    "papermill": {
     "duration": 0.10593,
     "end_time": "2021-11-09T09:37:21.321744",
     "exception": false,
     "start_time": "2021-11-09T09:37:21.215814",
     "status": "completed"
    },
    "tags": []
   },
   "source": [
    "**TASK: Display a scatterplot of the Metacritic Rating versus the Metacritic User rating.**"
   ]
  },
  {
   "cell_type": "code",
   "execution_count": null,
   "id": "7c653cc4",
   "metadata": {
    "execution": {
     "iopub.execute_input": "2021-11-09T09:37:21.508169Z",
     "iopub.status.busy": "2021-11-09T09:37:21.507514Z",
     "iopub.status.idle": "2021-11-09T09:37:21.512242Z",
     "shell.execute_reply": "2021-11-09T09:37:21.511604Z",
     "shell.execute_reply.started": "2021-11-09T08:19:34.829438Z"
    },
    "papermill": {
     "duration": 0.098233,
     "end_time": "2021-11-09T09:37:21.512376",
     "exception": false,
     "start_time": "2021-11-09T09:37:21.414143",
     "status": "completed"
    },
    "tags": []
   },
   "outputs": [],
   "source": [
    "# CODE HERE"
   ]
  },
  {
   "cell_type": "code",
   "execution_count": 44,
   "id": "7d4dde1b",
   "metadata": {
    "execution": {
     "iopub.execute_input": "2021-11-09T09:37:21.711897Z",
     "iopub.status.busy": "2021-11-09T09:37:21.711252Z",
     "iopub.status.idle": "2021-11-09T09:37:21.962215Z",
     "shell.execute_reply": "2021-11-09T09:37:21.962991Z",
     "shell.execute_reply.started": "2021-11-09T08:35:43.833483Z"
    },
    "papermill": {
     "duration": 0.337661,
     "end_time": "2021-11-09T09:37:21.963215",
     "exception": false,
     "start_time": "2021-11-09T09:37:21.625554",
     "status": "completed"
    },
    "tags": []
   },
   "outputs": [
    {
     "data": {
      "text/plain": [
       "(0.0, 100.0)"
      ]
     },
     "execution_count": 44,
     "metadata": {},
     "output_type": "execute_result"
    },
    {
     "data": {
      "image/png": "[encoded data removed]",
      "text/plain": [
       "<Figure size 960x720 with 1 Axes>"
      ]
     },
     "metadata": {},
     "output_type": "display_data"
    }
   ],
   "source": [
    "plt.figure(dpi=150)\n",
    "sns.scatterplot(data=all_sites, x='Metacritic', y='Metacritic_User')\n",
    "plt.ylim(0,10)\n",
    "plt.xlim(0,100)"
   ]
  },
  {
   "cell_type": "markdown",
   "id": "b4ffba34",
   "metadata": {
    "papermill": {
     "duration": 0.084446,
     "end_time": "2021-11-09T09:37:22.137114",
     "exception": false,
     "start_time": "2021-11-09T09:37:22.052668",
     "status": "completed"
    },
    "tags": []
   },
   "source": [
    "## IMDB\n",
    "\n",
    "Finally let's explore IMDB. Notice that both Metacritic and IMDB report back vote counts. Let's analyze the most popular movies.\n",
    "\n",
    "**TASK: Create a scatterplot for the relationship between vote counts on MetaCritic versus vote counts on IMDB.**"
   ]
  },
  {
   "cell_type": "code",
   "execution_count": null,
   "id": "1b9f2090",
   "metadata": {
    "execution": {
     "iopub.execute_input": "2021-11-09T09:37:22.307882Z",
     "iopub.status.busy": "2021-11-09T09:37:22.307283Z",
     "iopub.status.idle": "2021-11-09T09:37:22.310382Z",
     "shell.execute_reply": "2021-11-09T09:37:22.310923Z",
     "shell.execute_reply.started": "2021-11-09T08:19:34.841494Z"
    },
    "papermill": {
     "duration": 0.090076,
     "end_time": "2021-11-09T09:37:22.311082",
     "exception": false,
     "start_time": "2021-11-09T09:37:22.221006",
     "status": "completed"
    },
    "tags": []
   },
   "outputs": [],
   "source": [
    "#CODE HERE"
   ]
  },
  {
   "cell_type": "code",
   "execution_count": 45,
   "id": "501e8ad0",
   "metadata": {
    "execution": {
     "iopub.execute_input": "2021-11-09T09:37:22.484115Z",
     "iopub.status.busy": "2021-11-09T09:37:22.483522Z",
     "iopub.status.idle": "2021-11-09T09:37:22.743481Z",
     "shell.execute_reply": "2021-11-09T09:37:22.742826Z",
     "shell.execute_reply.started": "2021-11-09T08:37:52.152292Z"
    },
    "papermill": {
     "duration": 0.346571,
     "end_time": "2021-11-09T09:37:22.743618",
     "exception": false,
     "start_time": "2021-11-09T09:37:22.397047",
     "status": "completed"
    },
    "tags": []
   },
   "outputs": [
    {
     "data": {
      "text/plain": [
       "<AxesSubplot: xlabel='Metacritic_user_vote_count', ylabel='IMDB_user_vote_count'>"
      ]
     },
     "execution_count": 45,
     "metadata": {},
     "output_type": "execute_result"
    },
    {
     "data": {
      "image/png": "[encoded data removed]",
      "text/plain": [
       "<Figure size 960x720 with 1 Axes>"
      ]
     },
     "metadata": {},
     "output_type": "display_data"
    }
   ],
   "source": [
    "plt.figure(dpi=150)\n",
    "sns.scatterplot(data=all_sites, x='Metacritic_user_vote_count', y='IMDB_user_vote_count')"
   ]
  },
  {
   "cell_type": "markdown",
   "id": "e035dafe",
   "metadata": {
    "papermill": {
     "duration": 0.085342,
     "end_time": "2021-11-09T09:37:22.914878",
     "exception": false,
     "start_time": "2021-11-09T09:37:22.829536",
     "status": "completed"
    },
    "tags": []
   },
   "source": [
    "**Notice there are two outliers here. The movie with the highest vote count on IMDB only has about 500 Metacritic ratings. What is this movie?**\n",
    "\n",
    "**TASK: What movie has the highest IMDB user vote count?**"
   ]
  },
  {
   "cell_type": "code",
   "execution_count": null,
   "id": "49a2bb58",
   "metadata": {
    "execution": {
     "iopub.execute_input": "2021-11-09T09:37:23.090335Z",
     "iopub.status.busy": "2021-11-09T09:37:23.089494Z",
     "iopub.status.idle": "2021-11-09T09:37:23.091602Z",
     "shell.execute_reply": "2021-11-09T09:37:23.092016Z",
     "shell.execute_reply.started": "2021-11-09T08:19:34.855151Z"
    },
    "papermill": {
     "duration": 0.091671,
     "end_time": "2021-11-09T09:37:23.092194",
     "exception": false,
     "start_time": "2021-11-09T09:37:23.000523",
     "status": "completed"
    },
    "tags": []
   },
   "outputs": [],
   "source": [
    "#CODE HERE"
   ]
  },
  {
   "cell_type": "code",
   "execution_count": 46,
   "id": "1a3326ca",
   "metadata": {
    "execution": {
     "iopub.execute_input": "2021-11-09T09:37:23.267048Z",
     "iopub.status.busy": "2021-11-09T09:37:23.266149Z",
     "iopub.status.idle": "2021-11-09T09:37:23.277583Z",
     "shell.execute_reply": "2021-11-09T09:37:23.278061Z",
     "shell.execute_reply.started": "2021-11-09T08:39:05.465338Z"
    },
    "papermill": {
     "duration": 0.10058,
     "end_time": "2021-11-09T09:37:23.278234",
     "exception": false,
     "start_time": "2021-11-09T09:37:23.177654",
     "status": "completed"
    },
    "tags": []
   },
   "outputs": [
    {
     "data": {
      "text/html": [
       "<div><div id=b03e480f-2a51-4c62-96b7-7ade54206a8e style=\"display:none; background-color:#9D6CFF; color:white; width:200px; height:30px; padding-left:5px; border-radius:4px; flex-direction:row; justify-content:space-around; align-items:center;\" onmouseover=\"this.style.backgroundColor='#BA9BF8'\" onmouseout=\"this.style.backgroundColor='#9D6CFF'\" onclick=\"window.commands?.execute('create-mitosheet-from-dataframe-output');\">See Full Dataframe in Mito</div> <script> if (window.commands?.hasCommand('create-mitosheet-from-dataframe-output')) document.getElementById('b03e480f-2a51-4c62-96b7-7ade54206a8e').style.display = 'flex' </script> <table border=\"1\" class=\"dataframe\">\n",
       "  <thead>\n",
       "    <tr style=\"text-align: right;\">\n",
       "      <th></th>\n",
       "      <th>FILM</th>\n",
       "      <th>RottenTomatoes</th>\n",
       "      <th>RottenTomatoes_User</th>\n",
       "      <th>Metacritic</th>\n",
       "      <th>Metacritic_User</th>\n",
       "      <th>IMDB</th>\n",
       "      <th>Metacritic_user_vote_count</th>\n",
       "      <th>IMDB_user_vote_count</th>\n",
       "      <th>Rotten_Diff</th>\n",
       "    </tr>\n",
       "  </thead>\n",
       "  <tbody>\n",
       "    <tr>\n",
       "      <th>14</th>\n",
       "      <td>The Imitation Game (2014)</td>\n",
       "      <td>90</td>\n",
       "      <td>92</td>\n",
       "      <td>73</td>\n",
       "      <td>8.2</td>\n",
       "      <td>8.1</td>\n",
       "      <td>566</td>\n",
       "      <td>334164</td>\n",
       "      <td>-2</td>\n",
       "    </tr>\n",
       "  </tbody>\n",
       "</table></div>"
      ],
      "text/plain": [
       "                         FILM  RottenTomatoes  RottenTomatoes_User  \\\n",
       "14  The Imitation Game (2014)              90                   92   \n",
       "\n",
       "    Metacritic  Metacritic_User  IMDB  Metacritic_user_vote_count  \\\n",
       "14          73              8.2   8.1                         566   \n",
       "\n",
       "    IMDB_user_vote_count  Rotten_Diff  \n",
       "14                334164           -2  "
      ]
     },
     "execution_count": 46,
     "metadata": {},
     "output_type": "execute_result"
    }
   ],
   "source": [
    "all_sites.nlargest(1,'IMDB_user_vote_count')"
   ]
  },
  {
   "cell_type": "markdown",
   "id": "f42739cb",
   "metadata": {
    "papermill": {
     "duration": 0.086262,
     "end_time": "2021-11-09T09:37:23.451181",
     "exception": false,
     "start_time": "2021-11-09T09:37:23.364919",
     "status": "completed"
    },
    "tags": []
   },
   "source": [
    "**TASK: What movie has the highest Metacritic User Vote count?**"
   ]
  },
  {
   "cell_type": "code",
   "execution_count": null,
   "id": "98a30b8c",
   "metadata": {
    "execution": {
     "iopub.execute_input": "2021-11-09T09:37:23.626774Z",
     "iopub.status.busy": "2021-11-09T09:37:23.626164Z",
     "iopub.status.idle": "2021-11-09T09:37:23.628438Z",
     "shell.execute_reply": "2021-11-09T09:37:23.627860Z",
     "shell.execute_reply.started": "2021-11-09T08:19:34.867616Z"
    },
    "papermill": {
     "duration": 0.091161,
     "end_time": "2021-11-09T09:37:23.628570",
     "exception": false,
     "start_time": "2021-11-09T09:37:23.537409",
     "status": "completed"
    },
    "tags": []
   },
   "outputs": [],
   "source": [
    "#CODE HERE"
   ]
  },
  {
   "cell_type": "code",
   "execution_count": 47,
   "id": "a0b85d8c",
   "metadata": {
    "execution": {
     "iopub.execute_input": "2021-11-09T09:37:23.803940Z",
     "iopub.status.busy": "2021-11-09T09:37:23.803314Z",
     "iopub.status.idle": "2021-11-09T09:37:23.814407Z",
     "shell.execute_reply": "2021-11-09T09:37:23.814967Z",
     "shell.execute_reply.started": "2021-11-09T08:39:36.315157Z"
    },
    "papermill": {
     "duration": 0.099911,
     "end_time": "2021-11-09T09:37:23.815129",
     "exception": false,
     "start_time": "2021-11-09T09:37:23.715218",
     "status": "completed"
    },
    "tags": []
   },
   "outputs": [
    {
     "data": {
      "text/html": [
       "<div><div id=7e5a2f76-a5d4-4a04-99ec-a852143b2cbd style=\"display:none; background-color:#9D6CFF; color:white; width:200px; height:30px; padding-left:5px; border-radius:4px; flex-direction:row; justify-content:space-around; align-items:center;\" onmouseover=\"this.style.backgroundColor='#BA9BF8'\" onmouseout=\"this.style.backgroundColor='#9D6CFF'\" onclick=\"window.commands?.execute('create-mitosheet-from-dataframe-output');\">See Full Dataframe in Mito</div> <script> if (window.commands?.hasCommand('create-mitosheet-from-dataframe-output')) document.getElementById('7e5a2f76-a5d4-4a04-99ec-a852143b2cbd').style.display = 'flex' </script> <table border=\"1\" class=\"dataframe\">\n",
       "  <thead>\n",
       "    <tr style=\"text-align: right;\">\n",
       "      <th></th>\n",
       "      <th>FILM</th>\n",
       "      <th>RottenTomatoes</th>\n",
       "      <th>RottenTomatoes_User</th>\n",
       "      <th>Metacritic</th>\n",
       "      <th>Metacritic_User</th>\n",
       "      <th>IMDB</th>\n",
       "      <th>Metacritic_user_vote_count</th>\n",
       "      <th>IMDB_user_vote_count</th>\n",
       "      <th>Rotten_Diff</th>\n",
       "    </tr>\n",
       "  </thead>\n",
       "  <tbody>\n",
       "    <tr>\n",
       "      <th>88</th>\n",
       "      <td>Mad Max: Fury Road (2015)</td>\n",
       "      <td>97</td>\n",
       "      <td>88</td>\n",
       "      <td>89</td>\n",
       "      <td>8.7</td>\n",
       "      <td>8.3</td>\n",
       "      <td>2375</td>\n",
       "      <td>292023</td>\n",
       "      <td>9</td>\n",
       "    </tr>\n",
       "  </tbody>\n",
       "</table></div>"
      ],
      "text/plain": [
       "                         FILM  RottenTomatoes  RottenTomatoes_User  \\\n",
       "88  Mad Max: Fury Road (2015)              97                   88   \n",
       "\n",
       "    Metacritic  Metacritic_User  IMDB  Metacritic_user_vote_count  \\\n",
       "88          89              8.7   8.3                        2375   \n",
       "\n",
       "    IMDB_user_vote_count  Rotten_Diff  \n",
       "88                292023            9  "
      ]
     },
     "execution_count": 47,
     "metadata": {},
     "output_type": "execute_result"
    }
   ],
   "source": [
    "all_sites.nlargest(1,'Metacritic_user_vote_count')"
   ]
  },
  {
   "cell_type": "markdown",
   "id": "eaf56f8d",
   "metadata": {
    "papermill": {
     "duration": 0.086258,
     "end_time": "2021-11-09T09:37:23.989079",
     "exception": false,
     "start_time": "2021-11-09T09:37:23.902821",
     "status": "completed"
    },
    "tags": []
   },
   "source": [
    "## Fandago Scores vs. All Sites\n",
    "\n",
    "Finally let's begin to explore whether or not Fandango artificially displays higher ratings than warranted to boost ticket sales."
   ]
  },
  {
   "cell_type": "markdown",
   "id": "42b1bc89",
   "metadata": {
    "papermill": {
     "duration": 0.088599,
     "end_time": "2021-11-09T09:37:24.165318",
     "exception": false,
     "start_time": "2021-11-09T09:37:24.076719",
     "status": "completed"
    },
    "tags": []
   },
   "source": [
    "**TASK: Combine the Fandango Table with the All Sites table. Not every movie in the Fandango table is in the All Sites table, since some Fandango movies have very little or no reviews. We only want to compare movies that are in both DataFrames, so do an *inner* merge to merge together both DataFrames based on the FILM columns.**"
   ]
  },
  {
   "cell_type": "code",
   "execution_count": null,
   "id": "793d0d25",
   "metadata": {
    "execution": {
     "iopub.execute_input": "2021-11-09T09:37:24.345855Z",
     "iopub.status.busy": "2021-11-09T09:37:24.345204Z",
     "iopub.status.idle": "2021-11-09T09:37:24.347997Z",
     "shell.execute_reply": "2021-11-09T09:37:24.348522Z",
     "shell.execute_reply.started": "2021-11-09T08:19:34.880111Z"
    },
    "papermill": {
     "duration": 0.094609,
     "end_time": "2021-11-09T09:37:24.348686",
     "exception": false,
     "start_time": "2021-11-09T09:37:24.254077",
     "status": "completed"
    },
    "tags": []
   },
   "outputs": [],
   "source": [
    "#CODE HERE"
   ]
  },
  {
   "cell_type": "code",
   "execution_count": 48,
   "id": "2371a568",
   "metadata": {
    "execution": {
     "iopub.execute_input": "2021-11-09T09:37:24.527452Z",
     "iopub.status.busy": "2021-11-09T09:37:24.526752Z",
     "iopub.status.idle": "2021-11-09T09:37:24.535505Z",
     "shell.execute_reply": "2021-11-09T09:37:24.536014Z",
     "shell.execute_reply.started": "2021-11-09T08:46:01.455254Z"
    },
    "papermill": {
     "duration": 0.099193,
     "end_time": "2021-11-09T09:37:24.536185",
     "exception": false,
     "start_time": "2021-11-09T09:37:24.436992",
     "status": "completed"
    },
    "tags": []
   },
   "outputs": [],
   "source": [
    "df= pd.merge(fandango, all_sites,on='FILM',how='inner')"
   ]
  },
  {
   "cell_type": "code",
   "execution_count": 49,
   "id": "2d08dcd4",
   "metadata": {
    "execution": {
     "iopub.execute_input": "2021-11-09T09:37:24.713605Z",
     "iopub.status.busy": "2021-11-09T09:37:24.713002Z",
     "iopub.status.idle": "2021-11-09T09:37:24.730372Z",
     "shell.execute_reply": "2021-11-09T09:37:24.730931Z",
     "shell.execute_reply.started": "2021-11-09T08:46:17.478258Z"
    },
    "papermill": {
     "duration": 0.108699,
     "end_time": "2021-11-09T09:37:24.731101",
     "exception": false,
     "start_time": "2021-11-09T09:37:24.622402",
     "status": "completed"
    },
    "tags": []
   },
   "outputs": [
    {
     "data": {
      "text/html": [
       "<div><div id=8d20d001-6d90-46ba-b2c9-47045fe36db0 style=\"display:none; background-color:#9D6CFF; color:white; width:200px; height:30px; padding-left:5px; border-radius:4px; flex-direction:row; justify-content:space-around; align-items:center;\" onmouseover=\"this.style.backgroundColor='#BA9BF8'\" onmouseout=\"this.style.backgroundColor='#9D6CFF'\" onclick=\"window.commands?.execute('create-mitosheet-from-dataframe-output');\">See Full Dataframe in Mito</div> <script> if (window.commands?.hasCommand('create-mitosheet-from-dataframe-output')) document.getElementById('8d20d001-6d90-46ba-b2c9-47045fe36db0').style.display = 'flex' </script> <table border=\"1\" class=\"dataframe\">\n",
       "  <thead>\n",
       "    <tr style=\"text-align: right;\">\n",
       "      <th></th>\n",
       "      <th>FILM</th>\n",
       "      <th>STARS</th>\n",
       "      <th>RATING</th>\n",
       "      <th>VOTES</th>\n",
       "      <th>YEAR</th>\n",
       "      <th>RottenTomatoes</th>\n",
       "      <th>RottenTomatoes_User</th>\n",
       "      <th>Metacritic</th>\n",
       "      <th>Metacritic_User</th>\n",
       "      <th>IMDB</th>\n",
       "      <th>Metacritic_user_vote_count</th>\n",
       "      <th>IMDB_user_vote_count</th>\n",
       "      <th>Rotten_Diff</th>\n",
       "    </tr>\n",
       "  </thead>\n",
       "  <tbody>\n",
       "    <tr>\n",
       "      <th>0</th>\n",
       "      <td>Fifty Shades of Grey (2015)</td>\n",
       "      <td>4.0</td>\n",
       "      <td>3.9</td>\n",
       "      <td>34846</td>\n",
       "      <td>2015</td>\n",
       "      <td>25</td>\n",
       "      <td>42</td>\n",
       "      <td>46</td>\n",
       "      <td>3.2</td>\n",
       "      <td>4.2</td>\n",
       "      <td>778</td>\n",
       "      <td>179506</td>\n",
       "      <td>-17</td>\n",
       "    </tr>\n",
       "    <tr>\n",
       "      <th>1</th>\n",
       "      <td>Jurassic World (2015)</td>\n",
       "      <td>4.5</td>\n",
       "      <td>4.5</td>\n",
       "      <td>34390</td>\n",
       "      <td>2015</td>\n",
       "      <td>71</td>\n",
       "      <td>81</td>\n",
       "      <td>59</td>\n",
       "      <td>7.0</td>\n",
       "      <td>7.3</td>\n",
       "      <td>1281</td>\n",
       "      <td>241807</td>\n",
       "      <td>-10</td>\n",
       "    </tr>\n",
       "    <tr>\n",
       "      <th>2</th>\n",
       "      <td>American Sniper (2015)</td>\n",
       "      <td>5.0</td>\n",
       "      <td>4.8</td>\n",
       "      <td>34085</td>\n",
       "      <td>2015</td>\n",
       "      <td>72</td>\n",
       "      <td>85</td>\n",
       "      <td>72</td>\n",
       "      <td>6.6</td>\n",
       "      <td>7.4</td>\n",
       "      <td>850</td>\n",
       "      <td>251856</td>\n",
       "      <td>-13</td>\n",
       "    </tr>\n",
       "    <tr>\n",
       "      <th>3</th>\n",
       "      <td>Furious 7 (2015)</td>\n",
       "      <td>5.0</td>\n",
       "      <td>4.8</td>\n",
       "      <td>33538</td>\n",
       "      <td>2015</td>\n",
       "      <td>81</td>\n",
       "      <td>84</td>\n",
       "      <td>67</td>\n",
       "      <td>6.8</td>\n",
       "      <td>7.4</td>\n",
       "      <td>764</td>\n",
       "      <td>207211</td>\n",
       "      <td>-3</td>\n",
       "    </tr>\n",
       "    <tr>\n",
       "      <th>4</th>\n",
       "      <td>Inside Out (2015)</td>\n",
       "      <td>4.5</td>\n",
       "      <td>4.5</td>\n",
       "      <td>15749</td>\n",
       "      <td>2015</td>\n",
       "      <td>98</td>\n",
       "      <td>90</td>\n",
       "      <td>94</td>\n",
       "      <td>8.9</td>\n",
       "      <td>8.6</td>\n",
       "      <td>807</td>\n",
       "      <td>96252</td>\n",
       "      <td>8</td>\n",
       "    </tr>\n",
       "    <tr>\n",
       "      <th>...</th>\n",
       "      <td>...</td>\n",
       "      <td>...</td>\n",
       "      <td>...</td>\n",
       "      <td>...</td>\n",
       "      <td>...</td>\n",
       "      <td>...</td>\n",
       "      <td>...</td>\n",
       "      <td>...</td>\n",
       "      <td>...</td>\n",
       "      <td>...</td>\n",
       "      <td>...</td>\n",
       "      <td>...</td>\n",
       "      <td>...</td>\n",
       "    </tr>\n",
       "    <tr>\n",
       "      <th>140</th>\n",
       "      <td>Kumiko, The Treasure Hunter (2015)</td>\n",
       "      <td>3.5</td>\n",
       "      <td>3.5</td>\n",
       "      <td>41</td>\n",
       "      <td>2015</td>\n",
       "      <td>87</td>\n",
       "      <td>63</td>\n",
       "      <td>68</td>\n",
       "      <td>6.4</td>\n",
       "      <td>6.7</td>\n",
       "      <td>19</td>\n",
       "      <td>5289</td>\n",
       "      <td>24</td>\n",
       "    </tr>\n",
       "    <tr>\n",
       "      <th>141</th>\n",
       "      <td>The Diary of a Teenage Girl (2015)</td>\n",
       "      <td>4.0</td>\n",
       "      <td>3.6</td>\n",
       "      <td>38</td>\n",
       "      <td>2015</td>\n",
       "      <td>95</td>\n",
       "      <td>81</td>\n",
       "      <td>87</td>\n",
       "      <td>6.3</td>\n",
       "      <td>7.0</td>\n",
       "      <td>18</td>\n",
       "      <td>1107</td>\n",
       "      <td>14</td>\n",
       "    </tr>\n",
       "    <tr>\n",
       "      <th>142</th>\n",
       "      <td>The Wrecking Crew (2015)</td>\n",
       "      <td>4.5</td>\n",
       "      <td>4.2</td>\n",
       "      <td>38</td>\n",
       "      <td>2015</td>\n",
       "      <td>93</td>\n",
       "      <td>84</td>\n",
       "      <td>67</td>\n",
       "      <td>7.0</td>\n",
       "      <td>7.8</td>\n",
       "      <td>4</td>\n",
       "      <td>732</td>\n",
       "      <td>9</td>\n",
       "    </tr>\n",
       "    <tr>\n",
       "      <th>143</th>\n",
       "      <td>Tangerine (2015)</td>\n",
       "      <td>4.0</td>\n",
       "      <td>3.9</td>\n",
       "      <td>36</td>\n",
       "      <td>2015</td>\n",
       "      <td>95</td>\n",
       "      <td>86</td>\n",
       "      <td>86</td>\n",
       "      <td>7.3</td>\n",
       "      <td>7.4</td>\n",
       "      <td>14</td>\n",
       "      <td>696</td>\n",
       "      <td>9</td>\n",
       "    </tr>\n",
       "    <tr>\n",
       "      <th>144</th>\n",
       "      <td>Maps to the Stars (2015)</td>\n",
       "      <td>3.5</td>\n",
       "      <td>3.1</td>\n",
       "      <td>35</td>\n",
       "      <td>2015</td>\n",
       "      <td>60</td>\n",
       "      <td>46</td>\n",
       "      <td>67</td>\n",
       "      <td>5.8</td>\n",
       "      <td>6.3</td>\n",
       "      <td>46</td>\n",
       "      <td>22440</td>\n",
       "      <td>14</td>\n",
       "    </tr>\n",
       "  </tbody>\n",
       "</table></div>"
      ],
      "text/plain": [
       "                                   FILM  STARS  RATING  VOTES  YEAR  \\\n",
       "0           Fifty Shades of Grey (2015)    4.0     3.9  34846  2015   \n",
       "1                 Jurassic World (2015)    4.5     4.5  34390  2015   \n",
       "2                American Sniper (2015)    5.0     4.8  34085  2015   \n",
       "3                      Furious 7 (2015)    5.0     4.8  33538  2015   \n",
       "4                     Inside Out (2015)    4.5     4.5  15749  2015   \n",
       "..                                  ...    ...     ...    ...   ...   \n",
       "140  Kumiko, The Treasure Hunter (2015)    3.5     3.5     41  2015   \n",
       "141  The Diary of a Teenage Girl (2015)    4.0     3.6     38  2015   \n",
       "142            The Wrecking Crew (2015)    4.5     4.2     38  2015   \n",
       "143                    Tangerine (2015)    4.0     3.9     36  2015   \n",
       "144            Maps to the Stars (2015)    3.5     3.1     35  2015   \n",
       "\n",
       "     RottenTomatoes  RottenTomatoes_User  Metacritic  Metacritic_User  IMDB  \\\n",
       "0                25                   42          46              3.2   4.2   \n",
       "1                71                   81          59              7.0   7.3   \n",
       "2                72                   85          72              6.6   7.4   \n",
       "3                81                   84          67              6.8   7.4   \n",
       "4                98                   90          94              8.9   8.6   \n",
       "..              ...                  ...         ...              ...   ...   \n",
       "140              87                   63          68              6.4   6.7   \n",
       "141              95                   81          87              6.3   7.0   \n",
       "142              93                   84          67              7.0   7.8   \n",
       "143              95                   86          86              7.3   7.4   \n",
       "144              60                   46          67              5.8   6.3   \n",
       "\n",
       "     Metacritic_user_vote_count  IMDB_user_vote_count  Rotten_Diff  \n",
       "0                           778                179506          -17  \n",
       "1                          1281                241807          -10  \n",
       "2                           850                251856          -13  \n",
       "3                           764                207211           -3  \n",
       "4                           807                 96252            8  \n",
       "..                          ...                   ...          ...  \n",
       "140                          19                  5289           24  \n",
       "141                          18                  1107           14  \n",
       "142                           4                   732            9  \n",
       "143                          14                   696            9  \n",
       "144                          46                 22440           14  \n",
       "\n",
       "[145 rows x 13 columns]"
      ]
     },
     "execution_count": 49,
     "metadata": {},
     "output_type": "execute_result"
    }
   ],
   "source": [
    "df"
   ]
  },
  {
   "cell_type": "code",
   "execution_count": 53,
   "id": "89ccd412",
   "metadata": {},
   "outputs": [
    {
     "name": "stdout",
     "output_type": "stream",
     "text": [
      "<class 'pandas.core.frame.DataFrame'>\n",
      "Int64Index: 145 entries, 0 to 144\n",
      "Data columns (total 13 columns):\n",
      " #   Column                      Non-Null Count  Dtype  \n",
      "---  ------                      --------------  -----  \n",
      " 0   FILM                        145 non-null    object \n",
      " 1   STARS                       145 non-null    float64\n",
      " 2   RATING                      145 non-null    float64\n",
      " 3   VOTES                       145 non-null    int64  \n",
      " 4   YEAR                        145 non-null    object \n",
      " 5   RottenTomatoes              145 non-null    int64  \n",
      " 6   RottenTomatoes_User         145 non-null    int64  \n",
      " 7   Metacritic                  145 non-null    int64  \n",
      " 8   Metacritic_User             145 non-null    float64\n",
      " 9   IMDB                        145 non-null    float64\n",
      " 10  Metacritic_user_vote_count  145 non-null    int64  \n",
      " 11  IMDB_user_vote_count        145 non-null    int64  \n",
      " 12  Rotten_Diff                 145 non-null    int64  \n",
      "dtypes: float64(4), int64(7), object(2)\n",
      "memory usage: 15.9+ KB\n"
     ]
    }
   ],
   "source": [
    "df.info()"
   ]
  },
  {
   "cell_type": "markdown",
   "id": "dd5ce891",
   "metadata": {
    "papermill": {
     "duration": 0.086783,
     "end_time": "2021-11-09T09:37:24.904954",
     "exception": false,
     "start_time": "2021-11-09T09:37:24.818171",
     "status": "completed"
    },
    "tags": []
   },
   "source": [
    "### Normalize columns to Fandango STARS and RATINGS 0-5 \n",
    "\n",
    "Notice that RT,Metacritic, and IMDB don't use a score between 0-5 stars like Fandango does. In order to do a fair comparison, we need to *normalize* these values so they all fall between 0-5 stars and the relationship between reviews stays the same.\n",
    "\n",
    "**TASK: Create new normalized columns for all ratings so they match up within the 0-5 star range shown on Fandango. There are many ways to do this.**\n",
    "\n",
    "Hint link: https://stackoverflow.com/questions/26414913/normalize-columns-of-pandas-data-frame\n",
    "\n",
    "\n",
    "Easier Hint:\n",
    "\n",
    "Keep in mind, a simple way to convert ratings:\n",
    "* 100/20 = 5 \n",
    "* 10/2 = 5"
   ]
  },
  {
   "cell_type": "code",
   "execution_count": null,
   "id": "862f0bf0",
   "metadata": {},
   "outputs": [],
   "source": []
  },
  {
   "cell_type": "code",
   "execution_count": null,
   "id": "40a40e31",
   "metadata": {
    "execution": {
     "iopub.execute_input": "2021-11-09T09:37:25.082739Z",
     "iopub.status.busy": "2021-11-09T09:37:25.082142Z",
     "iopub.status.idle": "2021-11-09T09:37:25.084432Z",
     "shell.execute_reply": "2021-11-09T09:37:25.085001Z",
     "shell.execute_reply.started": "2021-11-09T08:19:34.891964Z"
    },
    "papermill": {
     "duration": 0.093735,
     "end_time": "2021-11-09T09:37:25.085161",
     "exception": false,
     "start_time": "2021-11-09T09:37:24.991426",
     "status": "completed"
    },
    "tags": []
   },
   "outputs": [],
   "source": [
    "# CODE HERE"
   ]
  },
  {
   "cell_type": "code",
   "execution_count": 54,
   "id": "ecc2e653",
   "metadata": {
    "execution": {
     "iopub.execute_input": "2021-11-09T09:37:25.261385Z",
     "iopub.status.busy": "2021-11-09T09:37:25.260763Z",
     "iopub.status.idle": "2021-11-09T09:37:25.287021Z",
     "shell.execute_reply": "2021-11-09T09:37:25.287525Z",
     "shell.execute_reply.started": "2021-11-09T08:49:16.053104Z"
    },
    "papermill": {
     "duration": 0.115939,
     "end_time": "2021-11-09T09:37:25.287688",
     "exception": false,
     "start_time": "2021-11-09T09:37:25.171749",
     "status": "completed"
    },
    "tags": []
   },
   "outputs": [
    {
     "data": {
      "text/plain": [
       "STARS                              5.0\n",
       "RATING                             4.8\n",
       "VOTES                          34846.0\n",
       "RottenTomatoes                   100.0\n",
       "RottenTomatoes_User               94.0\n",
       "Metacritic                        94.0\n",
       "Metacritic_User                    9.6\n",
       "IMDB                               8.6\n",
       "Metacritic_user_vote_count      2375.0\n",
       "IMDB_user_vote_count          334164.0\n",
       "Rotten_Diff                       42.0\n",
       "Name: max, dtype: float64"
      ]
     },
     "execution_count": 54,
     "metadata": {},
     "output_type": "execute_result"
    }
   ],
   "source": [
    "df.describe().transpose()['max']"
   ]
  },
  {
   "cell_type": "code",
   "execution_count": 55,
   "id": "058a947f",
   "metadata": {
    "execution": {
     "iopub.execute_input": "2021-11-09T09:37:25.466353Z",
     "iopub.status.busy": "2021-11-09T09:37:25.465650Z",
     "iopub.status.idle": "2021-11-09T09:37:25.471138Z",
     "shell.execute_reply": "2021-11-09T09:37:25.471655Z",
     "shell.execute_reply.started": "2021-11-09T09:10:30.647881Z"
    },
    "papermill": {
     "duration": 0.096482,
     "end_time": "2021-11-09T09:37:25.471833",
     "exception": false,
     "start_time": "2021-11-09T09:37:25.375351",
     "status": "completed"
    },
    "tags": []
   },
   "outputs": [],
   "source": [
    "df['RT_Norm'] = np.round(df['RottenTomatoes']/20,1)\n",
    "df['RTU_Norm'] = np.round(df['RottenTomatoes_User']/20,1)"
   ]
  },
  {
   "cell_type": "code",
   "execution_count": 56,
   "id": "652d547c",
   "metadata": {
    "execution": {
     "iopub.execute_input": "2021-11-09T09:37:25.649885Z",
     "iopub.status.busy": "2021-11-09T09:37:25.649201Z",
     "iopub.status.idle": "2021-11-09T09:37:25.654425Z",
     "shell.execute_reply": "2021-11-09T09:37:25.654925Z",
     "shell.execute_reply.started": "2021-11-09T09:10:35.059856Z"
    },
    "papermill": {
     "duration": 0.095485,
     "end_time": "2021-11-09T09:37:25.655090",
     "exception": false,
     "start_time": "2021-11-09T09:37:25.559605",
     "status": "completed"
    },
    "tags": []
   },
   "outputs": [],
   "source": [
    "df['Meta_Norm'] = np.round(df['Metacritic']/20,1)\n",
    "df['Meta_U_Norm'] = np.round(df['Metacritic_User']/2,1)"
   ]
  },
  {
   "cell_type": "code",
   "execution_count": 57,
   "id": "c0d9abf7",
   "metadata": {
    "execution": {
     "iopub.execute_input": "2021-11-09T09:37:25.833178Z",
     "iopub.status.busy": "2021-11-09T09:37:25.832524Z",
     "iopub.status.idle": "2021-11-09T09:37:25.838081Z",
     "shell.execute_reply": "2021-11-09T09:37:25.837505Z",
     "shell.execute_reply.started": "2021-11-09T09:14:09.435846Z"
    },
    "papermill": {
     "duration": 0.095505,
     "end_time": "2021-11-09T09:37:25.838232",
     "exception": false,
     "start_time": "2021-11-09T09:37:25.742727",
     "status": "completed"
    },
    "tags": []
   },
   "outputs": [],
   "source": [
    "df['IMDB_Norm'] = np.round(df['IMDB']/2,1)"
   ]
  },
  {
   "cell_type": "code",
   "execution_count": 58,
   "id": "f398001c",
   "metadata": {
    "execution": {
     "iopub.execute_input": "2021-11-09T09:37:26.020857Z",
     "iopub.status.busy": "2021-11-09T09:37:26.020233Z",
     "iopub.status.idle": "2021-11-09T09:37:26.037575Z",
     "shell.execute_reply": "2021-11-09T09:37:26.038044Z",
     "shell.execute_reply.started": "2021-11-09T09:14:12.152114Z"
    },
    "papermill": {
     "duration": 0.109123,
     "end_time": "2021-11-09T09:37:26.038221",
     "exception": false,
     "start_time": "2021-11-09T09:37:25.929098",
     "status": "completed"
    },
    "tags": []
   },
   "outputs": [
    {
     "data": {
      "text/html": [
       "<div><div id=b70a9ed7-e76a-4b70-a016-d410a52caa6d style=\"display:none; background-color:#9D6CFF; color:white; width:200px; height:30px; padding-left:5px; border-radius:4px; flex-direction:row; justify-content:space-around; align-items:center;\" onmouseover=\"this.style.backgroundColor='#BA9BF8'\" onmouseout=\"this.style.backgroundColor='#9D6CFF'\" onclick=\"window.commands?.execute('create-mitosheet-from-dataframe-output');\">See Full Dataframe in Mito</div> <script> if (window.commands?.hasCommand('create-mitosheet-from-dataframe-output')) document.getElementById('b70a9ed7-e76a-4b70-a016-d410a52caa6d').style.display = 'flex' </script> <table border=\"1\" class=\"dataframe\">\n",
       "  <thead>\n",
       "    <tr style=\"text-align: right;\">\n",
       "      <th></th>\n",
       "      <th>FILM</th>\n",
       "      <th>STARS</th>\n",
       "      <th>RATING</th>\n",
       "      <th>VOTES</th>\n",
       "      <th>YEAR</th>\n",
       "      <th>RottenTomatoes</th>\n",
       "      <th>RottenTomatoes_User</th>\n",
       "      <th>Metacritic</th>\n",
       "      <th>Metacritic_User</th>\n",
       "      <th>IMDB</th>\n",
       "      <th>Metacritic_user_vote_count</th>\n",
       "      <th>IMDB_user_vote_count</th>\n",
       "      <th>Rotten_Diff</th>\n",
       "      <th>RT_Norm</th>\n",
       "      <th>RTU_Norm</th>\n",
       "      <th>Meta_Norm</th>\n",
       "      <th>Meta_U_Norm</th>\n",
       "      <th>IMDB_Norm</th>\n",
       "    </tr>\n",
       "  </thead>\n",
       "  <tbody>\n",
       "    <tr>\n",
       "      <th>0</th>\n",
       "      <td>Fifty Shades of Grey (2015)</td>\n",
       "      <td>4.0</td>\n",
       "      <td>3.9</td>\n",
       "      <td>34846</td>\n",
       "      <td>2015</td>\n",
       "      <td>25</td>\n",
       "      <td>42</td>\n",
       "      <td>46</td>\n",
       "      <td>3.2</td>\n",
       "      <td>4.2</td>\n",
       "      <td>778</td>\n",
       "      <td>179506</td>\n",
       "      <td>-17</td>\n",
       "      <td>1.2</td>\n",
       "      <td>2.1</td>\n",
       "      <td>2.3</td>\n",
       "      <td>1.6</td>\n",
       "      <td>2.1</td>\n",
       "    </tr>\n",
       "    <tr>\n",
       "      <th>1</th>\n",
       "      <td>Jurassic World (2015)</td>\n",
       "      <td>4.5</td>\n",
       "      <td>4.5</td>\n",
       "      <td>34390</td>\n",
       "      <td>2015</td>\n",
       "      <td>71</td>\n",
       "      <td>81</td>\n",
       "      <td>59</td>\n",
       "      <td>7.0</td>\n",
       "      <td>7.3</td>\n",
       "      <td>1281</td>\n",
       "      <td>241807</td>\n",
       "      <td>-10</td>\n",
       "      <td>3.6</td>\n",
       "      <td>4.0</td>\n",
       "      <td>3.0</td>\n",
       "      <td>3.5</td>\n",
       "      <td>3.6</td>\n",
       "    </tr>\n",
       "    <tr>\n",
       "      <th>2</th>\n",
       "      <td>American Sniper (2015)</td>\n",
       "      <td>5.0</td>\n",
       "      <td>4.8</td>\n",
       "      <td>34085</td>\n",
       "      <td>2015</td>\n",
       "      <td>72</td>\n",
       "      <td>85</td>\n",
       "      <td>72</td>\n",
       "      <td>6.6</td>\n",
       "      <td>7.4</td>\n",
       "      <td>850</td>\n",
       "      <td>251856</td>\n",
       "      <td>-13</td>\n",
       "      <td>3.6</td>\n",
       "      <td>4.2</td>\n",
       "      <td>3.6</td>\n",
       "      <td>3.3</td>\n",
       "      <td>3.7</td>\n",
       "    </tr>\n",
       "    <tr>\n",
       "      <th>3</th>\n",
       "      <td>Furious 7 (2015)</td>\n",
       "      <td>5.0</td>\n",
       "      <td>4.8</td>\n",
       "      <td>33538</td>\n",
       "      <td>2015</td>\n",
       "      <td>81</td>\n",
       "      <td>84</td>\n",
       "      <td>67</td>\n",
       "      <td>6.8</td>\n",
       "      <td>7.4</td>\n",
       "      <td>764</td>\n",
       "      <td>207211</td>\n",
       "      <td>-3</td>\n",
       "      <td>4.0</td>\n",
       "      <td>4.2</td>\n",
       "      <td>3.4</td>\n",
       "      <td>3.4</td>\n",
       "      <td>3.7</td>\n",
       "    </tr>\n",
       "    <tr>\n",
       "      <th>4</th>\n",
       "      <td>Inside Out (2015)</td>\n",
       "      <td>4.5</td>\n",
       "      <td>4.5</td>\n",
       "      <td>15749</td>\n",
       "      <td>2015</td>\n",
       "      <td>98</td>\n",
       "      <td>90</td>\n",
       "      <td>94</td>\n",
       "      <td>8.9</td>\n",
       "      <td>8.6</td>\n",
       "      <td>807</td>\n",
       "      <td>96252</td>\n",
       "      <td>8</td>\n",
       "      <td>4.9</td>\n",
       "      <td>4.5</td>\n",
       "      <td>4.7</td>\n",
       "      <td>4.4</td>\n",
       "      <td>4.3</td>\n",
       "    </tr>\n",
       "  </tbody>\n",
       "</table></div>"
      ],
      "text/plain": [
       "                          FILM  STARS  RATING  VOTES  YEAR  RottenTomatoes  \\\n",
       "0  Fifty Shades of Grey (2015)    4.0     3.9  34846  2015              25   \n",
       "1        Jurassic World (2015)    4.5     4.5  34390  2015              71   \n",
       "2       American Sniper (2015)    5.0     4.8  34085  2015              72   \n",
       "3             Furious 7 (2015)    5.0     4.8  33538  2015              81   \n",
       "4            Inside Out (2015)    4.5     4.5  15749  2015              98   \n",
       "\n",
       "   RottenTomatoes_User  Metacritic  Metacritic_User  IMDB  \\\n",
       "0                   42          46              3.2   4.2   \n",
       "1                   81          59              7.0   7.3   \n",
       "2                   85          72              6.6   7.4   \n",
       "3                   84          67              6.8   7.4   \n",
       "4                   90          94              8.9   8.6   \n",
       "\n",
       "   Metacritic_user_vote_count  IMDB_user_vote_count  Rotten_Diff  RT_Norm  \\\n",
       "0                         778                179506          -17      1.2   \n",
       "1                        1281                241807          -10      3.6   \n",
       "2                         850                251856          -13      3.6   \n",
       "3                         764                207211           -3      4.0   \n",
       "4                         807                 96252            8      4.9   \n",
       "\n",
       "   RTU_Norm  Meta_Norm  Meta_U_Norm  IMDB_Norm  \n",
       "0       2.1        2.3          1.6        2.1  \n",
       "1       4.0        3.0          3.5        3.6  \n",
       "2       4.2        3.6          3.3        3.7  \n",
       "3       4.2        3.4          3.4        3.7  \n",
       "4       4.5        4.7          4.4        4.3  "
      ]
     },
     "execution_count": 58,
     "metadata": {},
     "output_type": "execute_result"
    }
   ],
   "source": [
    "df.head()"
   ]
  },
  {
   "cell_type": "markdown",
   "id": "03ab843a",
   "metadata": {
    "papermill": {
     "duration": 0.087007,
     "end_time": "2021-11-09T09:37:26.213327",
     "exception": false,
     "start_time": "2021-11-09T09:37:26.126320",
     "status": "completed"
    },
    "tags": []
   },
   "source": [
    "**TASK: Now create a norm_scores DataFrame that only contains the normalizes ratings. Include both STARS and RATING from the original Fandango table.**"
   ]
  },
  {
   "cell_type": "code",
   "execution_count": null,
   "id": "526a0fb1",
   "metadata": {
    "execution": {
     "iopub.execute_input": "2021-11-09T09:37:26.399687Z",
     "iopub.status.busy": "2021-11-09T09:37:26.399104Z",
     "iopub.status.idle": "2021-11-09T09:37:26.402160Z",
     "shell.execute_reply": "2021-11-09T09:37:26.402656Z",
     "shell.execute_reply.started": "2021-11-09T08:19:34.904266Z"
    },
    "papermill": {
     "duration": 0.099721,
     "end_time": "2021-11-09T09:37:26.402825",
     "exception": false,
     "start_time": "2021-11-09T09:37:26.303104",
     "status": "completed"
    },
    "tags": []
   },
   "outputs": [],
   "source": [
    "#CODE HERE"
   ]
  },
  {
   "cell_type": "code",
   "execution_count": null,
   "id": "5d6ed387",
   "metadata": {
    "execution": {
     "iopub.execute_input": "2021-11-09T09:37:26.581418Z",
     "iopub.status.busy": "2021-11-09T09:37:26.580768Z",
     "iopub.status.idle": "2021-11-09T09:37:26.585202Z",
     "shell.execute_reply": "2021-11-09T09:37:26.585739Z",
     "shell.execute_reply.started": "2021-11-09T09:15:09.839948Z"
    },
    "papermill": {
     "duration": 0.095402,
     "end_time": "2021-11-09T09:37:26.585918",
     "exception": false,
     "start_time": "2021-11-09T09:37:26.490516",
     "status": "completed"
    },
    "tags": []
   },
   "outputs": [],
   "source": [
    "df.columns"
   ]
  },
  {
   "cell_type": "code",
   "execution_count": 59,
   "id": "22d7c2d8",
   "metadata": {
    "execution": {
     "iopub.execute_input": "2021-11-09T09:37:26.764860Z",
     "iopub.status.busy": "2021-11-09T09:37:26.764250Z",
     "iopub.status.idle": "2021-11-09T09:37:26.777992Z",
     "shell.execute_reply": "2021-11-09T09:37:26.778496Z",
     "shell.execute_reply.started": "2021-11-09T09:15:12.964786Z"
    },
    "papermill": {
     "duration": 0.104975,
     "end_time": "2021-11-09T09:37:26.778660",
     "exception": false,
     "start_time": "2021-11-09T09:37:26.673685",
     "status": "completed"
    },
    "tags": []
   },
   "outputs": [
    {
     "data": {
      "text/html": [
       "<div><div id=79fb5c1b-903d-4268-9484-8cb1ab10e05a style=\"display:none; background-color:#9D6CFF; color:white; width:200px; height:30px; padding-left:5px; border-radius:4px; flex-direction:row; justify-content:space-around; align-items:center;\" onmouseover=\"this.style.backgroundColor='#BA9BF8'\" onmouseout=\"this.style.backgroundColor='#9D6CFF'\" onclick=\"window.commands?.execute('create-mitosheet-from-dataframe-output');\">See Full Dataframe in Mito</div> <script> if (window.commands?.hasCommand('create-mitosheet-from-dataframe-output')) document.getElementById('79fb5c1b-903d-4268-9484-8cb1ab10e05a').style.display = 'flex' </script> <table border=\"1\" class=\"dataframe\">\n",
       "  <thead>\n",
       "    <tr style=\"text-align: right;\">\n",
       "      <th></th>\n",
       "      <th>STARS</th>\n",
       "      <th>RATING</th>\n",
       "      <th>RT_Norm</th>\n",
       "      <th>RTU_Norm</th>\n",
       "      <th>Meta_Norm</th>\n",
       "      <th>Meta_U_Norm</th>\n",
       "      <th>IMDB_Norm</th>\n",
       "    </tr>\n",
       "  </thead>\n",
       "  <tbody>\n",
       "    <tr>\n",
       "      <th>0</th>\n",
       "      <td>4.0</td>\n",
       "      <td>3.9</td>\n",
       "      <td>1.2</td>\n",
       "      <td>2.1</td>\n",
       "      <td>2.3</td>\n",
       "      <td>1.6</td>\n",
       "      <td>2.1</td>\n",
       "    </tr>\n",
       "    <tr>\n",
       "      <th>1</th>\n",
       "      <td>4.5</td>\n",
       "      <td>4.5</td>\n",
       "      <td>3.6</td>\n",
       "      <td>4.0</td>\n",
       "      <td>3.0</td>\n",
       "      <td>3.5</td>\n",
       "      <td>3.6</td>\n",
       "    </tr>\n",
       "    <tr>\n",
       "      <th>2</th>\n",
       "      <td>5.0</td>\n",
       "      <td>4.8</td>\n",
       "      <td>3.6</td>\n",
       "      <td>4.2</td>\n",
       "      <td>3.6</td>\n",
       "      <td>3.3</td>\n",
       "      <td>3.7</td>\n",
       "    </tr>\n",
       "    <tr>\n",
       "      <th>3</th>\n",
       "      <td>5.0</td>\n",
       "      <td>4.8</td>\n",
       "      <td>4.0</td>\n",
       "      <td>4.2</td>\n",
       "      <td>3.4</td>\n",
       "      <td>3.4</td>\n",
       "      <td>3.7</td>\n",
       "    </tr>\n",
       "    <tr>\n",
       "      <th>4</th>\n",
       "      <td>4.5</td>\n",
       "      <td>4.5</td>\n",
       "      <td>4.9</td>\n",
       "      <td>4.5</td>\n",
       "      <td>4.7</td>\n",
       "      <td>4.4</td>\n",
       "      <td>4.3</td>\n",
       "    </tr>\n",
       "  </tbody>\n",
       "</table></div>"
      ],
      "text/plain": [
       "   STARS  RATING  RT_Norm  RTU_Norm  Meta_Norm  Meta_U_Norm  IMDB_Norm\n",
       "0    4.0     3.9      1.2       2.1        2.3          1.6        2.1\n",
       "1    4.5     4.5      3.6       4.0        3.0          3.5        3.6\n",
       "2    5.0     4.8      3.6       4.2        3.6          3.3        3.7\n",
       "3    5.0     4.8      4.0       4.2        3.4          3.4        3.7\n",
       "4    4.5     4.5      4.9       4.5        4.7          4.4        4.3"
      ]
     },
     "execution_count": 59,
     "metadata": {},
     "output_type": "execute_result"
    }
   ],
   "source": [
    "norm_scores = df[['STARS', 'RATING', 'RT_Norm', 'RTU_Norm', 'Meta_Norm', 'Meta_U_Norm', 'IMDB_Norm']]\n",
    "norm_scores.head()"
   ]
  },
  {
   "cell_type": "markdown",
   "id": "fdd80239",
   "metadata": {
    "papermill": {
     "duration": 0.088091,
     "end_time": "2021-11-09T09:37:26.955113",
     "exception": false,
     "start_time": "2021-11-09T09:37:26.867022",
     "status": "completed"
    },
    "tags": []
   },
   "source": [
    "### Comparing Distribution of Scores Across Sites\n",
    "\n",
    "\n",
    "Now the moment of truth! Does Fandango display abnormally high ratings? We already know it pushs displayed RATING higher than STARS, but are the ratings themselves higher than average?\n",
    "\n",
    "\n",
    "**TASK: Create a plot comparing the distributions of normalized ratings across all sites. There are many ways to do this, but explore the Seaborn KDEplot docs for some simple ways to quickly show this. Don't worry if your plot format does not look exactly the same as ours, as long as the differences in distribution are clear.**\n",
    "\n",
    "Quick Note if you have issues moving the legend for a seaborn kdeplot: https://github.com/mwaskom/seaborn/issues/2280"
   ]
  },
  {
   "cell_type": "code",
   "execution_count": null,
   "id": "af74d749",
   "metadata": {
    "execution": {
     "iopub.execute_input": "2021-11-09T09:37:27.135859Z",
     "iopub.status.busy": "2021-11-09T09:37:27.135257Z",
     "iopub.status.idle": "2021-11-09T09:37:27.138094Z",
     "shell.execute_reply": "2021-11-09T09:37:27.138616Z",
     "shell.execute_reply.started": "2021-11-09T08:19:34.917904Z"
    },
    "papermill": {
     "duration": 0.094852,
     "end_time": "2021-11-09T09:37:27.138767",
     "exception": false,
     "start_time": "2021-11-09T09:37:27.043915",
     "status": "completed"
    },
    "tags": []
   },
   "outputs": [],
   "source": [
    "#CODE HERE"
   ]
  },
  {
   "cell_type": "code",
   "execution_count": 68,
   "id": "5a4aba10",
   "metadata": {
    "execution": {
     "iopub.execute_input": "2021-11-09T09:37:27.318683Z",
     "iopub.status.busy": "2021-11-09T09:37:27.318082Z",
     "iopub.status.idle": "2021-11-09T09:37:27.707588Z",
     "shell.execute_reply": "2021-11-09T09:37:27.708118Z",
     "shell.execute_reply.started": "2021-11-09T09:15:18.061704Z"
    },
    "papermill": {
     "duration": 0.480854,
     "end_time": "2021-11-09T09:37:27.708297",
     "exception": false,
     "start_time": "2021-11-09T09:37:27.227443",
     "status": "completed"
    },
    "tags": []
   },
   "outputs": [
    {
     "name": "stderr",
     "output_type": "stream",
     "text": [
      "No artists with labels found to put in legend.  Note that artists whose label start with an underscore are ignored when legend() is called with no argument.\n"
     ]
    },
    {
     "data": {
      "image/png": "[encoded data removed]",
      "text/plain": [
       "<Figure size 640x480 with 1 Axes>"
      ]
     },
     "metadata": {},
     "output_type": "display_data"
    }
   ],
   "source": [
    "fig, ax = plt.subplots(figsize)\n",
    "ax.legend(loc = 0)\n",
    "ax = sns.kdeplot(data=norm_scores, clip=[0,5], shade=True, legend = True);"
   ]
  },
  {
   "cell_type": "markdown",
   "id": "da209517",
   "metadata": {
    "papermill": {
     "duration": 0.092653,
     "end_time": "2021-11-09T09:37:27.893605",
     "exception": false,
     "start_time": "2021-11-09T09:37:27.800952",
     "status": "completed"
    },
    "tags": []
   },
   "source": [
    "**Clearly Fandango has an uneven distribution. We can also see that RT critics have the most uniform distribution. Let's directly compare these two.** \n",
    "\n",
    "**TASK: Create a KDE plot that compare the distribution of RT critic ratings against the STARS displayed by Fandango.**"
   ]
  },
  {
   "cell_type": "code",
   "execution_count": null,
   "id": "78026dbd",
   "metadata": {
    "execution": {
     "iopub.execute_input": "2021-11-09T09:37:28.082234Z",
     "iopub.status.busy": "2021-11-09T09:37:28.081268Z",
     "iopub.status.idle": "2021-11-09T09:37:28.084388Z",
     "shell.execute_reply": "2021-11-09T09:37:28.084926Z",
     "shell.execute_reply.started": "2021-11-09T08:19:34.930770Z"
    },
    "papermill": {
     "duration": 0.099146,
     "end_time": "2021-11-09T09:37:28.085100",
     "exception": false,
     "start_time": "2021-11-09T09:37:27.985954",
     "status": "completed"
    },
    "tags": []
   },
   "outputs": [],
   "source": [
    "#CODE HERE"
   ]
  },
  {
   "cell_type": "code",
   "execution_count": 69,
   "id": "d4707a11",
   "metadata": {
    "execution": {
     "iopub.execute_input": "2021-11-09T09:37:28.272859Z",
     "iopub.status.busy": "2021-11-09T09:37:28.271895Z",
     "iopub.status.idle": "2021-11-09T09:37:28.574298Z",
     "shell.execute_reply": "2021-11-09T09:37:28.574769Z",
     "shell.execute_reply.started": "2021-11-09T09:15:24.569113Z"
    },
    "papermill": {
     "duration": 0.398254,
     "end_time": "2021-11-09T09:37:28.574954",
     "exception": false,
     "start_time": "2021-11-09T09:37:28.176700",
     "status": "completed"
    },
    "tags": []
   },
   "outputs": [
    {
     "data": {
      "text/plain": [
       "<AxesSubplot: ylabel='Density'>"
      ]
     },
     "execution_count": 69,
     "metadata": {},
     "output_type": "execute_result"
    },
    {
     "data": {
      "image/png": "[encoded data removed]",
      "text/plain": [
       "<Figure size 1200x600 with 1 Axes>"
      ]
     },
     "metadata": {},
     "output_type": "display_data"
    }
   ],
   "source": [
    "plt.figure(figsize=(8,4), dpi=150)\n",
    "sns.kdeplot(data=norm_scores[['RT_Norm','STARS']], clip=[0,5], shade=True)"
   ]
  },
  {
   "cell_type": "markdown",
   "id": "aaff9f68",
   "metadata": {
    "papermill": {
     "duration": 0.094527,
     "end_time": "2021-11-09T09:37:28.764679",
     "exception": false,
     "start_time": "2021-11-09T09:37:28.670152",
     "status": "completed"
    },
    "tags": []
   },
   "source": [
    "**OPTIONAL TASK: Create a histplot comparing all normalized scores.**"
   ]
  },
  {
   "cell_type": "code",
   "execution_count": null,
   "id": "a1dd8bcb",
   "metadata": {
    "execution": {
     "iopub.execute_input": "2021-11-09T09:37:28.957280Z",
     "iopub.status.busy": "2021-11-09T09:37:28.956561Z",
     "iopub.status.idle": "2021-11-09T09:37:28.959296Z",
     "shell.execute_reply": "2021-11-09T09:37:28.958689Z",
     "shell.execute_reply.started": "2021-11-09T08:19:34.943209Z"
    },
    "papermill": {
     "duration": 0.100737,
     "end_time": "2021-11-09T09:37:28.959427",
     "exception": false,
     "start_time": "2021-11-09T09:37:28.858690",
     "status": "completed"
    },
    "tags": []
   },
   "outputs": [],
   "source": [
    "#CODE HERE"
   ]
  },
  {
   "cell_type": "code",
   "execution_count": 70,
   "id": "6643864e",
   "metadata": {
    "execution": {
     "iopub.execute_input": "2021-11-09T09:37:29.179312Z",
     "iopub.status.busy": "2021-11-09T09:37:29.151331Z",
     "iopub.status.idle": "2021-11-09T09:37:30.486919Z",
     "shell.execute_reply": "2021-11-09T09:37:30.486299Z",
     "shell.execute_reply.started": "2021-11-09T09:16:50.573890Z"
    },
    "papermill": {
     "duration": 1.43326,
     "end_time": "2021-11-09T09:37:30.487081",
     "exception": false,
     "start_time": "2021-11-09T09:37:29.053821",
     "status": "completed"
    },
    "tags": []
   },
   "outputs": [
    {
     "data": {
      "text/plain": [
       "<AxesSubplot: ylabel='Count'>"
      ]
     },
     "execution_count": 70,
     "metadata": {},
     "output_type": "execute_result"
    },
    {
     "data": {
      "image/png": "[encoded data removed]",
      "text/plain": [
       "<Figure size 1200x600 with 1 Axes>"
      ]
     },
     "metadata": {},
     "output_type": "display_data"
    }
   ],
   "source": [
    "plt.figure(figsize=(8,4), dpi=150)\n",
    "sns.histplot(data=norm_scores, bins=50)"
   ]
  },
  {
   "cell_type": "markdown",
   "id": "63abf998",
   "metadata": {
    "papermill": {
     "duration": 0.096964,
     "end_time": "2021-11-09T09:37:30.681081",
     "exception": false,
     "start_time": "2021-11-09T09:37:30.584117",
     "status": "completed"
    },
    "tags": []
   },
   "source": [
    "\n",
    "### How are the worst movies rated across all platforms?\n",
    "\n",
    "**TASK: Create a clustermap visualization of all normalized scores. Note the differences in ratings, highly rated movies should be clustered together versus poorly rated movies. Note: This clustermap does not need to have the FILM titles as the index, feel free to drop it for the clustermap.**"
   ]
  },
  {
   "cell_type": "code",
   "execution_count": null,
   "id": "be837642",
   "metadata": {
    "execution": {
     "iopub.execute_input": "2021-11-09T09:37:30.877654Z",
     "iopub.status.busy": "2021-11-09T09:37:30.877038Z",
     "iopub.status.idle": "2021-11-09T09:37:30.879017Z",
     "shell.execute_reply": "2021-11-09T09:37:30.879508Z",
     "shell.execute_reply.started": "2021-11-09T08:19:34.954579Z"
    },
    "papermill": {
     "duration": 0.102736,
     "end_time": "2021-11-09T09:37:30.879671",
     "exception": false,
     "start_time": "2021-11-09T09:37:30.776935",
     "status": "completed"
    },
    "tags": []
   },
   "outputs": [],
   "source": [
    "# CODE HERE"
   ]
  },
  {
   "cell_type": "code",
   "execution_count": 71,
   "id": "11f49be1",
   "metadata": {
    "execution": {
     "iopub.execute_input": "2021-11-09T09:37:31.074317Z",
     "iopub.status.busy": "2021-11-09T09:37:31.073373Z",
     "iopub.status.idle": "2021-11-09T09:37:31.737593Z",
     "shell.execute_reply": "2021-11-09T09:37:31.738104Z",
     "shell.execute_reply.started": "2021-11-09T09:20:54.721189Z"
    },
    "papermill": {
     "duration": 0.763367,
     "end_time": "2021-11-09T09:37:31.738310",
     "exception": false,
     "start_time": "2021-11-09T09:37:30.974943",
     "status": "completed"
    },
    "tags": []
   },
   "outputs": [
    {
     "data": {
      "text/plain": [
       "<seaborn.matrix.ClusterGrid at 0x279ff48e200>"
      ]
     },
     "execution_count": 71,
     "metadata": {},
     "output_type": "execute_result"
    },
    {
     "data": {
      "image/png": "[encoded data removed]",
      "text/plain": [
       "<Figure size 1000x1000 with 4 Axes>"
      ]
     },
     "metadata": {},
     "output_type": "display_data"
    }
   ],
   "source": [
    "sns.clustermap(norm_scores,cmap='inferno',col_cluster=False)"
   ]
  },
  {
   "cell_type": "markdown",
   "id": "3d34ea09",
   "metadata": {
    "papermill": {
     "duration": 0.097921,
     "end_time": "2021-11-09T09:37:31.934356",
     "exception": false,
     "start_time": "2021-11-09T09:37:31.836435",
     "status": "completed"
    },
    "tags": []
   },
   "source": [
    "**TASK: Clearly Fandango is rating movies much higher than other sites, especially considering that it is then displaying a rounded up version of the rating. Let's examine the top 10 worst movies. Based off the Rotten Tomatoes Critic Ratings, what are the top 10 lowest rated movies? What are the normalized scores across all platforms for these movies? You may need to add the FILM column back in to your DataFrame of normalized scores to see the results.**"
   ]
  },
  {
   "cell_type": "code",
   "execution_count": null,
   "id": "6188906e",
   "metadata": {
    "execution": {
     "iopub.execute_input": "2021-11-09T09:37:32.133250Z",
     "iopub.status.busy": "2021-11-09T09:37:32.132628Z",
     "iopub.status.idle": "2021-11-09T09:37:32.136704Z",
     "shell.execute_reply": "2021-11-09T09:37:32.137175Z",
     "shell.execute_reply.started": "2021-11-09T09:22:29.751620Z"
    },
    "papermill": {
     "duration": 0.105147,
     "end_time": "2021-11-09T09:37:32.137333",
     "exception": false,
     "start_time": "2021-11-09T09:37:32.032186",
     "status": "completed"
    },
    "tags": []
   },
   "outputs": [],
   "source": [
    "# CODE HERE\n",
    "norm_scores.columns"
   ]
  },
  {
   "cell_type": "code",
   "execution_count": 73,
   "id": "38ff5e60",
   "metadata": {
    "execution": {
     "iopub.execute_input": "2021-11-09T09:37:32.335608Z",
     "iopub.status.busy": "2021-11-09T09:37:32.335037Z",
     "iopub.status.idle": "2021-11-09T09:37:32.348360Z",
     "shell.execute_reply": "2021-11-09T09:37:32.348898Z",
     "shell.execute_reply.started": "2021-11-09T09:23:54.134761Z"
    },
    "papermill": {
     "duration": 0.114023,
     "end_time": "2021-11-09T09:37:32.349071",
     "exception": false,
     "start_time": "2021-11-09T09:37:32.235048",
     "status": "completed"
    },
    "tags": []
   },
   "outputs": [
    {
     "data": {
      "text/html": [
       "<div><div id=a24da153-bcac-4c5c-803a-7e3a3cde40a2 style=\"display:none; background-color:#9D6CFF; color:white; width:200px; height:30px; padding-left:5px; border-radius:4px; flex-direction:row; justify-content:space-around; align-items:center;\" onmouseover=\"this.style.backgroundColor='#BA9BF8'\" onmouseout=\"this.style.backgroundColor='#9D6CFF'\" onclick=\"window.commands?.execute('create-mitosheet-from-dataframe-output');\">See Full Dataframe in Mito</div> <script> if (window.commands?.hasCommand('create-mitosheet-from-dataframe-output')) document.getElementById('a24da153-bcac-4c5c-803a-7e3a3cde40a2').style.display = 'flex' </script> <table border=\"1\" class=\"dataframe\">\n",
       "  <thead>\n",
       "    <tr style=\"text-align: right;\">\n",
       "      <th></th>\n",
       "      <th>FILM</th>\n",
       "      <th>STARS</th>\n",
       "      <th>RATING</th>\n",
       "      <th>RT_Norm</th>\n",
       "      <th>RTU_Norm</th>\n",
       "      <th>Meta_Norm</th>\n",
       "      <th>Meta_U_Norm</th>\n",
       "      <th>IMDB_Norm</th>\n",
       "    </tr>\n",
       "  </thead>\n",
       "  <tbody>\n",
       "    <tr>\n",
       "      <th>0</th>\n",
       "      <td>Fifty Shades of Grey (2015)</td>\n",
       "      <td>4.0</td>\n",
       "      <td>3.9</td>\n",
       "      <td>1.2</td>\n",
       "      <td>2.1</td>\n",
       "      <td>2.3</td>\n",
       "      <td>1.6</td>\n",
       "      <td>2.1</td>\n",
       "    </tr>\n",
       "    <tr>\n",
       "      <th>1</th>\n",
       "      <td>Jurassic World (2015)</td>\n",
       "      <td>4.5</td>\n",
       "      <td>4.5</td>\n",
       "      <td>3.6</td>\n",
       "      <td>4.0</td>\n",
       "      <td>3.0</td>\n",
       "      <td>3.5</td>\n",
       "      <td>3.6</td>\n",
       "    </tr>\n",
       "    <tr>\n",
       "      <th>2</th>\n",
       "      <td>American Sniper (2015)</td>\n",
       "      <td>5.0</td>\n",
       "      <td>4.8</td>\n",
       "      <td>3.6</td>\n",
       "      <td>4.2</td>\n",
       "      <td>3.6</td>\n",
       "      <td>3.3</td>\n",
       "      <td>3.7</td>\n",
       "    </tr>\n",
       "    <tr>\n",
       "      <th>3</th>\n",
       "      <td>Furious 7 (2015)</td>\n",
       "      <td>5.0</td>\n",
       "      <td>4.8</td>\n",
       "      <td>4.0</td>\n",
       "      <td>4.2</td>\n",
       "      <td>3.4</td>\n",
       "      <td>3.4</td>\n",
       "      <td>3.7</td>\n",
       "    </tr>\n",
       "    <tr>\n",
       "      <th>4</th>\n",
       "      <td>Inside Out (2015)</td>\n",
       "      <td>4.5</td>\n",
       "      <td>4.5</td>\n",
       "      <td>4.9</td>\n",
       "      <td>4.5</td>\n",
       "      <td>4.7</td>\n",
       "      <td>4.4</td>\n",
       "      <td>4.3</td>\n",
       "    </tr>\n",
       "  </tbody>\n",
       "</table></div>"
      ],
      "text/plain": [
       "                          FILM  STARS  RATING  RT_Norm  RTU_Norm  Meta_Norm  \\\n",
       "0  Fifty Shades of Grey (2015)    4.0     3.9      1.2       2.1        2.3   \n",
       "1        Jurassic World (2015)    4.5     4.5      3.6       4.0        3.0   \n",
       "2       American Sniper (2015)    5.0     4.8      3.6       4.2        3.6   \n",
       "3             Furious 7 (2015)    5.0     4.8      4.0       4.2        3.4   \n",
       "4            Inside Out (2015)    4.5     4.5      4.9       4.5        4.7   \n",
       "\n",
       "   Meta_U_Norm  IMDB_Norm  \n",
       "0          1.6        2.1  \n",
       "1          3.5        3.6  \n",
       "2          3.3        3.7  \n",
       "3          3.4        3.7  \n",
       "4          4.4        4.3  "
      ]
     },
     "execution_count": 73,
     "metadata": {},
     "output_type": "execute_result"
    }
   ],
   "source": [
    "norm_films = df[['FILM','STARS', 'RATING', 'RT_Norm', 'RTU_Norm', 'Meta_Norm', 'Meta_U_Norm',\n",
    "       'IMDB_Norm']]\n",
    "norm_films.head()"
   ]
  },
  {
   "cell_type": "code",
   "execution_count": 81,
   "id": "1c883c1d",
   "metadata": {
    "execution": {
     "iopub.execute_input": "2021-11-09T09:37:32.550929Z",
     "iopub.status.busy": "2021-11-09T09:37:32.550296Z",
     "iopub.status.idle": "2021-11-09T09:37:32.554967Z",
     "shell.execute_reply": "2021-11-09T09:37:32.555450Z",
     "shell.execute_reply.started": "2021-11-09T09:26:31.727748Z"
    },
    "papermill": {
     "duration": 0.106347,
     "end_time": "2021-11-09T09:37:32.555611",
     "exception": false,
     "start_time": "2021-11-09T09:37:32.449264",
     "status": "completed"
    },
    "tags": []
   },
   "outputs": [
    {
     "ename": "TypeError",
     "evalue": "'DataFrame' object is not callable",
     "output_type": "error",
     "traceback": [
      "\u001b[1;31m---------------------------------------------------------------------------\u001b[0m",
      "\u001b[1;31mTypeError\u001b[0m                                 Traceback (most recent call last)",
      "Cell \u001b[1;32mIn [81], line 2\u001b[0m\n\u001b[0;32m      1\u001b[0m worst_films \u001b[38;5;241m=\u001b[39m norm_films\u001b[38;5;241m.\u001b[39mnsmallest(\u001b[38;5;241m10\u001b[39m,\u001b[38;5;124m'\u001b[39m\u001b[38;5;124mRT_Norm\u001b[39m\u001b[38;5;124m'\u001b[39m)\n\u001b[1;32m----> 2\u001b[0m \u001b[43mworst_films\u001b[49m\u001b[43m(\u001b[49m\u001b[43m)\u001b[49m\n",
      "\u001b[1;31mTypeError\u001b[0m: 'DataFrame' object is not callable"
     ]
    }
   ],
   "source": [
    "worst_films = norm_films.nsmallest(10,'RT_Norm')\n"
   ]
  },
  {
   "cell_type": "markdown",
   "id": "c3398d44",
   "metadata": {
    "papermill": {
     "duration": 0.097914,
     "end_time": "2021-11-09T09:37:32.751289",
     "exception": false,
     "start_time": "2021-11-09T09:37:32.653375",
     "status": "completed"
    },
    "tags": []
   },
   "source": [
    "**FINAL TASK: Visualize the distribution of ratings across all sites for the top 10 worst movies.**"
   ]
  },
  {
   "cell_type": "code",
   "execution_count": null,
   "id": "8d2ce161",
   "metadata": {
    "execution": {
     "iopub.execute_input": "2021-11-09T09:37:32.950109Z",
     "iopub.status.busy": "2021-11-09T09:37:32.949467Z",
     "iopub.status.idle": "2021-11-09T09:37:32.952243Z",
     "shell.execute_reply": "2021-11-09T09:37:32.952731Z",
     "shell.execute_reply.started": "2021-11-09T08:19:34.977957Z"
    },
    "papermill": {
     "duration": 0.104022,
     "end_time": "2021-11-09T09:37:32.952943",
     "exception": false,
     "start_time": "2021-11-09T09:37:32.848921",
     "status": "completed"
    },
    "tags": []
   },
   "outputs": [],
   "source": [
    "# CODE HERE"
   ]
  },
  {
   "cell_type": "code",
   "execution_count": 82,
   "id": "2f8ac76d",
   "metadata": {
    "execution": {
     "iopub.execute_input": "2021-11-09T09:37:33.155146Z",
     "iopub.status.busy": "2021-11-09T09:37:33.154506Z",
     "iopub.status.idle": "2021-11-09T09:37:33.548845Z",
     "shell.execute_reply": "2021-11-09T09:37:33.549303Z",
     "shell.execute_reply.started": "2021-11-09T09:27:08.624061Z"
    },
    "papermill": {
     "duration": 0.496377,
     "end_time": "2021-11-09T09:37:33.549462",
     "exception": false,
     "start_time": "2021-11-09T09:37:33.053085",
     "status": "completed"
    },
    "tags": []
   },
   "outputs": [
    {
     "data": {
      "text/html": [
       "<div><div id=42872f5d-5a94-4f06-9aef-067de7892956 style=\"display:none; background-color:#9D6CFF; color:white; width:200px; height:30px; padding-left:5px; border-radius:4px; flex-direction:row; justify-content:space-around; align-items:center;\" onmouseover=\"this.style.backgroundColor='#BA9BF8'\" onmouseout=\"this.style.backgroundColor='#9D6CFF'\" onclick=\"window.commands?.execute('create-mitosheet-from-dataframe-output');\">See Full Dataframe in Mito</div> <script> if (window.commands?.hasCommand('create-mitosheet-from-dataframe-output')) document.getElementById('42872f5d-5a94-4f06-9aef-067de7892956').style.display = 'flex' </script> <table border=\"1\" class=\"dataframe\">\n",
       "  <thead>\n",
       "    <tr style=\"text-align: right;\">\n",
       "      <th></th>\n",
       "      <th>FILM</th>\n",
       "      <th>STARS</th>\n",
       "      <th>RATING</th>\n",
       "      <th>RT_Norm</th>\n",
       "      <th>RTU_Norm</th>\n",
       "      <th>Meta_Norm</th>\n",
       "      <th>Meta_U_Norm</th>\n",
       "      <th>IMDB_Norm</th>\n",
       "    </tr>\n",
       "  </thead>\n",
       "  <tbody>\n",
       "    <tr>\n",
       "      <th>49</th>\n",
       "      <td>Paul Blart: Mall Cop 2 (2015)</td>\n",
       "      <td>3.5</td>\n",
       "      <td>3.5</td>\n",
       "      <td>0.2</td>\n",
       "      <td>1.8</td>\n",
       "      <td>0.6</td>\n",
       "      <td>1.2</td>\n",
       "      <td>2.2</td>\n",
       "    </tr>\n",
       "    <tr>\n",
       "      <th>25</th>\n",
       "      <td>Taken 3 (2015)</td>\n",
       "      <td>4.5</td>\n",
       "      <td>4.1</td>\n",
       "      <td>0.4</td>\n",
       "      <td>2.3</td>\n",
       "      <td>1.3</td>\n",
       "      <td>2.3</td>\n",
       "      <td>3.0</td>\n",
       "    </tr>\n",
       "    <tr>\n",
       "      <th>28</th>\n",
       "      <td>Fantastic Four (2015)</td>\n",
       "      <td>3.0</td>\n",
       "      <td>2.7</td>\n",
       "      <td>0.4</td>\n",
       "      <td>1.0</td>\n",
       "      <td>1.4</td>\n",
       "      <td>1.2</td>\n",
       "      <td>2.0</td>\n",
       "    </tr>\n",
       "    <tr>\n",
       "      <th>54</th>\n",
       "      <td>Hot Pursuit (2015)</td>\n",
       "      <td>4.0</td>\n",
       "      <td>3.7</td>\n",
       "      <td>0.4</td>\n",
       "      <td>1.8</td>\n",
       "      <td>1.6</td>\n",
       "      <td>1.8</td>\n",
       "      <td>2.4</td>\n",
       "    </tr>\n",
       "    <tr>\n",
       "      <th>84</th>\n",
       "      <td>Hitman: Agent 47 (2015)</td>\n",
       "      <td>4.0</td>\n",
       "      <td>3.9</td>\n",
       "      <td>0.4</td>\n",
       "      <td>2.4</td>\n",
       "      <td>1.4</td>\n",
       "      <td>1.6</td>\n",
       "      <td>3.0</td>\n",
       "    </tr>\n",
       "    <tr>\n",
       "      <th>50</th>\n",
       "      <td>The Boy Next Door (2015)</td>\n",
       "      <td>4.0</td>\n",
       "      <td>3.6</td>\n",
       "      <td>0.5</td>\n",
       "      <td>1.8</td>\n",
       "      <td>1.5</td>\n",
       "      <td>2.8</td>\n",
       "      <td>2.3</td>\n",
       "    </tr>\n",
       "    <tr>\n",
       "      <th>77</th>\n",
       "      <td>Seventh Son (2015)</td>\n",
       "      <td>3.5</td>\n",
       "      <td>3.2</td>\n",
       "      <td>0.6</td>\n",
       "      <td>1.8</td>\n",
       "      <td>1.5</td>\n",
       "      <td>2.0</td>\n",
       "      <td>2.8</td>\n",
       "    </tr>\n",
       "    <tr>\n",
       "      <th>78</th>\n",
       "      <td>Mortdecai (2015)</td>\n",
       "      <td>3.5</td>\n",
       "      <td>3.2</td>\n",
       "      <td>0.6</td>\n",
       "      <td>1.5</td>\n",
       "      <td>1.4</td>\n",
       "      <td>1.6</td>\n",
       "      <td>2.8</td>\n",
       "    </tr>\n",
       "    <tr>\n",
       "      <th>83</th>\n",
       "      <td>Sinister 2 (2015)</td>\n",
       "      <td>3.5</td>\n",
       "      <td>3.3</td>\n",
       "      <td>0.6</td>\n",
       "      <td>1.7</td>\n",
       "      <td>1.6</td>\n",
       "      <td>2.5</td>\n",
       "      <td>2.8</td>\n",
       "    </tr>\n",
       "    <tr>\n",
       "      <th>87</th>\n",
       "      <td>Unfinished Business (2015)</td>\n",
       "      <td>3.5</td>\n",
       "      <td>3.2</td>\n",
       "      <td>0.6</td>\n",
       "      <td>1.4</td>\n",
       "      <td>1.6</td>\n",
       "      <td>1.9</td>\n",
       "      <td>2.7</td>\n",
       "    </tr>\n",
       "  </tbody>\n",
       "</table></div>"
      ],
      "text/plain": [
       "                             FILM  STARS  RATING  RT_Norm  RTU_Norm  \\\n",
       "49  Paul Blart: Mall Cop 2 (2015)    3.5     3.5      0.2       1.8   \n",
       "25                 Taken 3 (2015)    4.5     4.1      0.4       2.3   \n",
       "28          Fantastic Four (2015)    3.0     2.7      0.4       1.0   \n",
       "54             Hot Pursuit (2015)    4.0     3.7      0.4       1.8   \n",
       "84        Hitman: Agent 47 (2015)    4.0     3.9      0.4       2.4   \n",
       "50       The Boy Next Door (2015)    4.0     3.6      0.5       1.8   \n",
       "77             Seventh Son (2015)    3.5     3.2      0.6       1.8   \n",
       "78               Mortdecai (2015)    3.5     3.2      0.6       1.5   \n",
       "83              Sinister 2 (2015)    3.5     3.3      0.6       1.7   \n",
       "87     Unfinished Business (2015)    3.5     3.2      0.6       1.4   \n",
       "\n",
       "    Meta_Norm  Meta_U_Norm  IMDB_Norm  \n",
       "49        0.6          1.2        2.2  \n",
       "25        1.3          2.3        3.0  \n",
       "28        1.4          1.2        2.0  \n",
       "54        1.6          1.8        2.4  \n",
       "84        1.4          1.6        3.0  \n",
       "50        1.5          2.8        2.3  \n",
       "77        1.5          2.0        2.8  \n",
       "78        1.4          1.6        2.8  \n",
       "83        1.6          2.5        2.8  \n",
       "87        1.6          1.9        2.7  "
      ]
     },
     "execution_count": 82,
     "metadata": {},
     "output_type": "execute_result"
    },
    {
     "data": {
      "image/png": "[encoded data removed]",
      "text/plain": [
       "<Figure size 1200x600 with 1 Axes>"
      ]
     },
     "metadata": {},
     "output_type": "display_data"
    }
   ],
   "source": [
    "plt.figure(figsize=(8,4), dpi=150)\n",
    "sns.kdeplot(data=worst_films, clip=[0,5], shade=True)\n",
    "worst_films"
   ]
  },
  {
   "cell_type": "markdown",
   "id": "de8df990",
   "metadata": {
    "papermill": {
     "duration": 0.10213,
     "end_time": "2021-11-09T09:37:33.754556",
     "exception": false,
     "start_time": "2021-11-09T09:37:33.652426",
     "status": "completed"
    },
    "tags": []
   },
   "source": [
    "---\n",
    "----\n",
    "\n",
    "<img src=\"https://upload.wikimedia.org/wikipedia/en/6/6f/Taken_3_poster.jpg\">\n",
    "\n",
    "**Final thoughts: Wow! Fandango is showing around 3-4 star ratings for films that are clearly bad! Notice the biggest offender, [Taken 3!](https://www.youtube.com/watch?v=tJrfImRCHJ0). Fandango is displaying 4.5 stars on their site for a film with an [average rating of 1.86](https://en.wikipedia.org/wiki/Taken_3#Critical_response) across the other platforms!**"
   ]
  },
  {
   "cell_type": "code",
   "execution_count": 77,
   "id": "8de40243",
   "metadata": {
    "execution": {
     "iopub.execute_input": "2021-11-09T09:37:33.964435Z",
     "iopub.status.busy": "2021-11-09T09:37:33.963724Z",
     "iopub.status.idle": "2021-11-09T09:37:33.966105Z",
     "shell.execute_reply": "2021-11-09T09:37:33.966641Z",
     "shell.execute_reply.started": "2021-11-09T09:36:31.944085Z"
    },
    "papermill": {
     "duration": 0.110486,
     "end_time": "2021-11-09T09:37:33.966812",
     "exception": false,
     "start_time": "2021-11-09T09:37:33.856326",
     "status": "completed"
    },
    "tags": []
   },
   "outputs": [
    {
     "data": {
      "text/plain": [
       "FILM           Taken 3 (2015)\n",
       "STARS                     4.5\n",
       "RATING                    4.1\n",
       "RT_Norm                   0.4\n",
       "RTU_Norm                  2.3\n",
       "Meta_Norm                 1.3\n",
       "Meta_U_Norm               2.3\n",
       "IMDB_Norm                 3.0\n",
       "Name: 25, dtype: object"
      ]
     },
     "execution_count": 77,
     "metadata": {},
     "output_type": "execute_result"
    }
   ],
   "source": [
    "worst_films.iloc[1]"
   ]
  },
  {
   "cell_type": "code",
   "execution_count": 78,
   "id": "7cda8d5f",
   "metadata": {
    "execution": {
     "iopub.execute_input": "2021-11-09T09:37:34.174623Z",
     "iopub.status.busy": "2021-11-09T09:37:34.174026Z",
     "iopub.status.idle": "2021-11-09T09:37:34.178231Z",
     "shell.execute_reply": "2021-11-09T09:37:34.178750Z",
     "shell.execute_reply.started": "2021-11-09T08:19:34.989961Z"
    },
    "papermill": {
     "duration": 0.110343,
     "end_time": "2021-11-09T09:37:34.178925",
     "exception": false,
     "start_time": "2021-11-09T09:37:34.068582",
     "status": "completed"
    },
    "tags": []
   },
   "outputs": [
    {
     "data": {
      "text/plain": [
       "9.3"
      ]
     },
     "execution_count": 78,
     "metadata": {},
     "output_type": "execute_result"
    }
   ],
   "source": [
    "0.4+2.3+1.3+2.3+3"
   ]
  },
  {
   "cell_type": "code",
   "execution_count": 79,
   "id": "0a1b13fa",
   "metadata": {
    "execution": {
     "iopub.execute_input": "2021-11-09T09:37:34.387330Z",
     "iopub.status.busy": "2021-11-09T09:37:34.385397Z",
     "iopub.status.idle": "2021-11-09T09:37:34.390819Z",
     "shell.execute_reply": "2021-11-09T09:37:34.390337Z",
     "shell.execute_reply.started": "2021-11-09T08:19:35.003735Z"
    },
    "papermill": {
     "duration": 0.110423,
     "end_time": "2021-11-09T09:37:34.390990",
     "exception": false,
     "start_time": "2021-11-09T09:37:34.280567",
     "status": "completed"
    },
    "tags": []
   },
   "outputs": [
    {
     "data": {
      "text/plain": [
       "1.86"
      ]
     },
     "execution_count": 79,
     "metadata": {},
     "output_type": "execute_result"
    }
   ],
   "source": [
    "9.3/5"
   ]
  },
  {
   "cell_type": "markdown",
   "id": "9534e907",
   "metadata": {
    "papermill": {
     "duration": 0.102731,
     "end_time": "2021-11-09T09:37:34.597269",
     "exception": false,
     "start_time": "2021-11-09T09:37:34.494538",
     "status": "completed"
    },
    "tags": []
   },
   "source": [
    "----"
   ]
  }
 ],
 "metadata": {
  "kernelspec": {
   "display_name": "Python 3 (ipykernel)",
   "language": "python",
   "name": "python3"
  },
  "language_info": {
   "codemirror_mode": {
    "name": "ipython",
    "version": 3
   },
   "file_extension": ".py",
   "mimetype": "text/x-python",
   "name": "python",
   "nbconvert_exporter": "python",
   "pygments_lexer": "ipython3",
   "version": "3.10.7"
  },
  "papermill": {
   "default_parameters": {},
   "duration": 37.633659,
   "end_time": "2021-11-09T09:37:35.411220",
   "environment_variables": {},
   "exception": null,
   "input_path": "__notebook__.ipynb",
   "output_path": "__notebook__.ipynb",
   "parameters": {},
   "start_time": "2021-11-09T09:36:57.777561",
   "version": "2.3.3"
  }
 },
 "nbformat": 4,
 "nbformat_minor": 5
}
